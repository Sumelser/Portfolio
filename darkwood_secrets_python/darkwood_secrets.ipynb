{
 "cells": [
  {
   "cell_type": "markdown",
   "id": "e06910dd",
   "metadata": {
    "id": "e06910dd"
   },
   "source": [
    "# Секреты темнолесья\n",
    "\n",
    "- Автор: Сумарокова Елизавета Сергеевна\n",
    "- Дата: 10.03.2025"
   ]
  },
  {
   "cell_type": "markdown",
   "id": "4149134c",
   "metadata": {
    "id": "4149134c"
   },
   "source": [
    "### Цели и задачи проекта\n",
    "Изучить и проанализировать данные, чтобы помочь команде игры \"Секреты Темнолесья\" привлечь новую аудиторию и подготовить статью о развитии индустрии игр в начале XXI века."
   ]
  },
  {
   "cell_type": "markdown",
   "id": "728986ea",
   "metadata": {
    "id": "728986ea"
   },
   "source": [
    "### Описание данных\n",
    "В проекте будут использованы данные датасета `/datasets/new_games.csv` с таким описанием:\n",
    "- `Name` — название игры.\n",
    "- `Platform` — название платформы.\n",
    "- `Year of Release` — год выпуска игры.\n",
    "- `Genre` — жанр игры.\n",
    "- `NA sales` — продажи в Северной Америке (в миллионах проданных копий).\n",
    "- `EU sales` — продажи в Европе (в миллионах проданных копий).\n",
    "- `JP sales` — продажи в Японии (в миллионах проданных копий).\n",
    "- `Other sales` — продажи в других странах (в миллионах проданных копий).\n",
    "- `Critic Score` — оценка критиков (от 0 до 100).\n",
    "- `User Scor`e — оценка пользователей (от 0 до 10).\n",
    "- `Rating` — рейтинг организации ESRB (англ. Entertainment Software Rating Board). Эта ассоциация определяет рейтинг компьютерных игр и присваивает им подходящую возрастную категорию."
   ]
  },
  {
   "cell_type": "markdown",
   "id": "4fecaf95",
   "metadata": {
    "id": "4fecaf95"
   },
   "source": [
    "### Содержимое проекта\n",
    "1. Загрузка и знакомство с данными\n",
    "2. Проверка ошибок в данных и их предобработка\n",
    "    * Названия столбцов датафрейма\n",
    "    * Корректировка типа данных\n",
    "    * Поиск пропущенных значений\n",
    "    * Работа с дубликатами\n",
    "3. Фильтрация данных\n",
    "4. Категоризация данных\n",
    "5. Итоговые выводы"
   ]
  },
  {
   "cell_type": "markdown",
   "id": "6f7d21d6",
   "metadata": {
    "id": "6f7d21d6"
   },
   "source": [
    "## Загрузка и знакомство с данными:\n",
    "\n",
    "Загрузим необходимые библиотеки для анализа данных и данные из датасета `/datasets/new_games.csv`. Затем выведем основную информацию о данных с помощью метода `info()` и первые строки датафрейма."
   ]
  },
  {
   "cell_type": "code",
   "execution_count": 1,
   "id": "ebb66dc5",
   "metadata": {
    "id": "ebb66dc5"
   },
   "outputs": [],
   "source": [
    "# Импортируем библиотеку pandas\n",
    "import pandas as pd"
   ]
  },
  {
   "cell_type": "code",
   "execution_count": 2,
   "id": "ce87c1db",
   "metadata": {
    "id": "ce87c1db"
   },
   "outputs": [],
   "source": [
    "# Выгружаем данные из датасета hotel_dataset.csv в датафрейм hotels\n",
    "dataset = 'https://code.s3.yandex.net//datasets/new_games.csv'\n",
    "games = pd.read_csv(dataset)"
   ]
  },
  {
   "cell_type": "code",
   "execution_count": 3,
   "id": "90fee493",
   "metadata": {
    "id": "90fee493"
   },
   "outputs": [
    {
     "name": "stdout",
     "output_type": "stream",
     "text": [
      "<class 'pandas.core.frame.DataFrame'>\n",
      "RangeIndex: 16956 entries, 0 to 16955\n",
      "Data columns (total 11 columns):\n",
      " #   Column           Non-Null Count  Dtype  \n",
      "---  ------           --------------  -----  \n",
      " 0   Name             16954 non-null  object \n",
      " 1   Platform         16956 non-null  object \n",
      " 2   Year of Release  16681 non-null  float64\n",
      " 3   Genre            16954 non-null  object \n",
      " 4   NA sales         16956 non-null  float64\n",
      " 5   EU sales         16956 non-null  object \n",
      " 6   JP sales         16956 non-null  object \n",
      " 7   Other sales      16956 non-null  float64\n",
      " 8   Critic Score     8242 non-null   float64\n",
      " 9   User Score       10152 non-null  object \n",
      " 10  Rating           10085 non-null  object \n",
      "dtypes: float64(4), object(7)\n",
      "memory usage: 1.4+ MB\n"
     ]
    }
   ],
   "source": [
    "# Выводим информацию о датафрейме\n",
    "games.info()"
   ]
  },
  {
   "cell_type": "code",
   "execution_count": 4,
   "id": "ab857894",
   "metadata": {
    "id": "e0a8705f"
   },
   "outputs": [
    {
     "data": {
      "text/html": [
       "<div>\n",
       "<style scoped>\n",
       "    .dataframe tbody tr th:only-of-type {\n",
       "        vertical-align: middle;\n",
       "    }\n",
       "\n",
       "    .dataframe tbody tr th {\n",
       "        vertical-align: top;\n",
       "    }\n",
       "\n",
       "    .dataframe thead th {\n",
       "        text-align: right;\n",
       "    }\n",
       "</style>\n",
       "<table border=\"1\" class=\"dataframe\">\n",
       "  <thead>\n",
       "    <tr style=\"text-align: right;\">\n",
       "      <th></th>\n",
       "      <th>Name</th>\n",
       "      <th>Platform</th>\n",
       "      <th>Year of Release</th>\n",
       "      <th>Genre</th>\n",
       "      <th>NA sales</th>\n",
       "      <th>EU sales</th>\n",
       "      <th>JP sales</th>\n",
       "      <th>Other sales</th>\n",
       "      <th>Critic Score</th>\n",
       "      <th>User Score</th>\n",
       "      <th>Rating</th>\n",
       "    </tr>\n",
       "  </thead>\n",
       "  <tbody>\n",
       "    <tr>\n",
       "      <th>0</th>\n",
       "      <td>Wii Sports</td>\n",
       "      <td>Wii</td>\n",
       "      <td>2006.0</td>\n",
       "      <td>Sports</td>\n",
       "      <td>41.36</td>\n",
       "      <td>28.96</td>\n",
       "      <td>3.77</td>\n",
       "      <td>8.45</td>\n",
       "      <td>76.0</td>\n",
       "      <td>8</td>\n",
       "      <td>E</td>\n",
       "    </tr>\n",
       "    <tr>\n",
       "      <th>1</th>\n",
       "      <td>Super Mario Bros.</td>\n",
       "      <td>NES</td>\n",
       "      <td>1985.0</td>\n",
       "      <td>Platform</td>\n",
       "      <td>29.08</td>\n",
       "      <td>3.58</td>\n",
       "      <td>6.81</td>\n",
       "      <td>0.77</td>\n",
       "      <td>NaN</td>\n",
       "      <td>NaN</td>\n",
       "      <td>NaN</td>\n",
       "    </tr>\n",
       "    <tr>\n",
       "      <th>2</th>\n",
       "      <td>Mario Kart Wii</td>\n",
       "      <td>Wii</td>\n",
       "      <td>2008.0</td>\n",
       "      <td>Racing</td>\n",
       "      <td>15.68</td>\n",
       "      <td>12.76</td>\n",
       "      <td>3.79</td>\n",
       "      <td>3.29</td>\n",
       "      <td>82.0</td>\n",
       "      <td>8.3</td>\n",
       "      <td>E</td>\n",
       "    </tr>\n",
       "    <tr>\n",
       "      <th>3</th>\n",
       "      <td>Wii Sports Resort</td>\n",
       "      <td>Wii</td>\n",
       "      <td>2009.0</td>\n",
       "      <td>Sports</td>\n",
       "      <td>15.61</td>\n",
       "      <td>10.93</td>\n",
       "      <td>3.28</td>\n",
       "      <td>2.95</td>\n",
       "      <td>80.0</td>\n",
       "      <td>8</td>\n",
       "      <td>E</td>\n",
       "    </tr>\n",
       "    <tr>\n",
       "      <th>4</th>\n",
       "      <td>Pokemon Red/Pokemon Blue</td>\n",
       "      <td>GB</td>\n",
       "      <td>1996.0</td>\n",
       "      <td>Role-Playing</td>\n",
       "      <td>11.27</td>\n",
       "      <td>8.89</td>\n",
       "      <td>10.22</td>\n",
       "      <td>1.00</td>\n",
       "      <td>NaN</td>\n",
       "      <td>NaN</td>\n",
       "      <td>NaN</td>\n",
       "    </tr>\n",
       "  </tbody>\n",
       "</table>\n",
       "</div>"
      ],
      "text/plain": [
       "                       Name Platform  Year of Release         Genre  NA sales  \\\n",
       "0                Wii Sports      Wii           2006.0        Sports     41.36   \n",
       "1         Super Mario Bros.      NES           1985.0      Platform     29.08   \n",
       "2            Mario Kart Wii      Wii           2008.0        Racing     15.68   \n",
       "3         Wii Sports Resort      Wii           2009.0        Sports     15.61   \n",
       "4  Pokemon Red/Pokemon Blue       GB           1996.0  Role-Playing     11.27   \n",
       "\n",
       "  EU sales JP sales  Other sales  Critic Score User Score Rating  \n",
       "0    28.96     3.77         8.45          76.0          8      E  \n",
       "1     3.58     6.81         0.77           NaN        NaN    NaN  \n",
       "2    12.76     3.79         3.29          82.0        8.3      E  \n",
       "3    10.93     3.28         2.95          80.0          8      E  \n",
       "4     8.89    10.22         1.00           NaN        NaN    NaN  "
      ]
     },
     "execution_count": 4,
     "metadata": {},
     "output_type": "execute_result"
    }
   ],
   "source": [
    "# Выводим первые строки датафрейма на экран\n",
    "games.head()"
   ]
  },
  {
   "cell_type": "markdown",
   "id": "cbfb88e4",
   "metadata": {
    "id": "3937acf7"
   },
   "source": [
    "Датасет `/datasets/new_games.csv` содержит 11 столбцов и 1695 строк, в которых представлена информация о компьютерных играх.\n",
    "\n",
    "Изучим типыфданных и их корректность:\n",
    "\n",
    "- **Числовые значения с плавающей запятой (float64).** Четыре столбца имеют тип данных `float64`:\n",
    "    - `Year of Release` содержит информацию о годе выпуска игры, здесь тип данных можно заменить на `int`.\n",
    "    - `NA sales`, `Other sales` содержит информацию о количестве продаж в Севернной Америке (в миллионах копий), здесь тип данных `float64` подходит.\n",
    "    - `Critic Score` содержит информацию об оценке критиков. Здесь тип данных `float64` подходит.\n",
    "\n",
    "- **Строковые данные (object).** Семь столбцов имеют тип данных `object`:\n",
    "    - `Name`, `Platform`, `Genre`, `Rating` содержат строковую информацию (название игры, платформы, жанр, рейтинг организации ESRB), что логично для текстовых данных. Здесь тип данных `object` подходит.\n",
    "    - `EU sales`, `JP sales`, `User Score` хранят информацию о количестве продаж в Европе и Японии и о пользовательском рейтинге игры. Для этих данных лучше подопйдёт тип данных `float64`.\n",
    "\n",
    "После анализа типов данных видно, что часть столбцов представлены некорректно, и для оптимизации работы необходимо преобразовать строковые данные, содержащие численную нформацию, к типу `float64`.\n"
   ]
  },
  {
   "cell_type": "markdown",
   "id": "85c97ab3",
   "metadata": {
    "id": "d7c8eb4b"
   },
   "source": [
    "## Проверка ошибок в данных и их предобработка"
   ]
  },
  {
   "cell_type": "markdown",
   "id": "61efd30e",
   "metadata": {
    "id": "fc561cac"
   },
   "source": [
    "#### Названия столбцов датафрейма"
   ]
  },
  {
   "cell_type": "code",
   "execution_count": 5,
   "id": "6f9e5d11",
   "metadata": {
    "id": "26267bc0"
   },
   "outputs": [
    {
     "data": {
      "text/plain": [
       "Index(['Name', 'Platform', 'Year of Release', 'Genre', 'NA sales', 'EU sales',\n",
       "       'JP sales', 'Other sales', 'Critic Score', 'User Score', 'Rating'],\n",
       "      dtype='object')"
      ]
     },
     "metadata": {},
     "output_type": "display_data"
    }
   ],
   "source": [
    "# Выводим названия столбцов датафрейма\n",
    "display(games.columns)"
   ]
  },
  {
   "cell_type": "code",
   "execution_count": 6,
   "id": "bb05e236",
   "metadata": {
    "id": "05f55eb6"
   },
   "outputs": [
    {
     "data": {
      "text/plain": [
       "Index(['name', 'platform', 'year_of_release', 'genre', 'na_sales', 'eu_sales',\n",
       "       'jp_sales', 'other_sales', 'critic_score', 'user_score', 'rating'],\n",
       "      dtype='object')"
      ]
     },
     "metadata": {},
     "output_type": "display_data"
    }
   ],
   "source": [
    "# Переводим названия столбцов к стилю snake_case\n",
    "# Переводим названия в нижний регистр\n",
    "games.columns = games.columns.str.lower()\n",
    "# Заменяем пробелы на знак нижнего подчёркивания\n",
    "games.columns = games.columns.str.replace(' ', '_')\n",
    "# Выводим результат для проверки\n",
    "display(games.columns)"
   ]
  },
  {
   "cell_type": "markdown",
   "id": "e9e90a52",
   "metadata": {
    "id": "81651b8d"
   },
   "source": [
    "#### Корректировка типа данных"
   ]
  },
  {
   "cell_type": "code",
   "execution_count": 7,
   "id": "191981db",
   "metadata": {
    "id": "191981db"
   },
   "outputs": [],
   "source": [
    "# Преобразовываем типы данных столбцов 'EU sales','JP sales', 'User Score'\n",
    "# к типу float64\n",
    "for column in ['eu_sales','jp_sales', 'user_score']:\n",
    "    games[column] = pd.to_numeric(games[column], errors='coerce')\n",
    "#Заменяем пропуски в колонке 'Year of Release' на 9999\n",
    "games['year_of_release'] = games['year_of_release'].fillna(9999)\n",
    "#Преобразовываем тип данных столбца 'Year of Release' к типу данных int64\n",
    "games['year_of_release'] = games['year_of_release'].astype('int64')"
   ]
  },
  {
   "cell_type": "code",
   "execution_count": 8,
   "id": "b9276a2b",
   "metadata": {
    "id": "b9276a2b"
   },
   "outputs": [
    {
     "data": {
      "text/plain": [
       "eu_sales           float64\n",
       "jp_sales           float64\n",
       "user_score         float64\n",
       "year_of_release      int64\n",
       "dtype: object"
      ]
     },
     "execution_count": 8,
     "metadata": {},
     "output_type": "execute_result"
    }
   ],
   "source": [
    "games[['eu_sales','jp_sales', 'user_score', 'year_of_release']].dtypes"
   ]
  },
  {
   "cell_type": "markdown",
   "id": "481d74b0",
   "metadata": {
    "id": "d554563c"
   },
   "source": [
    "Для оптимизации работы с данными в датафрейме были сделаны такие изменения типов данных:\n",
    "- `year_of_release`: тип данных изменён с `float64` на `int64`. Для этого в начале в столбце все пропуски были заменены на нули. Изначально тип данных для столбца определялся как `float64`, вероятнее всего, из-за наличия пропусков.\n",
    "- `eu_sales`,`jp_sales`, `user_score`: тип данных изменён с `object` на `float64`. Изначально тип данных для этих столбцов определялся как `object`, вероятнее всего, из-за наличия и, возможно, различного обозначения внутри данных пропусков."
   ]
  },
  {
   "cell_type": "code",
   "execution_count": 9,
   "id": "23ec9b5c",
   "metadata": {},
   "outputs": [
    {
     "data": {
      "text/plain": [
       "array(['28.96', '3.58', '12.76', '10.93', '8.89', '2.26', '9.14', '9.18',\n",
       "       '6.94', '0.63', '10.95', '7.47', '6.18', '8.03', '4.89', '8.49',\n",
       "       '9.09', '0.4', '3.75', '9.2', '4.46', '2.71', '3.44', '5.14',\n",
       "       '5.49', '3.9', '5.35', '3.17', '5.09', '4.24', '5.04', '5.86',\n",
       "       '3.68', '4.19', '5.73', '3.59', '4.51', '2.55', '4.02', '4.37',\n",
       "       '6.31', '3.45', '2.81', '2.85', '3.49', '0.01', '3.35', '2.04',\n",
       "       '3.07', '3.87', '3.0', '4.82', '3.64', '2.15', '3.69', '2.65',\n",
       "       '2.56', '3.11', '3.14', '1.94', '1.95', '2.47', '2.28', '3.42',\n",
       "       '3.63', '2.36', '1.71', '1.85', '2.79', '1.24', '6.12', '1.53',\n",
       "       '3.47', '2.24', '5.01', '2.01', '1.72', '2.07', '6.42', '3.86',\n",
       "       '0.45', '3.48', '1.89', '5.75', '2.17', '1.37', '2.35', '1.18',\n",
       "       '2.11', '1.88', '2.83', '2.99', '2.89', '3.27', '2.22', '2.14',\n",
       "       '1.45', '1.75', '1.04', '1.77', '3.02', '2.75', '2.16', '1.9',\n",
       "       '2.59', '2.2', '4.3', '0.93', '2.53', '2.52', '1.79', '1.3', '2.6',\n",
       "       '1.58', '1.2', '1.56', '1.34', '1.26', '0.83', '6.21', '2.8',\n",
       "       '1.59', '1.73', '4.33', '1.83', '0.0', '2.18', '1.98', '1.47',\n",
       "       '0.67', '1.55', '1.91', '0.69', '0.6', '1.93', '1.64', '0.55',\n",
       "       '2.19', '1.11', '2.29', '2.5', '0.96', '1.21', '1.12', '0.77',\n",
       "       '1.69', '1.08', '0.79', '2.37', '2.46', '0.26', '0.75', '1.25',\n",
       "       '2.43', '0.98', '0.74', '2.23', '0.61', '2.45', '1.41', '1.8',\n",
       "       '3.28', '1.16', '1.99', '1.38', '1.36', '1.17', '1.19', '0.99',\n",
       "       '1.68', '2.0', '1.33', '1.57', '1.48', '2.1', '1.27', '1.97',\n",
       "       '0.91', '1.39', '1.96', '0.24', '1.51', '0.14', '1.29', '2.39',\n",
       "       '1.03', '0.5', '0.58', '1.31', '2.02', '1.32', '1.01', '2.27',\n",
       "       '2.3', '1.82', '2.78', '0.44', '0.48', '0.27', '0.21', '2.48',\n",
       "       '0.51', '1.52', '0.04', '0.28', '1.35', '0.87', '2.13', '1.13',\n",
       "       '1.76', '0.76', '2.12', '0.66', '1.6', '1.44', '1.43', '1.7',\n",
       "       '0.47', '1.87', '0.86', '0.73', '1.28', '0.81', '1.09', '0.68',\n",
       "       '1.22', '1.4', '1.02', '1.49', '1.14', '0.49', '0.9', '0.38',\n",
       "       '1.42', '0.95', '1.62', '0.71', '1.05', '0.92', '0.33', '0.3',\n",
       "       '1.67', '1.0', '0.89', '0.1', '0.72', '0.59', '0.56', '0.16',\n",
       "       '0.97', '0.62', 'unknown', '0.85', '0.94', '0.88', '0.84', '1.06',\n",
       "       '0.2', '1.15', '0.8', '1.1', '0.7', '1.92', '0.32', '0.15', '0.53',\n",
       "       '0.09', '1.46', '0.29', '0.22', '1.23', '0.07', '0.17', '0.54',\n",
       "       '0.36', '0.31', '1.84', '0.52', '0.11', '0.64', '0.12', '2.05',\n",
       "       '1.63', '0.82', '0.08', '0.57', '1.65', '0.19', '0.02', '0.43',\n",
       "       '0.25', '1.5', '0.18', '0.39', '0.13', '1.07', '0.46', '0.41',\n",
       "       '0.06', '0.03', '0.37', '0.05', '0.23', '0.65', '0.42', '0.34',\n",
       "       '0.35', '0.78'], dtype=object)"
      ]
     },
     "metadata": {},
     "output_type": "display_data"
    },
    {
     "data": {
      "text/plain": [
       "array(['3.77', '6.81', '3.79', '3.28', '10.22', '4.22', '6.5', '2.93',\n",
       "       '4.7', '0.28', '1.93', '4.13', '7.2', '3.6', '0.24', '2.53',\n",
       "       '0.98', '0.41', '3.54', '4.16', '6.04', '4.18', '3.84', '0.06',\n",
       "       '0.47', '5.38', '5.32', '5.65', '1.87', '0.13', '3.12', '0.36',\n",
       "       '0.11', '4.35', '0.65', '0.07', '0.08', '0.49', '0.3', '2.66',\n",
       "       '2.69', '0.48', '0.38', '5.33', '1.91', '3.96', '3.1', '1.1',\n",
       "       '1.2', '0.14', '2.54', '2.14', '0.81', '2.12', '0.44', '3.15',\n",
       "       '1.25', '0.04', '0.0', '2.47', '2.23', '1.69', '0.01', '3.0',\n",
       "       '0.02', '4.39', '1.98', '0.1', '3.81', '0.05', '2.49', '1.58',\n",
       "       '3.14', '2.73', '0.66', '0.22', '3.63', '1.45', '1.31', '2.43',\n",
       "       '0.7', '0.35', '1.4', '0.6', '2.26', '1.42', '1.28', '1.39',\n",
       "       '0.87', '0.17', '0.94', '0.19', '0.21', '1.6', '0.16', '1.03',\n",
       "       '0.25', '2.06', '1.49', '1.29', '0.09', '2.87', '0.03', '0.78',\n",
       "       '0.83', '2.33', '2.02', '1.36', '1.81', '1.97', '0.91', '0.99',\n",
       "       '0.95', '2.0', '1.01', '2.78', '2.11', '1.09', '0.2', '1.9',\n",
       "       '1.27', '3.61', '1.57', '2.2', '1.7', '1.08', '0.15', '1.11',\n",
       "       '0.29', '1.54', '0.12', '0.89', '4.87', '1.52', '1.32', '1.15',\n",
       "       '4.1', '1.46', '0.46', '1.05', '1.61', '0.26', '1.38', '0.62',\n",
       "       '0.73', '0.57', '0.31', '0.58', '1.76', '2.1', '0.9', '0.51',\n",
       "       '0.64', '2.46', '0.23', '0.37', '0.92', '1.07', '2.62', '1.12',\n",
       "       '0.54', '0.27', '0.59', '3.67', '0.55', '1.75', '3.44', '0.33',\n",
       "       '2.55', '2.32', '2.79', '0.74', '3.18', '0.82', '0.77', '0.4',\n",
       "       '2.35', '3.19', '0.8', '0.76', '3.03', '0.88', 'unknown', '0.45',\n",
       "       '1.16', '0.34', '1.19', '1.13', '2.13', '1.96', '0.71', '1.04',\n",
       "       '2.68', '0.68', '2.65', '0.96', '2.41', '0.52', '0.18', '1.34',\n",
       "       '1.48', '2.34', '1.06', '1.21', '2.29', '1.63', '2.05', '2.17',\n",
       "       '1.56', '1.35', '1.33', '0.63', '0.79', '0.75', '0.53', '1.53',\n",
       "       '1.3', '0.39', '0.69', '0.42', '0.93', '0.56', '0.84', '0.72',\n",
       "       '0.32', '1.71', '1.65', '0.61', '1.51', '1.5', '1.44', '1.24',\n",
       "       '1.18', '1.37', '1.0', '1.26', '0.85', '0.43', '0.67', '1.14',\n",
       "       '0.86', '1.17', '0.5', '1.02', '0.97'], dtype=object)"
      ]
     },
     "metadata": {},
     "output_type": "display_data"
    },
    {
     "data": {
      "text/plain": [
       "array(['8', nan, '8.3', '8.5', '6.6', '8.4', '8.6', '7.7', '6.3', '7.4',\n",
       "       '8.2', '9', '7.9', '8.1', '8.7', '7.1', '3.4', '5.3', '4.8', '3.2',\n",
       "       '8.9', '6.4', '7.8', '7.5', '2.6', '7.2', '9.2', '7', '7.3', '4.3',\n",
       "       '7.6', '5.7', '5', '9.1', '6.5', 'tbd', '8.8', '6.9', '9.4', '6.8',\n",
       "       '6.1', '6.7', '5.4', '4', '4.9', '4.5', '9.3', '6.2', '4.2', '6',\n",
       "       '3.7', '4.1', '5.8', '5.6', '5.5', '4.4', '4.6', '5.9', '3.9',\n",
       "       '3.1', '2.9', '5.2', '3.3', '4.7', '5.1', '3.5', '2.5', '1.9', '3',\n",
       "       '2.7', '2.2', '2', '9.5', '2.1', '3.6', '2.8', '1.8', '3.8', '0',\n",
       "       '1.6', '9.6', '2.4', '1.7', '1.1', '0.3', '1.5', '0.7', '1.2',\n",
       "       '2.3', '0.5', '1.3', '0.2', '0.6', '1.4', '0.9', '1', '9.7'],\n",
       "      dtype=object)"
      ]
     },
     "metadata": {},
     "output_type": "display_data"
    }
   ],
   "source": [
    "# Проверим гипотезу\n",
    "# создадим новый датафрейм, так как в рабочем данные уже изменены\n",
    "df = pd.read_csv(dataset)\n",
    "# выведем уникальные значения столбцов EU sales, JP sales и User Score\n",
    "display(df['EU sales'].unique())\n",
    "display(df['JP sales'].unique())\n",
    "display(df['User Score'].unique())"
   ]
  },
  {
   "cell_type": "markdown",
   "id": "be9ee054",
   "metadata": {},
   "source": [
    "Действительно видно, что в столбцах `eu_sales`,`jp_sales` пропущенные значения обозначались как 'unknown', а в столбце `user_score` как 'nan, а также присутствуют значения 'tbd', которые, вероятно, являются аббревиатурой от английского \"To Be Determined\" и, по сути, тоже являются пропуском."
   ]
  },
  {
   "cell_type": "markdown",
   "id": "6ce27665",
   "metadata": {
    "id": "87b573dd"
   },
   "source": [
    "#### Поиск пропущенных значений"
   ]
  },
  {
   "cell_type": "code",
   "execution_count": 10,
   "id": "117fbb06",
   "metadata": {
    "id": "41bc6bf8"
   },
   "outputs": [
    {
     "data": {
      "text/plain": [
       "name                  2\n",
       "platform              0\n",
       "year_of_release       0\n",
       "genre                 2\n",
       "na_sales              0\n",
       "eu_sales              6\n",
       "jp_sales              4\n",
       "other_sales           0\n",
       "critic_score       8714\n",
       "user_score         9268\n",
       "rating             6871\n",
       "dtype: int64"
      ]
     },
     "execution_count": 10,
     "metadata": {},
     "output_type": "execute_result"
    }
   ],
   "source": [
    "# Выводим количество пропущенных строк в датафрейме\n",
    "games.isna().sum()"
   ]
  },
  {
   "cell_type": "code",
   "execution_count": 11,
   "id": "8adaac81",
   "metadata": {
    "id": "8adaac81"
   },
   "outputs": [
    {
     "data": {
      "text/plain": [
       "name                0.011795\n",
       "platform            0.000000\n",
       "year_of_release     0.000000\n",
       "genre               0.011795\n",
       "na_sales            0.000000\n",
       "eu_sales            0.035386\n",
       "jp_sales            0.023590\n",
       "other_sales         0.000000\n",
       "critic_score       51.391838\n",
       "user_score         54.659118\n",
       "rating             40.522529\n",
       "dtype: float64"
      ]
     },
     "execution_count": 11,
     "metadata": {},
     "output_type": "execute_result"
    }
   ],
   "source": [
    "# Подсчитываем процент строк с пропусками\n",
    "games.isna().sum() / len(games) * 100"
   ]
  },
  {
   "cell_type": "code",
   "execution_count": 12,
   "id": "e8412c01",
   "metadata": {
    "id": "e8412c01"
   },
   "outputs": [
    {
     "data": {
      "text/plain": [
       "275"
      ]
     },
     "metadata": {},
     "output_type": "display_data"
    },
    {
     "data": {
      "text/plain": [
       "1.6218447747110165"
      ]
     },
     "metadata": {},
     "output_type": "display_data"
    }
   ],
   "source": [
    "# Вспомним, что раннее мы заменили пропуски на нули в столбце year_of_release\n",
    "display(games[games['year_of_release']==9999]['year_of_release'].count())\n",
    "display(games[games['year_of_release']==9999]['year_of_release'].count()/len(games)*100)"
   ]
  },
  {
   "cell_type": "markdown",
   "id": "c09a3c21",
   "metadata": {
    "id": "9e53cff4"
   },
   "source": [
    "Пропуски данных имеются в столбцах `name` (2 или 0,01%), `genre` (2 или 0,01%), eu_sales (6 или 0.04%),`jp_sales` (4 или 0.03%), `critic_score` (8714 или 51,40%), `user_score` (9268 или 54,66%), `Rating` (6871 или 40,52%).\n",
    "\n",
    "Строки с пропусками в столбцах `name`, `genre`, `eu_sales` и `jp_sales` можно удалить, так как их очень мало и они не будут оказывать влияние на результаты анализа. Но даже их наличие не будет влиять на результаты анализа, поскольку нас интересуют другие столбцы.\n",
    "\n",
    "Также пропуски есть в столбце `year_of_release` (275 или 1,62%). Их не так много и их можно удалить из датафрейма."
   ]
  },
  {
   "cell_type": "code",
   "execution_count": 13,
   "id": "b0a16b50",
   "metadata": {
    "id": "63378edf"
   },
   "outputs": [
    {
     "data": {
      "text/html": [
       "<div>\n",
       "<style scoped>\n",
       "    .dataframe tbody tr th:only-of-type {\n",
       "        vertical-align: middle;\n",
       "    }\n",
       "\n",
       "    .dataframe tbody tr th {\n",
       "        vertical-align: top;\n",
       "    }\n",
       "\n",
       "    .dataframe thead th {\n",
       "        text-align: right;\n",
       "    }\n",
       "</style>\n",
       "<table border=\"1\" class=\"dataframe\">\n",
       "  <thead>\n",
       "    <tr style=\"text-align: right;\">\n",
       "      <th></th>\n",
       "      <th>name</th>\n",
       "      <th>platform</th>\n",
       "      <th>year_of_release</th>\n",
       "      <th>genre</th>\n",
       "      <th>na_sales</th>\n",
       "      <th>eu_sales</th>\n",
       "      <th>jp_sales</th>\n",
       "      <th>other_sales</th>\n",
       "      <th>critic_score</th>\n",
       "      <th>user_score</th>\n",
       "      <th>rating</th>\n",
       "    </tr>\n",
       "  </thead>\n",
       "  <tbody>\n",
       "    <tr>\n",
       "      <th>1</th>\n",
       "      <td>Super Mario Bros.</td>\n",
       "      <td>NES</td>\n",
       "      <td>1985</td>\n",
       "      <td>Platform</td>\n",
       "      <td>29.08</td>\n",
       "      <td>3.58</td>\n",
       "      <td>6.81</td>\n",
       "      <td>0.77</td>\n",
       "      <td>NaN</td>\n",
       "      <td>NaN</td>\n",
       "      <td>NaN</td>\n",
       "    </tr>\n",
       "    <tr>\n",
       "      <th>4</th>\n",
       "      <td>Pokemon Red/Pokemon Blue</td>\n",
       "      <td>GB</td>\n",
       "      <td>1996</td>\n",
       "      <td>Role-Playing</td>\n",
       "      <td>11.27</td>\n",
       "      <td>8.89</td>\n",
       "      <td>10.22</td>\n",
       "      <td>1.00</td>\n",
       "      <td>NaN</td>\n",
       "      <td>NaN</td>\n",
       "      <td>NaN</td>\n",
       "    </tr>\n",
       "    <tr>\n",
       "      <th>5</th>\n",
       "      <td>Tetris</td>\n",
       "      <td>GB</td>\n",
       "      <td>1989</td>\n",
       "      <td>Puzzle</td>\n",
       "      <td>23.20</td>\n",
       "      <td>2.26</td>\n",
       "      <td>4.22</td>\n",
       "      <td>0.58</td>\n",
       "      <td>NaN</td>\n",
       "      <td>NaN</td>\n",
       "      <td>NaN</td>\n",
       "    </tr>\n",
       "    <tr>\n",
       "      <th>9</th>\n",
       "      <td>Duck Hunt</td>\n",
       "      <td>NES</td>\n",
       "      <td>1984</td>\n",
       "      <td>Shooter</td>\n",
       "      <td>26.93</td>\n",
       "      <td>0.63</td>\n",
       "      <td>0.28</td>\n",
       "      <td>0.47</td>\n",
       "      <td>NaN</td>\n",
       "      <td>NaN</td>\n",
       "      <td>NaN</td>\n",
       "    </tr>\n",
       "    <tr>\n",
       "      <th>10</th>\n",
       "      <td>Nintendogs</td>\n",
       "      <td>DS</td>\n",
       "      <td>2005</td>\n",
       "      <td>Simulation</td>\n",
       "      <td>9.05</td>\n",
       "      <td>10.95</td>\n",
       "      <td>1.93</td>\n",
       "      <td>2.74</td>\n",
       "      <td>NaN</td>\n",
       "      <td>NaN</td>\n",
       "      <td>NaN</td>\n",
       "    </tr>\n",
       "    <tr>\n",
       "      <th>...</th>\n",
       "      <td>...</td>\n",
       "      <td>...</td>\n",
       "      <td>...</td>\n",
       "      <td>...</td>\n",
       "      <td>...</td>\n",
       "      <td>...</td>\n",
       "      <td>...</td>\n",
       "      <td>...</td>\n",
       "      <td>...</td>\n",
       "      <td>...</td>\n",
       "      <td>...</td>\n",
       "    </tr>\n",
       "    <tr>\n",
       "      <th>16951</th>\n",
       "      <td>Samurai Warriors: Sanada Maru</td>\n",
       "      <td>PS3</td>\n",
       "      <td>2016</td>\n",
       "      <td>Action</td>\n",
       "      <td>0.00</td>\n",
       "      <td>0.00</td>\n",
       "      <td>0.01</td>\n",
       "      <td>0.00</td>\n",
       "      <td>NaN</td>\n",
       "      <td>NaN</td>\n",
       "      <td>NaN</td>\n",
       "    </tr>\n",
       "    <tr>\n",
       "      <th>16952</th>\n",
       "      <td>LMA Manager 2007</td>\n",
       "      <td>X360</td>\n",
       "      <td>2006</td>\n",
       "      <td>Sports</td>\n",
       "      <td>0.00</td>\n",
       "      <td>0.01</td>\n",
       "      <td>0.00</td>\n",
       "      <td>0.00</td>\n",
       "      <td>NaN</td>\n",
       "      <td>NaN</td>\n",
       "      <td>NaN</td>\n",
       "    </tr>\n",
       "    <tr>\n",
       "      <th>16953</th>\n",
       "      <td>Haitaka no Psychedelica</td>\n",
       "      <td>PSV</td>\n",
       "      <td>2016</td>\n",
       "      <td>Adventure</td>\n",
       "      <td>0.00</td>\n",
       "      <td>0.00</td>\n",
       "      <td>0.01</td>\n",
       "      <td>0.00</td>\n",
       "      <td>NaN</td>\n",
       "      <td>NaN</td>\n",
       "      <td>NaN</td>\n",
       "    </tr>\n",
       "    <tr>\n",
       "      <th>16954</th>\n",
       "      <td>Spirits &amp; Spells</td>\n",
       "      <td>GBA</td>\n",
       "      <td>2003</td>\n",
       "      <td>Platform</td>\n",
       "      <td>0.01</td>\n",
       "      <td>0.00</td>\n",
       "      <td>0.00</td>\n",
       "      <td>0.00</td>\n",
       "      <td>NaN</td>\n",
       "      <td>NaN</td>\n",
       "      <td>NaN</td>\n",
       "    </tr>\n",
       "    <tr>\n",
       "      <th>16955</th>\n",
       "      <td>Winning Post 8 2016</td>\n",
       "      <td>PSV</td>\n",
       "      <td>2016</td>\n",
       "      <td>Simulation</td>\n",
       "      <td>0.00</td>\n",
       "      <td>0.00</td>\n",
       "      <td>0.01</td>\n",
       "      <td>0.00</td>\n",
       "      <td>NaN</td>\n",
       "      <td>NaN</td>\n",
       "      <td>NaN</td>\n",
       "    </tr>\n",
       "  </tbody>\n",
       "</table>\n",
       "<p>9929 rows × 11 columns</p>\n",
       "</div>"
      ],
      "text/plain": [
       "                                name platform  year_of_release         genre  \\\n",
       "1                  Super Mario Bros.      NES             1985      Platform   \n",
       "4           Pokemon Red/Pokemon Blue       GB             1996  Role-Playing   \n",
       "5                             Tetris       GB             1989        Puzzle   \n",
       "9                          Duck Hunt      NES             1984       Shooter   \n",
       "10                        Nintendogs       DS             2005    Simulation   \n",
       "...                              ...      ...              ...           ...   \n",
       "16951  Samurai Warriors: Sanada Maru      PS3             2016        Action   \n",
       "16952               LMA Manager 2007     X360             2006        Sports   \n",
       "16953        Haitaka no Psychedelica      PSV             2016     Adventure   \n",
       "16954               Spirits & Spells      GBA             2003      Platform   \n",
       "16955            Winning Post 8 2016      PSV             2016    Simulation   \n",
       "\n",
       "       na_sales  eu_sales  jp_sales  other_sales  critic_score  user_score  \\\n",
       "1         29.08      3.58      6.81         0.77           NaN         NaN   \n",
       "4         11.27      8.89     10.22         1.00           NaN         NaN   \n",
       "5         23.20      2.26      4.22         0.58           NaN         NaN   \n",
       "9         26.93      0.63      0.28         0.47           NaN         NaN   \n",
       "10         9.05     10.95      1.93         2.74           NaN         NaN   \n",
       "...         ...       ...       ...          ...           ...         ...   \n",
       "16951      0.00      0.00      0.01         0.00           NaN         NaN   \n",
       "16952      0.00      0.01      0.00         0.00           NaN         NaN   \n",
       "16953      0.00      0.00      0.01         0.00           NaN         NaN   \n",
       "16954      0.01      0.00      0.00         0.00           NaN         NaN   \n",
       "16955      0.00      0.00      0.01         0.00           NaN         NaN   \n",
       "\n",
       "      rating  \n",
       "1        NaN  \n",
       "4        NaN  \n",
       "5        NaN  \n",
       "9        NaN  \n",
       "10       NaN  \n",
       "...      ...  \n",
       "16951    NaN  \n",
       "16952    NaN  \n",
       "16953    NaN  \n",
       "16954    NaN  \n",
       "16955    NaN  \n",
       "\n",
       "[9929 rows x 11 columns]"
      ]
     },
     "metadata": {},
     "output_type": "display_data"
    }
   ],
   "source": [
    "# Изучим данные с пропусками и их взаимосвзяь с другими полями датафрейма\n",
    "missing_bool_idx = games.isna().any(axis=1)\n",
    "games_missings = games[missing_bool_idx]\n",
    "display(games_missings)"
   ]
  },
  {
   "cell_type": "markdown",
   "id": "a8689efe",
   "metadata": {
    "id": "5033ee32"
   },
   "source": [
    "**Промеужточный итог:** похоже, что пропуски в столбцах `critic_score`, `user_score` и `rating` в большинстве случаев совпадают. К сожалению, мы не можем заменить значения в этих столбцах на средние, поскольку это коренным образом повлияет на результаты анализа. Проверим, есть ли взаимосвязь между пропусками в данных столбцах и годом выпуска игры."
   ]
  },
  {
   "cell_type": "code",
   "execution_count": 14,
   "id": "3a26fb26",
   "metadata": {
    "id": "3a26fb26"
   },
   "outputs": [
    {
     "data": {
      "text/plain": [
       "array([1985, 1996, 1989, 1984, 2005, 1999, 1990, 2006, 1988, 2002, 2010,\n",
       "       1998, 2015, 2013, 2009, 2014, 1992, 1993, 2004, 1994, 1997, 2012,\n",
       "       2007, 1982, 2016, 2003, 2011, 1986, 2000, 2001, 1995, 2008, 1991,\n",
       "       1981, 1987, 1980, 1983, 9999])"
      ]
     },
     "execution_count": 14,
     "metadata": {},
     "output_type": "execute_result"
    }
   ],
   "source": [
    "#Посмотрим в какие годы выходили игры, данных по которым не хватает\n",
    "games_missings['year_of_release'].unique()"
   ]
  },
  {
   "cell_type": "code",
   "execution_count": 15,
   "id": "11003d69",
   "metadata": {
    "id": "11003d69"
   },
   "outputs": [
    {
     "data": {
      "text/plain": [
       "year_of_release\n",
       "1980      9\n",
       "1981     46\n",
       "1982     37\n",
       "1983     18\n",
       "1984     14\n",
       "1985     13\n",
       "1986     22\n",
       "1987     17\n",
       "1988     14\n",
       "1989     17\n",
       "1990     16\n",
       "1991     42\n",
       "1992     42\n",
       "1993     60\n",
       "1994    120\n",
       "1995    220\n",
       "1996    260\n",
       "1997    280\n",
       "1998    359\n",
       "1999    310\n",
       "2000    255\n",
       "2001    229\n",
       "2002    379\n",
       "2003    282\n",
       "2004    293\n",
       "2005    381\n",
       "2006    489\n",
       "2007    618\n",
       "2008    846\n",
       "2009    895\n",
       "2010    842\n",
       "2011    692\n",
       "2012    353\n",
       "2013    281\n",
       "2014    331\n",
       "2015    399\n",
       "2016    295\n",
       "9999    151\n",
       "Name: name, dtype: int64"
      ]
     },
     "metadata": {},
     "output_type": "display_data"
    }
   ],
   "source": [
    "display(games_missings.groupby('year_of_release')['name'].count())"
   ]
  },
  {
   "cell_type": "markdown",
   "id": "b39893cb",
   "metadata": {
    "id": "b39893cb"
   },
   "source": [
    "Гипотеза не подтвердилась, наличие пропусков не зависит от года выпуска игры. Как уже говорилось раннее, заменить эти пропуски мы не можем, поэтому на данный момент оставим их без изменений.\n",
    "\n",
    "Для оптимизации дальнейшей работы заменим пропуски в текстовых столбцах на значение `no data`, а в числовых на `-1`. Таким образом пропущенные значения не будут влиять на результаты анализа"
   ]
  },
  {
   "cell_type": "code",
   "execution_count": 16,
   "id": "0f1c91a8",
   "metadata": {
    "id": "0f1c91a8"
   },
   "outputs": [],
   "source": [
    "for column in ['name', 'platform', 'genre', 'rating']:\n",
    "    games[column] = games[column].fillna('no data')\n",
    "for column in ['critic_score', 'user_score']:\n",
    "    games[column] = games[column].fillna(-1)"
   ]
  },
  {
   "cell_type": "markdown",
   "id": "9672804a",
   "metadata": {
    "id": "86cd1cc1"
   },
   "source": [
    "#### Работа с дубликатами"
   ]
  },
  {
   "cell_type": "code",
   "execution_count": 17,
   "id": "247a6cf7",
   "metadata": {
    "id": "247a6cf7"
   },
   "outputs": [
    {
     "data": {
      "text/html": [
       "<div>\n",
       "<style scoped>\n",
       "    .dataframe tbody tr th:only-of-type {\n",
       "        vertical-align: middle;\n",
       "    }\n",
       "\n",
       "    .dataframe tbody tr th {\n",
       "        vertical-align: top;\n",
       "    }\n",
       "\n",
       "    .dataframe thead th {\n",
       "        text-align: right;\n",
       "    }\n",
       "</style>\n",
       "<table border=\"1\" class=\"dataframe\">\n",
       "  <thead>\n",
       "    <tr style=\"text-align: right;\">\n",
       "      <th></th>\n",
       "      <th>name</th>\n",
       "      <th>platform</th>\n",
       "      <th>year_of_release</th>\n",
       "      <th>genre</th>\n",
       "      <th>na_sales</th>\n",
       "      <th>eu_sales</th>\n",
       "      <th>jp_sales</th>\n",
       "      <th>other_sales</th>\n",
       "      <th>critic_score</th>\n",
       "      <th>user_score</th>\n",
       "      <th>rating</th>\n",
       "    </tr>\n",
       "  </thead>\n",
       "  <tbody>\n",
       "    <tr>\n",
       "      <th>15192</th>\n",
       "      <td>Beyblade Burst</td>\n",
       "      <td>3DS</td>\n",
       "      <td>2016</td>\n",
       "      <td>Role-Playing</td>\n",
       "      <td>0.00</td>\n",
       "      <td>0.00</td>\n",
       "      <td>0.03</td>\n",
       "      <td>0.00</td>\n",
       "      <td>-1.0</td>\n",
       "      <td>-1.0</td>\n",
       "      <td>no data</td>\n",
       "    </tr>\n",
       "    <tr>\n",
       "      <th>15302</th>\n",
       "      <td>11eyes: CrossOver</td>\n",
       "      <td>X360</td>\n",
       "      <td>2009</td>\n",
       "      <td>Adventure</td>\n",
       "      <td>0.00</td>\n",
       "      <td>0.00</td>\n",
       "      <td>0.02</td>\n",
       "      <td>0.00</td>\n",
       "      <td>-1.0</td>\n",
       "      <td>-1.0</td>\n",
       "      <td>no data</td>\n",
       "    </tr>\n",
       "    <tr>\n",
       "      <th>13099</th>\n",
       "      <td>4 Elements</td>\n",
       "      <td>PC</td>\n",
       "      <td>2009</td>\n",
       "      <td>Puzzle</td>\n",
       "      <td>0.00</td>\n",
       "      <td>0.04</td>\n",
       "      <td>0.00</td>\n",
       "      <td>0.01</td>\n",
       "      <td>-1.0</td>\n",
       "      <td>7.4</td>\n",
       "      <td>E</td>\n",
       "    </tr>\n",
       "    <tr>\n",
       "      <th>4959</th>\n",
       "      <td>Alpha Protocol</td>\n",
       "      <td>X360</td>\n",
       "      <td>2010</td>\n",
       "      <td>Role-Playing</td>\n",
       "      <td>0.23</td>\n",
       "      <td>0.12</td>\n",
       "      <td>0.00</td>\n",
       "      <td>0.04</td>\n",
       "      <td>63.0</td>\n",
       "      <td>7.2</td>\n",
       "      <td>M</td>\n",
       "    </tr>\n",
       "    <tr>\n",
       "      <th>13496</th>\n",
       "      <td>American Chopper 2: Full Throttle</td>\n",
       "      <td>XB</td>\n",
       "      <td>2005</td>\n",
       "      <td>Racing</td>\n",
       "      <td>0.04</td>\n",
       "      <td>0.01</td>\n",
       "      <td>0.00</td>\n",
       "      <td>0.00</td>\n",
       "      <td>-1.0</td>\n",
       "      <td>-1.0</td>\n",
       "      <td>T</td>\n",
       "    </tr>\n",
       "    <tr>\n",
       "      <th>...</th>\n",
       "      <td>...</td>\n",
       "      <td>...</td>\n",
       "      <td>...</td>\n",
       "      <td>...</td>\n",
       "      <td>...</td>\n",
       "      <td>...</td>\n",
       "      <td>...</td>\n",
       "      <td>...</td>\n",
       "      <td>...</td>\n",
       "      <td>...</td>\n",
       "      <td>...</td>\n",
       "    </tr>\n",
       "    <tr>\n",
       "      <th>12324</th>\n",
       "      <td>Xbox Live Arcade Unplugged Volume 1</td>\n",
       "      <td>X360</td>\n",
       "      <td>2006</td>\n",
       "      <td>Misc</td>\n",
       "      <td>0.05</td>\n",
       "      <td>0.01</td>\n",
       "      <td>0.00</td>\n",
       "      <td>0.01</td>\n",
       "      <td>-1.0</td>\n",
       "      <td>-1.0</td>\n",
       "      <td>no data</td>\n",
       "    </tr>\n",
       "    <tr>\n",
       "      <th>16104</th>\n",
       "      <td>Yoake Yori Ruriiro na Portable</td>\n",
       "      <td>PSP</td>\n",
       "      <td>2010</td>\n",
       "      <td>Adventure</td>\n",
       "      <td>0.00</td>\n",
       "      <td>0.00</td>\n",
       "      <td>0.02</td>\n",
       "      <td>0.00</td>\n",
       "      <td>-1.0</td>\n",
       "      <td>-1.0</td>\n",
       "      <td>no data</td>\n",
       "    </tr>\n",
       "    <tr>\n",
       "      <th>10662</th>\n",
       "      <td>Yu-Gi-Oh! 5D's Wheelie Breakers</td>\n",
       "      <td>Wii</td>\n",
       "      <td>2009</td>\n",
       "      <td>Racing</td>\n",
       "      <td>0.09</td>\n",
       "      <td>0.01</td>\n",
       "      <td>0.00</td>\n",
       "      <td>0.01</td>\n",
       "      <td>-1.0</td>\n",
       "      <td>-1.0</td>\n",
       "      <td>no data</td>\n",
       "    </tr>\n",
       "    <tr>\n",
       "      <th>2909</th>\n",
       "      <td>Yu-Gi-Oh! The Falsebound Kingdom</td>\n",
       "      <td>GC</td>\n",
       "      <td>2002</td>\n",
       "      <td>Strategy</td>\n",
       "      <td>0.49</td>\n",
       "      <td>0.13</td>\n",
       "      <td>0.07</td>\n",
       "      <td>0.02</td>\n",
       "      <td>-1.0</td>\n",
       "      <td>-1.0</td>\n",
       "      <td>no data</td>\n",
       "    </tr>\n",
       "    <tr>\n",
       "      <th>6696</th>\n",
       "      <td>Zoo Resort 3D</td>\n",
       "      <td>3DS</td>\n",
       "      <td>2011</td>\n",
       "      <td>Simulation</td>\n",
       "      <td>0.11</td>\n",
       "      <td>0.09</td>\n",
       "      <td>0.03</td>\n",
       "      <td>0.02</td>\n",
       "      <td>-1.0</td>\n",
       "      <td>-1.0</td>\n",
       "      <td>E</td>\n",
       "    </tr>\n",
       "  </tbody>\n",
       "</table>\n",
       "<p>182 rows × 11 columns</p>\n",
       "</div>"
      ],
      "text/plain": [
       "                                      name platform  year_of_release  \\\n",
       "15192                       Beyblade Burst      3DS             2016   \n",
       "15302                    11eyes: CrossOver     X360             2009   \n",
       "13099                           4 Elements       PC             2009   \n",
       "4959                        Alpha Protocol     X360             2010   \n",
       "13496    American Chopper 2: Full Throttle       XB             2005   \n",
       "...                                    ...      ...              ...   \n",
       "12324  Xbox Live Arcade Unplugged Volume 1     X360             2006   \n",
       "16104       Yoake Yori Ruriiro na Portable      PSP             2010   \n",
       "10662      Yu-Gi-Oh! 5D's Wheelie Breakers      Wii             2009   \n",
       "2909      Yu-Gi-Oh! The Falsebound Kingdom       GC             2002   \n",
       "6696                         Zoo Resort 3D      3DS             2011   \n",
       "\n",
       "              genre  na_sales  eu_sales  jp_sales  other_sales  critic_score  \\\n",
       "15192  Role-Playing      0.00      0.00      0.03         0.00          -1.0   \n",
       "15302     Adventure      0.00      0.00      0.02         0.00          -1.0   \n",
       "13099        Puzzle      0.00      0.04      0.00         0.01          -1.0   \n",
       "4959   Role-Playing      0.23      0.12      0.00         0.04          63.0   \n",
       "13496        Racing      0.04      0.01      0.00         0.00          -1.0   \n",
       "...             ...       ...       ...       ...          ...           ...   \n",
       "12324          Misc      0.05      0.01      0.00         0.01          -1.0   \n",
       "16104     Adventure      0.00      0.00      0.02         0.00          -1.0   \n",
       "10662        Racing      0.09      0.01      0.00         0.01          -1.0   \n",
       "2909       Strategy      0.49      0.13      0.07         0.02          -1.0   \n",
       "6696     Simulation      0.11      0.09      0.03         0.02          -1.0   \n",
       "\n",
       "       user_score   rating  \n",
       "15192        -1.0  no data  \n",
       "15302        -1.0  no data  \n",
       "13099         7.4        E  \n",
       "4959          7.2        M  \n",
       "13496        -1.0        T  \n",
       "...           ...      ...  \n",
       "12324        -1.0  no data  \n",
       "16104        -1.0  no data  \n",
       "10662        -1.0  no data  \n",
       "2909         -1.0  no data  \n",
       "6696         -1.0        E  \n",
       "\n",
       "[182 rows x 11 columns]"
      ]
     },
     "metadata": {},
     "output_type": "display_data"
    }
   ],
   "source": [
    "# Ищем явные дупликаты\n",
    "df = games[games.duplicated()==True]\n",
    "display(df.sort_values('name'))"
   ]
  },
  {
   "cell_type": "markdown",
   "id": "cf796f51",
   "metadata": {
    "id": "cf796f51"
   },
   "source": [
    "Обнаружено 182 дублирующие строки, которые можно удалить"
   ]
  },
  {
   "cell_type": "code",
   "execution_count": 18,
   "id": "bd69e642",
   "metadata": {
    "id": "bd69e642"
   },
   "outputs": [
    {
     "name": "stdout",
     "output_type": "stream",
     "text": [
      "<class 'pandas.core.frame.DataFrame'>\n",
      "Int64Index: 16774 entries, 0 to 16955\n",
      "Data columns (total 11 columns):\n",
      " #   Column           Non-Null Count  Dtype  \n",
      "---  ------           --------------  -----  \n",
      " 0   name             16774 non-null  object \n",
      " 1   platform         16774 non-null  object \n",
      " 2   year_of_release  16774 non-null  int64  \n",
      " 3   genre            16774 non-null  object \n",
      " 4   na_sales         16774 non-null  float64\n",
      " 5   eu_sales         16768 non-null  float64\n",
      " 6   jp_sales         16770 non-null  float64\n",
      " 7   other_sales      16774 non-null  float64\n",
      " 8   critic_score     16774 non-null  float64\n",
      " 9   user_score       16774 non-null  float64\n",
      " 10  rating           16774 non-null  object \n",
      "dtypes: float64(6), int64(1), object(4)\n",
      "memory usage: 1.5+ MB\n"
     ]
    }
   ],
   "source": [
    "# Удаляем дупликаты\n",
    "games_cleaned = games.drop_duplicates()\n",
    "games_cleaned.info()"
   ]
  },
  {
   "cell_type": "markdown",
   "id": "3ef63f32",
   "metadata": {
    "id": "b6965b19"
   },
   "source": [
    "После удаления дубликатов в датафрейме осталось 16774 строк\n",
    "Поищем теперь неявные дубликаты данных. Приведём текстовые значения к единому стилю:"
   ]
  },
  {
   "cell_type": "markdown",
   "id": "612c43b8",
   "metadata": {},
   "source": [
    "**Ответ:** если честно, я не очень понимаю целесообразность этого подсчета. Даже если дубликатов будет значительное количество (например, 50 и более процентов из-за того, что где-то что-то задвоилось или затроилось), их всё равно надо будет удалять, чтобы они не влияли на анализ данных.\n",
    "Причины возникновения дубликатов, в данном случае, мне кажется в том, что информация об играх собиралась из разных источников, и одна и та же игра могла быть в нескольких из них. Либо же какая-то техническая ошибка на этапе загрузки/выгрузки данных."
   ]
  },
  {
   "cell_type": "code",
   "execution_count": 19,
   "id": "cc2d1374",
   "metadata": {
    "id": "cc2d1374"
   },
   "outputs": [
    {
     "data": {
      "text/html": [
       "<div>\n",
       "<style scoped>\n",
       "    .dataframe tbody tr th:only-of-type {\n",
       "        vertical-align: middle;\n",
       "    }\n",
       "\n",
       "    .dataframe tbody tr th {\n",
       "        vertical-align: top;\n",
       "    }\n",
       "\n",
       "    .dataframe thead th {\n",
       "        text-align: right;\n",
       "    }\n",
       "</style>\n",
       "<table border=\"1\" class=\"dataframe\">\n",
       "  <thead>\n",
       "    <tr style=\"text-align: right;\">\n",
       "      <th></th>\n",
       "      <th>name</th>\n",
       "      <th>platform</th>\n",
       "      <th>year_of_release</th>\n",
       "      <th>genre</th>\n",
       "      <th>na_sales</th>\n",
       "      <th>eu_sales</th>\n",
       "      <th>jp_sales</th>\n",
       "      <th>other_sales</th>\n",
       "      <th>critic_score</th>\n",
       "      <th>user_score</th>\n",
       "      <th>rating</th>\n",
       "    </tr>\n",
       "  </thead>\n",
       "  <tbody>\n",
       "    <tr>\n",
       "      <th>0</th>\n",
       "      <td>wii sports</td>\n",
       "      <td>wii</td>\n",
       "      <td>2006</td>\n",
       "      <td>sports</td>\n",
       "      <td>41.36</td>\n",
       "      <td>28.96</td>\n",
       "      <td>3.77</td>\n",
       "      <td>8.45</td>\n",
       "      <td>76.0</td>\n",
       "      <td>8.0</td>\n",
       "      <td>E</td>\n",
       "    </tr>\n",
       "    <tr>\n",
       "      <th>1</th>\n",
       "      <td>super mario bros.</td>\n",
       "      <td>nes</td>\n",
       "      <td>1985</td>\n",
       "      <td>platform</td>\n",
       "      <td>29.08</td>\n",
       "      <td>3.58</td>\n",
       "      <td>6.81</td>\n",
       "      <td>0.77</td>\n",
       "      <td>-1.0</td>\n",
       "      <td>-1.0</td>\n",
       "      <td>NO DATA</td>\n",
       "    </tr>\n",
       "    <tr>\n",
       "      <th>2</th>\n",
       "      <td>mario kart wii</td>\n",
       "      <td>wii</td>\n",
       "      <td>2008</td>\n",
       "      <td>racing</td>\n",
       "      <td>15.68</td>\n",
       "      <td>12.76</td>\n",
       "      <td>3.79</td>\n",
       "      <td>3.29</td>\n",
       "      <td>82.0</td>\n",
       "      <td>8.3</td>\n",
       "      <td>E</td>\n",
       "    </tr>\n",
       "    <tr>\n",
       "      <th>3</th>\n",
       "      <td>wii sports resort</td>\n",
       "      <td>wii</td>\n",
       "      <td>2009</td>\n",
       "      <td>sports</td>\n",
       "      <td>15.61</td>\n",
       "      <td>10.93</td>\n",
       "      <td>3.28</td>\n",
       "      <td>2.95</td>\n",
       "      <td>80.0</td>\n",
       "      <td>8.0</td>\n",
       "      <td>E</td>\n",
       "    </tr>\n",
       "    <tr>\n",
       "      <th>4</th>\n",
       "      <td>pokemon red/pokemon blue</td>\n",
       "      <td>gb</td>\n",
       "      <td>1996</td>\n",
       "      <td>role-playing</td>\n",
       "      <td>11.27</td>\n",
       "      <td>8.89</td>\n",
       "      <td>10.22</td>\n",
       "      <td>1.00</td>\n",
       "      <td>-1.0</td>\n",
       "      <td>-1.0</td>\n",
       "      <td>NO DATA</td>\n",
       "    </tr>\n",
       "    <tr>\n",
       "      <th>...</th>\n",
       "      <td>...</td>\n",
       "      <td>...</td>\n",
       "      <td>...</td>\n",
       "      <td>...</td>\n",
       "      <td>...</td>\n",
       "      <td>...</td>\n",
       "      <td>...</td>\n",
       "      <td>...</td>\n",
       "      <td>...</td>\n",
       "      <td>...</td>\n",
       "      <td>...</td>\n",
       "    </tr>\n",
       "    <tr>\n",
       "      <th>16951</th>\n",
       "      <td>samurai warriors: sanada maru</td>\n",
       "      <td>ps3</td>\n",
       "      <td>2016</td>\n",
       "      <td>action</td>\n",
       "      <td>0.00</td>\n",
       "      <td>0.00</td>\n",
       "      <td>0.01</td>\n",
       "      <td>0.00</td>\n",
       "      <td>-1.0</td>\n",
       "      <td>-1.0</td>\n",
       "      <td>NO DATA</td>\n",
       "    </tr>\n",
       "    <tr>\n",
       "      <th>16952</th>\n",
       "      <td>lma manager 2007</td>\n",
       "      <td>x360</td>\n",
       "      <td>2006</td>\n",
       "      <td>sports</td>\n",
       "      <td>0.00</td>\n",
       "      <td>0.01</td>\n",
       "      <td>0.00</td>\n",
       "      <td>0.00</td>\n",
       "      <td>-1.0</td>\n",
       "      <td>-1.0</td>\n",
       "      <td>NO DATA</td>\n",
       "    </tr>\n",
       "    <tr>\n",
       "      <th>16953</th>\n",
       "      <td>haitaka no psychedelica</td>\n",
       "      <td>psv</td>\n",
       "      <td>2016</td>\n",
       "      <td>adventure</td>\n",
       "      <td>0.00</td>\n",
       "      <td>0.00</td>\n",
       "      <td>0.01</td>\n",
       "      <td>0.00</td>\n",
       "      <td>-1.0</td>\n",
       "      <td>-1.0</td>\n",
       "      <td>NO DATA</td>\n",
       "    </tr>\n",
       "    <tr>\n",
       "      <th>16954</th>\n",
       "      <td>spirits &amp; spells</td>\n",
       "      <td>gba</td>\n",
       "      <td>2003</td>\n",
       "      <td>platform</td>\n",
       "      <td>0.01</td>\n",
       "      <td>0.00</td>\n",
       "      <td>0.00</td>\n",
       "      <td>0.00</td>\n",
       "      <td>-1.0</td>\n",
       "      <td>-1.0</td>\n",
       "      <td>NO DATA</td>\n",
       "    </tr>\n",
       "    <tr>\n",
       "      <th>16955</th>\n",
       "      <td>winning post 8 2016</td>\n",
       "      <td>psv</td>\n",
       "      <td>2016</td>\n",
       "      <td>simulation</td>\n",
       "      <td>0.00</td>\n",
       "      <td>0.00</td>\n",
       "      <td>0.01</td>\n",
       "      <td>0.00</td>\n",
       "      <td>-1.0</td>\n",
       "      <td>-1.0</td>\n",
       "      <td>NO DATA</td>\n",
       "    </tr>\n",
       "  </tbody>\n",
       "</table>\n",
       "<p>16774 rows × 11 columns</p>\n",
       "</div>"
      ],
      "text/plain": [
       "                                name platform  year_of_release         genre  \\\n",
       "0                         wii sports      wii             2006        sports   \n",
       "1                  super mario bros.      nes             1985      platform   \n",
       "2                     mario kart wii      wii             2008        racing   \n",
       "3                  wii sports resort      wii             2009        sports   \n",
       "4           pokemon red/pokemon blue       gb             1996  role-playing   \n",
       "...                              ...      ...              ...           ...   \n",
       "16951  samurai warriors: sanada maru      ps3             2016        action   \n",
       "16952               lma manager 2007     x360             2006        sports   \n",
       "16953        haitaka no psychedelica      psv             2016     adventure   \n",
       "16954               spirits & spells      gba             2003      platform   \n",
       "16955            winning post 8 2016      psv             2016    simulation   \n",
       "\n",
       "       na_sales  eu_sales  jp_sales  other_sales  critic_score  user_score  \\\n",
       "0         41.36     28.96      3.77         8.45          76.0         8.0   \n",
       "1         29.08      3.58      6.81         0.77          -1.0        -1.0   \n",
       "2         15.68     12.76      3.79         3.29          82.0         8.3   \n",
       "3         15.61     10.93      3.28         2.95          80.0         8.0   \n",
       "4         11.27      8.89     10.22         1.00          -1.0        -1.0   \n",
       "...         ...       ...       ...          ...           ...         ...   \n",
       "16951      0.00      0.00      0.01         0.00          -1.0        -1.0   \n",
       "16952      0.00      0.01      0.00         0.00          -1.0        -1.0   \n",
       "16953      0.00      0.00      0.01         0.00          -1.0        -1.0   \n",
       "16954      0.01      0.00      0.00         0.00          -1.0        -1.0   \n",
       "16955      0.00      0.00      0.01         0.00          -1.0        -1.0   \n",
       "\n",
       "        rating  \n",
       "0            E  \n",
       "1      NO DATA  \n",
       "2            E  \n",
       "3            E  \n",
       "4      NO DATA  \n",
       "...        ...  \n",
       "16951  NO DATA  \n",
       "16952  NO DATA  \n",
       "16953  NO DATA  \n",
       "16954  NO DATA  \n",
       "16955  NO DATA  \n",
       "\n",
       "[16774 rows x 11 columns]"
      ]
     },
     "metadata": {},
     "output_type": "display_data"
    }
   ],
   "source": [
    "# Здесь и далее создается копия датафрейма, чтобы Пайтон не ругался на меня\n",
    "games_cleaned = games_cleaned.copy()\n",
    "for column in ['name', 'platform', 'genre']:\n",
    "    games_cleaned[column] = games_cleaned[column].str.lower()\n",
    "games_cleaned['rating']=games_cleaned['rating'].str.upper()\n",
    "display(games_cleaned)"
   ]
  },
  {
   "cell_type": "markdown",
   "id": "bbbe3bda",
   "metadata": {
    "id": "bbbe3bda"
   },
   "source": [
    "Теперь снова поищем дубликаты"
   ]
  },
  {
   "cell_type": "code",
   "execution_count": 20,
   "id": "154be65d",
   "metadata": {
    "id": "154be65d"
   },
   "outputs": [
    {
     "name": "stdout",
     "output_type": "stream",
     "text": [
      "<class 'pandas.core.frame.DataFrame'>\n",
      "Int64Index: 59 entries, 823 to 16753\n",
      "Data columns (total 11 columns):\n",
      " #   Column           Non-Null Count  Dtype  \n",
      "---  ------           --------------  -----  \n",
      " 0   name             59 non-null     object \n",
      " 1   platform         59 non-null     object \n",
      " 2   year_of_release  59 non-null     int64  \n",
      " 3   genre            59 non-null     object \n",
      " 4   na_sales         59 non-null     float64\n",
      " 5   eu_sales         59 non-null     float64\n",
      " 6   jp_sales         59 non-null     float64\n",
      " 7   other_sales      59 non-null     float64\n",
      " 8   critic_score     59 non-null     float64\n",
      " 9   user_score       59 non-null     float64\n",
      " 10  rating           59 non-null     object \n",
      "dtypes: float64(6), int64(1), object(4)\n",
      "memory usage: 5.5+ KB\n"
     ]
    },
    {
     "data": {
      "text/plain": [
       "None"
      ]
     },
     "metadata": {},
     "output_type": "display_data"
    }
   ],
   "source": [
    "df = games_cleaned[games_cleaned.duplicated()==True]\n",
    "display(df.info())"
   ]
  },
  {
   "cell_type": "markdown",
   "id": "0138ffed",
   "metadata": {
    "id": "3f42817b"
   },
   "source": [
    "Найдено еще 59 строк-дубликатов. Удаляем их."
   ]
  },
  {
   "cell_type": "code",
   "execution_count": 21,
   "id": "2784c760",
   "metadata": {
    "id": "2784c760"
   },
   "outputs": [
    {
     "name": "stdout",
     "output_type": "stream",
     "text": [
      "<class 'pandas.core.frame.DataFrame'>\n",
      "Int64Index: 16715 entries, 0 to 16955\n",
      "Data columns (total 11 columns):\n",
      " #   Column           Non-Null Count  Dtype  \n",
      "---  ------           --------------  -----  \n",
      " 0   name             16715 non-null  object \n",
      " 1   platform         16715 non-null  object \n",
      " 2   year_of_release  16715 non-null  int64  \n",
      " 3   genre            16715 non-null  object \n",
      " 4   na_sales         16715 non-null  float64\n",
      " 5   eu_sales         16709 non-null  float64\n",
      " 6   jp_sales         16711 non-null  float64\n",
      " 7   other_sales      16715 non-null  float64\n",
      " 8   critic_score     16715 non-null  float64\n",
      " 9   user_score       16715 non-null  float64\n",
      " 10  rating           16715 non-null  object \n",
      "dtypes: float64(6), int64(1), object(4)\n",
      "memory usage: 1.5+ MB\n"
     ]
    }
   ],
   "source": [
    "# Удаляем дубликаты\n",
    "games_cleaned = games_cleaned.drop_duplicates()\n",
    "games_cleaned.info()"
   ]
  },
  {
   "cell_type": "markdown",
   "id": "a63363fd",
   "metadata": {
    "id": "a63363fd"
   },
   "source": [
    "В итоге после работы с дубликатами в датафрейме осталось 16715 строк."
   ]
  },
  {
   "cell_type": "markdown",
   "id": "969af382",
   "metadata": {
    "id": "491c9c39"
   },
   "source": [
    "**Промежуточный итог:** в изначальном датафрейме было 16956 строк, после предобработки данных осталось 16715. Итого было удалено 241 строка или 1,42% исходных данных. В некоторых столбцах был изменён тип данных со строкового на числовой, найдены пропуски неясной природы."
   ]
  },
  {
   "cell_type": "markdown",
   "id": "35a910c9",
   "metadata": {
    "id": "f1627198"
   },
   "source": [
    "## Фильтрация данных"
   ]
  },
  {
   "cell_type": "markdown",
   "id": "4036fb6c",
   "metadata": {
    "id": "a0cac80c"
   },
   "source": [
    "Необходимо из полученного после предобработки данных датафрейма отфильтровать необходимые для анализа данные. \n",
    "В данном случае нас интересуют игры, выпущенные в пирод с 2000 по 2013 годы."
   ]
  },
  {
   "cell_type": "code",
   "execution_count": 22,
   "id": "eeaea033",
   "metadata": {
    "id": "fc3d3db4"
   },
   "outputs": [
    {
     "data": {
      "text/plain": [
       "array([2006, 2008, 2009, 2005, 2007, 2010, 2013, 2004, 2002, 2001, 2011,\n",
       "       2012, 2003, 2000])"
      ]
     },
     "metadata": {},
     "output_type": "display_data"
    }
   ],
   "source": [
    "# Создаём фильтр и сохраняем новый датафрейм\n",
    "games_actual = games_cleaned[(games_cleaned['year_of_release']>1999) \n",
    "                            &(games_cleaned['year_of_release']<2014)]\n",
    "# Проверим, что сохранились нужные данные\n",
    "display(games_actual['year_of_release'].unique())"
   ]
  },
  {
   "cell_type": "markdown",
   "id": "e839e0cc",
   "metadata": {
    "id": "fc5c91b5"
   },
   "source": [
    "## Категоризация данных"
   ]
  },
  {
   "cell_type": "markdown",
   "id": "0eae0a45",
   "metadata": {
    "id": "2f61e076"
   },
   "source": [
    "Разделим все игры по оценкам пользователей и выделите такие категории: высокая оценка (от 8 до 10 включительно), средняя оценка (от 3 до 8, не включая правую границу интервала) и низкая оценка (от 0 до 3, не включая правую границу интервала)."
   ]
  },
  {
   "cell_type": "code",
   "execution_count": 23,
   "id": "29e57705",
   "metadata": {
    "id": "29e57705"
   },
   "outputs": [
    {
     "data": {
      "text/html": [
       "<div>\n",
       "<style scoped>\n",
       "    .dataframe tbody tr th:only-of-type {\n",
       "        vertical-align: middle;\n",
       "    }\n",
       "\n",
       "    .dataframe tbody tr th {\n",
       "        vertical-align: top;\n",
       "    }\n",
       "\n",
       "    .dataframe thead th {\n",
       "        text-align: right;\n",
       "    }\n",
       "</style>\n",
       "<table border=\"1\" class=\"dataframe\">\n",
       "  <thead>\n",
       "    <tr style=\"text-align: right;\">\n",
       "      <th></th>\n",
       "      <th>name</th>\n",
       "      <th>platform</th>\n",
       "      <th>year_of_release</th>\n",
       "      <th>genre</th>\n",
       "      <th>na_sales</th>\n",
       "      <th>eu_sales</th>\n",
       "      <th>jp_sales</th>\n",
       "      <th>other_sales</th>\n",
       "      <th>critic_score</th>\n",
       "      <th>user_score</th>\n",
       "      <th>rating</th>\n",
       "      <th>user_rating</th>\n",
       "    </tr>\n",
       "  </thead>\n",
       "  <tbody>\n",
       "    <tr>\n",
       "      <th>0</th>\n",
       "      <td>wii sports</td>\n",
       "      <td>wii</td>\n",
       "      <td>2006</td>\n",
       "      <td>sports</td>\n",
       "      <td>41.36</td>\n",
       "      <td>28.96</td>\n",
       "      <td>3.77</td>\n",
       "      <td>8.45</td>\n",
       "      <td>76.0</td>\n",
       "      <td>8.0</td>\n",
       "      <td>E</td>\n",
       "      <td>средняя оценка</td>\n",
       "    </tr>\n",
       "    <tr>\n",
       "      <th>2</th>\n",
       "      <td>mario kart wii</td>\n",
       "      <td>wii</td>\n",
       "      <td>2008</td>\n",
       "      <td>racing</td>\n",
       "      <td>15.68</td>\n",
       "      <td>12.76</td>\n",
       "      <td>3.79</td>\n",
       "      <td>3.29</td>\n",
       "      <td>82.0</td>\n",
       "      <td>8.3</td>\n",
       "      <td>E</td>\n",
       "      <td>высокая оценка</td>\n",
       "    </tr>\n",
       "    <tr>\n",
       "      <th>3</th>\n",
       "      <td>wii sports resort</td>\n",
       "      <td>wii</td>\n",
       "      <td>2009</td>\n",
       "      <td>sports</td>\n",
       "      <td>15.61</td>\n",
       "      <td>10.93</td>\n",
       "      <td>3.28</td>\n",
       "      <td>2.95</td>\n",
       "      <td>80.0</td>\n",
       "      <td>8.0</td>\n",
       "      <td>E</td>\n",
       "      <td>средняя оценка</td>\n",
       "    </tr>\n",
       "    <tr>\n",
       "      <th>6</th>\n",
       "      <td>new super mario bros.</td>\n",
       "      <td>ds</td>\n",
       "      <td>2006</td>\n",
       "      <td>platform</td>\n",
       "      <td>11.28</td>\n",
       "      <td>9.14</td>\n",
       "      <td>6.50</td>\n",
       "      <td>2.88</td>\n",
       "      <td>89.0</td>\n",
       "      <td>8.5</td>\n",
       "      <td>E</td>\n",
       "      <td>высокая оценка</td>\n",
       "    </tr>\n",
       "    <tr>\n",
       "      <th>7</th>\n",
       "      <td>wii play</td>\n",
       "      <td>wii</td>\n",
       "      <td>2006</td>\n",
       "      <td>misc</td>\n",
       "      <td>13.96</td>\n",
       "      <td>9.18</td>\n",
       "      <td>2.93</td>\n",
       "      <td>2.84</td>\n",
       "      <td>58.0</td>\n",
       "      <td>6.6</td>\n",
       "      <td>E</td>\n",
       "      <td>средняя оценка</td>\n",
       "    </tr>\n",
       "  </tbody>\n",
       "</table>\n",
       "</div>"
      ],
      "text/plain": [
       "                    name platform  year_of_release     genre  na_sales  \\\n",
       "0             wii sports      wii             2006    sports     41.36   \n",
       "2         mario kart wii      wii             2008    racing     15.68   \n",
       "3      wii sports resort      wii             2009    sports     15.61   \n",
       "6  new super mario bros.       ds             2006  platform     11.28   \n",
       "7               wii play      wii             2006      misc     13.96   \n",
       "\n",
       "   eu_sales  jp_sales  other_sales  critic_score  user_score rating  \\\n",
       "0     28.96      3.77         8.45          76.0         8.0      E   \n",
       "2     12.76      3.79         3.29          82.0         8.3      E   \n",
       "3     10.93      3.28         2.95          80.0         8.0      E   \n",
       "6      9.14      6.50         2.88          89.0         8.5      E   \n",
       "7      9.18      2.93         2.84          58.0         6.6      E   \n",
       "\n",
       "      user_rating  \n",
       "0  средняя оценка  \n",
       "2  высокая оценка  \n",
       "3  средняя оценка  \n",
       "6  высокая оценка  \n",
       "7  средняя оценка  "
      ]
     },
     "metadata": {},
     "output_type": "display_data"
    }
   ],
   "source": [
    "games_actual = games_actual.copy()\n",
    "games_actual['user_rating'] = pd.cut(games_actual['user_score'], \n",
    "                                    bins = [0, 3, 8, 10], \n",
    "                                    labels = ['низкая оценка', 'средняя оценка', 'высокая оценка'])\n",
    "display(games_actual.head())"
   ]
  },
  {
   "cell_type": "markdown",
   "id": "54616bae",
   "metadata": {
    "id": "54616bae"
   },
   "source": [
    "Разделим все игры по оценкам критиков и выделите такие категории: высокая оценка (от 80 до 100 включительно), средняя оценка (от 30 до 80, не включая правую границу интервала) и низкая оценка (от 0 до 30, не включая правую границу интервала)."
   ]
  },
  {
   "cell_type": "code",
   "execution_count": 24,
   "id": "8548f894",
   "metadata": {
    "id": "8548f894"
   },
   "outputs": [
    {
     "data": {
      "text/html": [
       "<div>\n",
       "<style scoped>\n",
       "    .dataframe tbody tr th:only-of-type {\n",
       "        vertical-align: middle;\n",
       "    }\n",
       "\n",
       "    .dataframe tbody tr th {\n",
       "        vertical-align: top;\n",
       "    }\n",
       "\n",
       "    .dataframe thead th {\n",
       "        text-align: right;\n",
       "    }\n",
       "</style>\n",
       "<table border=\"1\" class=\"dataframe\">\n",
       "  <thead>\n",
       "    <tr style=\"text-align: right;\">\n",
       "      <th></th>\n",
       "      <th>name</th>\n",
       "      <th>platform</th>\n",
       "      <th>year_of_release</th>\n",
       "      <th>genre</th>\n",
       "      <th>na_sales</th>\n",
       "      <th>eu_sales</th>\n",
       "      <th>jp_sales</th>\n",
       "      <th>other_sales</th>\n",
       "      <th>critic_score</th>\n",
       "      <th>user_score</th>\n",
       "      <th>rating</th>\n",
       "      <th>user_rating</th>\n",
       "      <th>critic_rating</th>\n",
       "    </tr>\n",
       "  </thead>\n",
       "  <tbody>\n",
       "    <tr>\n",
       "      <th>0</th>\n",
       "      <td>wii sports</td>\n",
       "      <td>wii</td>\n",
       "      <td>2006</td>\n",
       "      <td>sports</td>\n",
       "      <td>41.36</td>\n",
       "      <td>28.96</td>\n",
       "      <td>3.77</td>\n",
       "      <td>8.45</td>\n",
       "      <td>76.0</td>\n",
       "      <td>8.0</td>\n",
       "      <td>E</td>\n",
       "      <td>средняя оценка</td>\n",
       "      <td>средняя оценка</td>\n",
       "    </tr>\n",
       "    <tr>\n",
       "      <th>2</th>\n",
       "      <td>mario kart wii</td>\n",
       "      <td>wii</td>\n",
       "      <td>2008</td>\n",
       "      <td>racing</td>\n",
       "      <td>15.68</td>\n",
       "      <td>12.76</td>\n",
       "      <td>3.79</td>\n",
       "      <td>3.29</td>\n",
       "      <td>82.0</td>\n",
       "      <td>8.3</td>\n",
       "      <td>E</td>\n",
       "      <td>высокая оценка</td>\n",
       "      <td>высокая оценка</td>\n",
       "    </tr>\n",
       "    <tr>\n",
       "      <th>3</th>\n",
       "      <td>wii sports resort</td>\n",
       "      <td>wii</td>\n",
       "      <td>2009</td>\n",
       "      <td>sports</td>\n",
       "      <td>15.61</td>\n",
       "      <td>10.93</td>\n",
       "      <td>3.28</td>\n",
       "      <td>2.95</td>\n",
       "      <td>80.0</td>\n",
       "      <td>8.0</td>\n",
       "      <td>E</td>\n",
       "      <td>средняя оценка</td>\n",
       "      <td>средняя оценка</td>\n",
       "    </tr>\n",
       "    <tr>\n",
       "      <th>6</th>\n",
       "      <td>new super mario bros.</td>\n",
       "      <td>ds</td>\n",
       "      <td>2006</td>\n",
       "      <td>platform</td>\n",
       "      <td>11.28</td>\n",
       "      <td>9.14</td>\n",
       "      <td>6.50</td>\n",
       "      <td>2.88</td>\n",
       "      <td>89.0</td>\n",
       "      <td>8.5</td>\n",
       "      <td>E</td>\n",
       "      <td>высокая оценка</td>\n",
       "      <td>высокая оценка</td>\n",
       "    </tr>\n",
       "    <tr>\n",
       "      <th>7</th>\n",
       "      <td>wii play</td>\n",
       "      <td>wii</td>\n",
       "      <td>2006</td>\n",
       "      <td>misc</td>\n",
       "      <td>13.96</td>\n",
       "      <td>9.18</td>\n",
       "      <td>2.93</td>\n",
       "      <td>2.84</td>\n",
       "      <td>58.0</td>\n",
       "      <td>6.6</td>\n",
       "      <td>E</td>\n",
       "      <td>средняя оценка</td>\n",
       "      <td>средняя оценка</td>\n",
       "    </tr>\n",
       "  </tbody>\n",
       "</table>\n",
       "</div>"
      ],
      "text/plain": [
       "                    name platform  year_of_release     genre  na_sales  \\\n",
       "0             wii sports      wii             2006    sports     41.36   \n",
       "2         mario kart wii      wii             2008    racing     15.68   \n",
       "3      wii sports resort      wii             2009    sports     15.61   \n",
       "6  new super mario bros.       ds             2006  platform     11.28   \n",
       "7               wii play      wii             2006      misc     13.96   \n",
       "\n",
       "   eu_sales  jp_sales  other_sales  critic_score  user_score rating  \\\n",
       "0     28.96      3.77         8.45          76.0         8.0      E   \n",
       "2     12.76      3.79         3.29          82.0         8.3      E   \n",
       "3     10.93      3.28         2.95          80.0         8.0      E   \n",
       "6      9.14      6.50         2.88          89.0         8.5      E   \n",
       "7      9.18      2.93         2.84          58.0         6.6      E   \n",
       "\n",
       "      user_rating   critic_rating  \n",
       "0  средняя оценка  средняя оценка  \n",
       "2  высокая оценка  высокая оценка  \n",
       "3  средняя оценка  средняя оценка  \n",
       "6  высокая оценка  высокая оценка  \n",
       "7  средняя оценка  средняя оценка  "
      ]
     },
     "metadata": {},
     "output_type": "display_data"
    }
   ],
   "source": [
    "games_actual = games_actual.copy()\n",
    "games_actual['critic_rating'] = pd.cut(games_actual['critic_score'], \n",
    "                                    bins = [0, 30, 80, 100], \n",
    "                                    labels = ['низкая оценка', 'средняя оценка', 'высокая оценка'])\n",
    "\n",
    "display(games_actual.head())"
   ]
  },
  {
   "cell_type": "markdown",
   "id": "a928a91a",
   "metadata": {
    "id": "327e55bb"
   },
   "source": [
    "После категоризации данных проверим результат: сгруппируем данные по выделенным категориям и посчитаем количество игр в каждой категории."
   ]
  },
  {
   "cell_type": "code",
   "execution_count": 25,
   "id": "0814c721",
   "metadata": {
    "id": "0814c721"
   },
   "outputs": [
    {
     "data": {
      "text/plain": [
       "user_rating\n",
       "низкая оценка      132\n",
       "средняя оценка    4317\n",
       "высокая оценка    2033\n",
       "Name: name, dtype: int64"
      ]
     },
     "metadata": {},
     "output_type": "display_data"
    },
    {
     "data": {
      "text/plain": [
       "critic_rating\n",
       "низкая оценка       67\n",
       "средняя оценка    5613\n",
       "высокая оценка    1489\n",
       "Name: name, dtype: int64"
      ]
     },
     "metadata": {},
     "output_type": "display_data"
    }
   ],
   "source": [
    "# Категоризация по пользовательскому рейтингу\n",
    "user_categories = games_actual.groupby('user_rating')['name'].count()\n",
    "display(user_categories)\n",
    "\n",
    "# Категоризация по экспертному рейтингу \n",
    "critic_categories = games_actual.groupby('critic_rating')['name'].count()\n",
    "display(critic_categories)"
   ]
  },
  {
   "cell_type": "code",
   "execution_count": 26,
   "id": "3a2660ee",
   "metadata": {
    "id": "72645ae9"
   },
   "outputs": [
    {
     "data": {
      "text/plain": [
       "genre         user_rating   \n",
       "role-playing  низкая оценка       1\n",
       "              средняя оценка    359\n",
       "              высокая оценка    251\n",
       "Name: name, dtype: int64"
      ]
     },
     "metadata": {},
     "output_type": "display_data"
    },
    {
     "data": {
      "text/plain": [
       "genre         critic_rating \n",
       "role-playing  низкая оценка       0\n",
       "              средняя оценка    455\n",
       "              высокая оценка    158\n",
       "Name: name, dtype: int64"
      ]
     },
     "metadata": {},
     "output_type": "display_data"
    }
   ],
   "source": [
    "# Для научного интереса изучим рейтинг игр в жанре role-playing\n",
    "df = games_actual[games_actual['genre']=='role-playing']\n",
    "# Пользовательский рейтинг игр в жанре РПГ\n",
    "user_rpg_cat = df.groupby(['genre', 'user_rating'])['name'].count()\n",
    "display(user_rpg_cat)\n",
    "# экспертный рейтинг игр в жанре РПГ\n",
    "critic_rpg_cat = df.groupby(['genre', 'critic_rating'])['name'].count()\n",
    "display(critic_rpg_cat)"
   ]
  },
  {
   "cell_type": "markdown",
   "id": "34cc0e7a",
   "metadata": {
    "id": "f9d8ee19"
   },
   "source": [
    "Выделим топ-7 платформ по количеству игр, выпущенных за весь актуальный период."
   ]
  },
  {
   "cell_type": "code",
   "execution_count": 27,
   "id": "3d7a9d8e",
   "metadata": {
    "id": "3d7a9d8e"
   },
   "outputs": [
    {
     "data": {
      "text/plain": [
       "platform\n",
       "ps2     2127\n",
       "ds      2120\n",
       "wii     1275\n",
       "psp     1180\n",
       "x360    1121\n",
       "ps3     1087\n",
       "gba      811\n",
       "Name: name, dtype: int64"
      ]
     },
     "metadata": {},
     "output_type": "display_data"
    }
   ],
   "source": [
    "top_platform = games_actual.groupby('platform')['name'].count()\n",
    "display(top_platform.sort_values(ascending=False).head(7))"
   ]
  },
  {
   "cell_type": "markdown",
   "id": "3606d809",
   "metadata": {
    "id": "1e48a7ce"
   },
   "source": [
    "## Итоговый вывод"
   ]
  },
  {
   "cell_type": "markdown",
   "id": "47613d75",
   "metadata": {
    "id": "47613d75"
   },
   "source": [
    "Полученные данные были приведены в удобный для анализа вид:\n",
    "- исправлены названия столбцов;\n",
    "- скорректированы типы данных там, где это было необходимо;\n",
    "- найдены и изучены пропуски;\n",
    "- найдены и удалены дубликаты данных;\n",
    "- проведена фильтрация данных;\n",
    "- проведена категоризация данных по рейтингам: пользовательскому и экспертному.\n",
    "\n",
    "В ходе работы были добавлены два новых поля в датафрейм:\n",
    "- `user_rating` — категория оценки игры пользователями;\n",
    "- `critic_rating` — категория оценки игры экспертами.\n",
    "\n",
    "Датафрейм `games_actual` полностью подготовлен для дальнейшего анализа, кроме того, некоторые выводы уже сделаны в результате категоризации данных:\n",
    "- Большинство игр, выпущенных в период с 2000 по 2013 год получили среднюю оценку как от пользователей, так и от экспертов. Также большой процент пользователей и экспертов поставили новым играм высокую оценку, а вот низкий рейтинг у небольшого числа игр.\n",
    "- В жанре РПГ всего одна игра получила низкую оценку среди пользователей, а среди экспертов игр в этом жанре с низкой оценкой вообще нет."
   ]
  }
 ],
 "metadata": {
  "ExecuteTimeLog": [
   {
    "duration": 393,
    "start_time": "2025-03-10T22:58:06.969Z"
   },
   {
    "duration": 164,
    "start_time": "2025-03-10T22:58:07.364Z"
   },
   {
    "duration": 17,
    "start_time": "2025-03-10T22:58:07.530Z"
   },
   {
    "duration": 30,
    "start_time": "2025-03-10T22:58:07.550Z"
   },
   {
    "duration": 9,
    "start_time": "2025-03-10T22:58:07.582Z"
   },
   {
    "duration": 6,
    "start_time": "2025-03-10T22:58:07.593Z"
   },
   {
    "duration": 32,
    "start_time": "2025-03-10T22:58:07.601Z"
   },
   {
    "duration": 8,
    "start_time": "2025-03-10T22:58:07.635Z"
   },
   {
    "duration": 18,
    "start_time": "2025-03-10T22:58:07.645Z"
   },
   {
    "duration": 12,
    "start_time": "2025-03-10T22:58:07.666Z"
   },
   {
    "duration": 14,
    "start_time": "2025-03-10T22:58:07.680Z"
   },
   {
    "duration": 23,
    "start_time": "2025-03-10T22:58:07.696Z"
   },
   {
    "duration": 38,
    "start_time": "2025-03-10T22:58:07.720Z"
   },
   {
    "duration": 14,
    "start_time": "2025-03-10T22:58:07.760Z"
   },
   {
    "duration": 21,
    "start_time": "2025-03-10T22:58:07.776Z"
   },
   {
    "duration": 32,
    "start_time": "2025-03-10T22:58:07.798Z"
   },
   {
    "duration": 54,
    "start_time": "2025-03-10T22:58:07.832Z"
   },
   {
    "duration": 40,
    "start_time": "2025-03-10T22:58:07.889Z"
   },
   {
    "duration": 32,
    "start_time": "2025-03-10T22:58:07.931Z"
   },
   {
    "duration": 47,
    "start_time": "2025-03-10T22:58:07.965Z"
   },
   {
    "duration": 0,
    "start_time": "2025-03-10T22:58:08.014Z"
   },
   {
    "duration": 0,
    "start_time": "2025-03-10T22:58:08.015Z"
   },
   {
    "duration": 0,
    "start_time": "2025-03-10T22:58:08.017Z"
   },
   {
    "duration": 0,
    "start_time": "2025-03-10T22:58:08.018Z"
   },
   {
    "duration": 0,
    "start_time": "2025-03-10T22:58:08.019Z"
   },
   {
    "duration": 0,
    "start_time": "2025-03-10T22:58:08.021Z"
   },
   {
    "duration": 0,
    "start_time": "2025-03-10T22:58:08.022Z"
   },
   {
    "duration": 424,
    "start_time": "2025-03-10T22:58:26.930Z"
   },
   {
    "duration": 118,
    "start_time": "2025-03-10T22:58:27.356Z"
   },
   {
    "duration": 15,
    "start_time": "2025-03-10T22:58:27.475Z"
   },
   {
    "duration": 21,
    "start_time": "2025-03-10T22:58:27.491Z"
   },
   {
    "duration": 4,
    "start_time": "2025-03-10T22:58:27.514Z"
   },
   {
    "duration": 6,
    "start_time": "2025-03-10T22:58:27.519Z"
   },
   {
    "duration": 38,
    "start_time": "2025-03-10T22:58:27.526Z"
   },
   {
    "duration": 7,
    "start_time": "2025-03-10T22:58:27.565Z"
   },
   {
    "duration": 8,
    "start_time": "2025-03-10T22:58:27.573Z"
   },
   {
    "duration": 11,
    "start_time": "2025-03-10T22:58:27.582Z"
   },
   {
    "duration": 11,
    "start_time": "2025-03-10T22:58:27.594Z"
   },
   {
    "duration": 51,
    "start_time": "2025-03-10T22:58:27.607Z"
   },
   {
    "duration": 5,
    "start_time": "2025-03-10T22:58:27.659Z"
   },
   {
    "duration": 6,
    "start_time": "2025-03-10T22:58:27.666Z"
   },
   {
    "duration": 19,
    "start_time": "2025-03-10T22:58:27.673Z"
   },
   {
    "duration": 52,
    "start_time": "2025-03-10T22:58:27.693Z"
   },
   {
    "duration": 21,
    "start_time": "2025-03-10T22:58:27.746Z"
   },
   {
    "duration": 38,
    "start_time": "2025-03-10T22:58:27.768Z"
   },
   {
    "duration": 21,
    "start_time": "2025-03-10T22:58:27.807Z"
   },
   {
    "duration": 64,
    "start_time": "2025-03-10T22:58:27.829Z"
   },
   {
    "duration": 7,
    "start_time": "2025-03-10T22:58:27.895Z"
   },
   {
    "duration": 18,
    "start_time": "2025-03-10T22:58:27.903Z"
   },
   {
    "duration": 24,
    "start_time": "2025-03-10T22:58:27.922Z"
   },
   {
    "duration": 16,
    "start_time": "2025-03-10T22:58:27.947Z"
   },
   {
    "duration": 18,
    "start_time": "2025-03-10T22:58:27.965Z"
   },
   {
    "duration": 8,
    "start_time": "2025-03-10T22:58:27.984Z"
   },
   {
    "duration": 51,
    "start_time": "2025-03-11T10:14:11.767Z"
   },
   {
    "duration": 431,
    "start_time": "2025-03-11T10:14:23.740Z"
   },
   {
    "duration": 85,
    "start_time": "2025-03-11T10:14:24.173Z"
   },
   {
    "duration": 17,
    "start_time": "2025-03-11T10:14:24.259Z"
   },
   {
    "duration": 34,
    "start_time": "2025-03-11T10:14:24.278Z"
   },
   {
    "duration": 5,
    "start_time": "2025-03-11T10:14:24.314Z"
   },
   {
    "duration": 9,
    "start_time": "2025-03-11T10:14:24.321Z"
   },
   {
    "duration": 20,
    "start_time": "2025-03-11T10:14:24.331Z"
   },
   {
    "duration": 7,
    "start_time": "2025-03-11T10:14:24.352Z"
   },
   {
    "duration": 8,
    "start_time": "2025-03-11T10:14:24.361Z"
   },
   {
    "duration": 43,
    "start_time": "2025-03-11T10:14:24.371Z"
   },
   {
    "duration": 14,
    "start_time": "2025-03-11T10:14:24.415Z"
   },
   {
    "duration": 26,
    "start_time": "2025-03-11T10:14:24.430Z"
   },
   {
    "duration": 4,
    "start_time": "2025-03-11T10:14:24.458Z"
   },
   {
    "duration": 76,
    "start_time": "2025-03-11T10:14:24.464Z"
   },
   {
    "duration": 14,
    "start_time": "2025-03-11T10:14:24.541Z"
   },
   {
    "duration": 38,
    "start_time": "2025-03-11T10:14:24.557Z"
   },
   {
    "duration": 25,
    "start_time": "2025-03-11T10:14:24.597Z"
   },
   {
    "duration": 42,
    "start_time": "2025-03-11T10:14:24.624Z"
   },
   {
    "duration": 60,
    "start_time": "2025-03-11T10:14:24.668Z"
   },
   {
    "duration": 24,
    "start_time": "2025-03-11T10:14:24.730Z"
   },
   {
    "duration": 8,
    "start_time": "2025-03-11T10:14:24.756Z"
   },
   {
    "duration": 18,
    "start_time": "2025-03-11T10:14:24.765Z"
   },
   {
    "duration": 51,
    "start_time": "2025-03-11T10:14:24.785Z"
   },
   {
    "duration": 10,
    "start_time": "2025-03-11T10:14:24.838Z"
   },
   {
    "duration": 18,
    "start_time": "2025-03-11T10:14:24.850Z"
   },
   {
    "duration": 8,
    "start_time": "2025-03-11T10:14:24.870Z"
   },
   {
    "duration": 14,
    "start_time": "2025-03-11T10:14:41.366Z"
   },
   {
    "duration": 9,
    "start_time": "2025-03-11T10:15:06.691Z"
   },
   {
    "duration": 5,
    "start_time": "2025-03-11T10:16:24.148Z"
   },
   {
    "duration": 9,
    "start_time": "2025-03-11T10:16:36.432Z"
   },
   {
    "duration": 6,
    "start_time": "2025-03-11T10:16:43.348Z"
   },
   {
    "duration": 7,
    "start_time": "2025-03-11T10:16:45.953Z"
   },
   {
    "duration": 9,
    "start_time": "2025-03-11T10:16:48.557Z"
   },
   {
    "duration": 11,
    "start_time": "2025-03-11T10:16:49.102Z"
   },
   {
    "duration": 8,
    "start_time": "2025-03-11T10:16:50.136Z"
   },
   {
    "duration": 446,
    "start_time": "2025-03-11T10:17:01.498Z"
   },
   {
    "duration": 121,
    "start_time": "2025-03-11T10:17:01.945Z"
   },
   {
    "duration": 19,
    "start_time": "2025-03-11T10:17:02.068Z"
   },
   {
    "duration": 72,
    "start_time": "2025-03-11T10:17:02.089Z"
   },
   {
    "duration": 38,
    "start_time": "2025-03-11T10:17:02.162Z"
   },
   {
    "duration": 15,
    "start_time": "2025-03-11T10:17:02.202Z"
   },
   {
    "duration": 27,
    "start_time": "2025-03-11T10:17:02.218Z"
   },
   {
    "duration": 7,
    "start_time": "2025-03-11T10:17:02.247Z"
   },
   {
    "duration": 9,
    "start_time": "2025-03-11T10:17:02.255Z"
   },
   {
    "duration": 26,
    "start_time": "2025-03-11T10:17:02.267Z"
   },
   {
    "duration": 20,
    "start_time": "2025-03-11T10:17:02.295Z"
   },
   {
    "duration": 24,
    "start_time": "2025-03-11T10:17:02.317Z"
   },
   {
    "duration": 3,
    "start_time": "2025-03-11T10:17:02.343Z"
   },
   {
    "duration": 6,
    "start_time": "2025-03-11T10:17:02.348Z"
   },
   {
    "duration": 46,
    "start_time": "2025-03-11T10:17:02.355Z"
   },
   {
    "duration": 34,
    "start_time": "2025-03-11T10:17:02.403Z"
   },
   {
    "duration": 24,
    "start_time": "2025-03-11T10:17:02.438Z"
   },
   {
    "duration": 55,
    "start_time": "2025-03-11T10:17:02.464Z"
   },
   {
    "duration": 59,
    "start_time": "2025-03-11T10:17:02.520Z"
   },
   {
    "duration": 27,
    "start_time": "2025-03-11T10:17:02.581Z"
   },
   {
    "duration": 7,
    "start_time": "2025-03-11T10:17:02.610Z"
   },
   {
    "duration": 25,
    "start_time": "2025-03-11T10:17:02.618Z"
   },
   {
    "duration": 30,
    "start_time": "2025-03-11T10:17:02.645Z"
   },
   {
    "duration": 59,
    "start_time": "2025-03-11T10:17:02.677Z"
   },
   {
    "duration": 18,
    "start_time": "2025-03-11T10:17:02.737Z"
   },
   {
    "duration": 7,
    "start_time": "2025-03-11T10:17:02.757Z"
   },
   {
    "duration": 8,
    "start_time": "2025-03-11T10:18:09.974Z"
   },
   {
    "duration": 137,
    "start_time": "2025-03-11T10:28:26.205Z"
   },
   {
    "duration": 120,
    "start_time": "2025-03-11T10:28:52.230Z"
   },
   {
    "duration": 89,
    "start_time": "2025-03-11T10:28:57.173Z"
   },
   {
    "duration": 49,
    "start_time": "2025-03-11T10:29:08.228Z"
   },
   {
    "duration": 7,
    "start_time": "2025-03-11T10:29:17.470Z"
   },
   {
    "duration": 378,
    "start_time": "2025-03-11T10:29:40.846Z"
   },
   {
    "duration": 99,
    "start_time": "2025-03-11T10:29:41.574Z"
   },
   {
    "duration": 102,
    "start_time": "2025-03-11T10:29:46.399Z"
   },
   {
    "duration": 124,
    "start_time": "2025-03-11T10:30:20.962Z"
   },
   {
    "duration": 29,
    "start_time": "2025-03-11T10:37:41.012Z"
   },
   {
    "duration": 0,
    "start_time": "2025-03-11T10:39:42.184Z"
   },
   {
    "duration": 430,
    "start_time": "2025-03-11T10:39:42.221Z"
   },
   {
    "duration": 133,
    "start_time": "2025-03-11T10:39:42.653Z"
   },
   {
    "duration": 17,
    "start_time": "2025-03-11T10:39:42.788Z"
   },
   {
    "duration": 38,
    "start_time": "2025-03-11T10:39:42.807Z"
   },
   {
    "duration": 4,
    "start_time": "2025-03-11T10:39:42.848Z"
   },
   {
    "duration": 6,
    "start_time": "2025-03-11T10:39:42.854Z"
   },
   {
    "duration": 21,
    "start_time": "2025-03-11T10:39:42.862Z"
   },
   {
    "duration": 7,
    "start_time": "2025-03-11T10:39:42.884Z"
   },
   {
    "duration": 147,
    "start_time": "2025-03-11T10:39:42.893Z"
   },
   {
    "duration": 8,
    "start_time": "2025-03-11T10:39:43.042Z"
   },
   {
    "duration": 10,
    "start_time": "2025-03-11T10:39:43.052Z"
   },
   {
    "duration": 8,
    "start_time": "2025-03-11T10:39:43.063Z"
   },
   {
    "duration": 61,
    "start_time": "2025-03-11T10:39:43.072Z"
   },
   {
    "duration": 6,
    "start_time": "2025-03-11T10:39:43.136Z"
   },
   {
    "duration": 10,
    "start_time": "2025-03-11T10:39:43.144Z"
   },
   {
    "duration": 16,
    "start_time": "2025-03-11T10:39:43.156Z"
   },
   {
    "duration": 58,
    "start_time": "2025-03-11T10:39:43.176Z"
   },
   {
    "duration": 25,
    "start_time": "2025-03-11T10:39:43.236Z"
   },
   {
    "duration": 60,
    "start_time": "2025-03-11T10:39:43.263Z"
   },
   {
    "duration": 24,
    "start_time": "2025-03-11T10:39:43.324Z"
   },
   {
    "duration": 42,
    "start_time": "2025-03-11T10:39:43.350Z"
   },
   {
    "duration": 8,
    "start_time": "2025-03-11T10:39:43.394Z"
   },
   {
    "duration": 19,
    "start_time": "2025-03-11T10:39:43.414Z"
   },
   {
    "duration": 19,
    "start_time": "2025-03-11T10:39:43.435Z"
   },
   {
    "duration": 11,
    "start_time": "2025-03-11T10:39:43.455Z"
   },
   {
    "duration": 51,
    "start_time": "2025-03-11T10:39:43.468Z"
   },
   {
    "duration": 7,
    "start_time": "2025-03-11T10:39:43.521Z"
   },
   {
    "duration": 396,
    "start_time": "2025-03-11T10:49:40.939Z"
   },
   {
    "duration": 114,
    "start_time": "2025-03-11T10:49:41.337Z"
   },
   {
    "duration": 20,
    "start_time": "2025-03-11T10:49:41.473Z"
   },
   {
    "duration": 4,
    "start_time": "2025-03-11T10:49:41.494Z"
   },
   {
    "duration": 5,
    "start_time": "2025-03-11T10:49:41.514Z"
   },
   {
    "duration": 22,
    "start_time": "2025-03-11T10:49:41.520Z"
   },
   {
    "duration": 7,
    "start_time": "2025-03-11T10:49:41.544Z"
   },
   {
    "duration": 118,
    "start_time": "2025-03-11T10:49:41.553Z"
   },
   {
    "duration": 13,
    "start_time": "2025-03-11T10:49:41.676Z"
   },
   {
    "duration": 13,
    "start_time": "2025-03-11T10:49:41.691Z"
   },
   {
    "duration": 15,
    "start_time": "2025-03-11T10:49:41.705Z"
   },
   {
    "duration": 47,
    "start_time": "2025-03-11T10:49:41.721Z"
   },
   {
    "duration": 5,
    "start_time": "2025-03-11T10:49:41.769Z"
   },
   {
    "duration": 7,
    "start_time": "2025-03-11T10:49:41.776Z"
   },
   {
    "duration": 11,
    "start_time": "2025-03-11T10:49:41.785Z"
   },
   {
    "duration": 32,
    "start_time": "2025-03-11T10:49:41.813Z"
   },
   {
    "duration": 24,
    "start_time": "2025-03-11T10:49:41.846Z"
   },
   {
    "duration": 62,
    "start_time": "2025-03-11T10:49:41.871Z"
   },
   {
    "duration": 24,
    "start_time": "2025-03-11T10:49:41.935Z"
   },
   {
    "duration": 24,
    "start_time": "2025-03-11T10:49:41.961Z"
   },
   {
    "duration": 28,
    "start_time": "2025-03-11T10:49:41.986Z"
   },
   {
    "duration": 19,
    "start_time": "2025-03-11T10:49:42.016Z"
   },
   {
    "duration": 18,
    "start_time": "2025-03-11T10:49:42.037Z"
   },
   {
    "duration": 9,
    "start_time": "2025-03-11T10:49:42.057Z"
   },
   {
    "duration": 81,
    "start_time": "2025-03-11T10:49:42.068Z"
   },
   {
    "duration": 7,
    "start_time": "2025-03-11T10:49:42.150Z"
   },
   {
    "duration": 13,
    "start_time": "2025-03-11T10:49:42.162Z"
   },
   {
    "duration": 15,
    "start_time": "2025-03-11T10:49:56.838Z"
   },
   {
    "duration": 2,
    "start_time": "2025-03-11T10:50:03.597Z"
   },
   {
    "duration": 98,
    "start_time": "2025-03-11T10:50:04.153Z"
   },
   {
    "duration": 432,
    "start_time": "2025-03-12T10:47:21.092Z"
   },
   {
    "duration": 103,
    "start_time": "2025-03-12T10:47:21.526Z"
   },
   {
    "duration": 16,
    "start_time": "2025-03-12T10:47:21.631Z"
   },
   {
    "duration": 27,
    "start_time": "2025-03-12T10:47:21.648Z"
   },
   {
    "duration": 24,
    "start_time": "2025-03-12T10:47:21.676Z"
   },
   {
    "duration": 22,
    "start_time": "2025-03-12T10:47:21.702Z"
   },
   {
    "duration": 35,
    "start_time": "2025-03-12T10:47:21.726Z"
   },
   {
    "duration": 47,
    "start_time": "2025-03-12T10:47:21.762Z"
   },
   {
    "duration": 110,
    "start_time": "2025-03-12T10:47:21.812Z"
   },
   {
    "duration": 9,
    "start_time": "2025-03-12T10:47:21.923Z"
   },
   {
    "duration": 16,
    "start_time": "2025-03-12T10:47:21.934Z"
   },
   {
    "duration": 22,
    "start_time": "2025-03-12T10:47:21.952Z"
   },
   {
    "duration": 56,
    "start_time": "2025-03-12T10:47:21.976Z"
   },
   {
    "duration": 4,
    "start_time": "2025-03-12T10:47:22.034Z"
   },
   {
    "duration": 26,
    "start_time": "2025-03-12T10:47:22.040Z"
   },
   {
    "duration": 26,
    "start_time": "2025-03-12T10:47:22.068Z"
   },
   {
    "duration": 46,
    "start_time": "2025-03-12T10:47:22.095Z"
   },
   {
    "duration": 27,
    "start_time": "2025-03-12T10:47:22.143Z"
   },
   {
    "duration": 48,
    "start_time": "2025-03-12T10:47:22.172Z"
   },
   {
    "duration": 24,
    "start_time": "2025-03-12T10:47:22.222Z"
   },
   {
    "duration": 27,
    "start_time": "2025-03-12T10:47:22.248Z"
   },
   {
    "duration": 14,
    "start_time": "2025-03-12T10:47:22.276Z"
   },
   {
    "duration": 42,
    "start_time": "2025-03-12T10:47:22.304Z"
   },
   {
    "duration": 22,
    "start_time": "2025-03-12T10:47:22.348Z"
   },
   {
    "duration": 11,
    "start_time": "2025-03-12T10:47:22.372Z"
   },
   {
    "duration": 47,
    "start_time": "2025-03-12T10:47:22.384Z"
   },
   {
    "duration": 8,
    "start_time": "2025-03-12T10:47:22.433Z"
   }
  ],
  "colab": {
   "provenance": []
  },
  "kernelspec": {
   "display_name": "Python 3 (ipykernel)",
   "language": "python",
   "name": "python3"
  },
  "language_info": {
   "codemirror_mode": {
    "name": "ipython",
    "version": 3
   },
   "file_extension": ".py",
   "mimetype": "text/x-python",
   "name": "python",
   "nbconvert_exporter": "python",
   "pygments_lexer": "ipython3",
   "version": "3.9.5"
  },
  "toc": {
   "base_numbering": 1,
   "nav_menu": {},
   "number_sections": true,
   "sideBar": true,
   "skip_h1_title": true,
   "title_cell": "Table of Contents",
   "title_sidebar": "Contents",
   "toc_cell": false,
   "toc_position": {},
   "toc_section_display": true,
   "toc_window_display": false
  }
 },
 "nbformat": 4,
 "nbformat_minor": 5
}
