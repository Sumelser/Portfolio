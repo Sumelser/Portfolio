{
 "cells": [
  {
   "cell_type": "markdown",
   "metadata": {
    "id": "u98L9TgH0eMk"
   },
   "source": [
    "# Разработка A/B-тестирования и анализ результатов\n",
    "\n",
    "Вы работаете продуктовым аналитиком в компании, которая разрабатывает развлекательное приложение с функцией «бесконечной» ленты, как, например, в приложениях с короткими видео. В вашем приложении существует две модели монетизации: первая — ежемесячная платная подписка, которая позволяет пользователям смотреть ленту без рекламы, вторая — демонстрация рекламы для пользователей, которые ещё не оформили подписку.\n",
    "\n",
    "Команда разработчиков рекомендательных систем создала новый алгоритм рекомендаций, который, по их мнению, будет показывать более интересный контент для каждого пользователя. Вас, как аналитика, просят помочь рассчитать параметры A/B-теста, который позволит проверить эту гипотезу, и проанализировать его результаты."
   ]
  },
  {
   "cell_type": "markdown",
   "metadata": {
    "id": "LJBRALHs0eMf"
   },
   "source": [
    "## Описание данных\n",
    "\n",
    "Вы будете работать с тремя таблицами:\n",
    "\n",
    "- `sessions_project_history.csv` — таблица с историческими данными по сессиям пользователей на период с 2025-08-15 по 2025-09-23. Путь к файлу: `/datasets/sessions_project_history.csv`.\n",
    "\n",
    "- `sessions_project_test_part.csv` — таблица с данными за первый день проведения A/B-теста, то есть за 2025-10-14. Путь к файлу: `/datasets/sessions_project_test_part.csv`.\n",
    "\n",
    "- `sessions_project_test.csv` — таблица с данными за весь период проведения A/B-теста, то есть с 2025-10-14 по 2025-11-02. Путь к файлу: `/datasets/sessions_project_test.csv`.\n",
    "\n",
    "У этих таблиц почти совпадает структура и содержание колонок, различаются лишь периоды наблюдения.\n",
    "\n",
    "Поля таблиц `sessions_project_history.csv`, `sessions_project_test.csv`, `sessions_project_test_part.csv`:\n",
    "\n",
    "- `user_id` — идентификатор пользователя;\n",
    "\n",
    "- `session_id` — идентификатор сессии в приложении;\n",
    "\n",
    "- `session_date` — дата сессии;\n",
    "\n",
    "- `session_start_ts` — дата и время начала сессии;\n",
    "\n",
    "- `install_date` — дата установки приложения;\n",
    "\n",
    "- `session_number` — порядковый номер сессии для конкретного пользователя;\n",
    "\n",
    "- `registration_flag` — является ли пользователь зарегистрированным;\n",
    "\n",
    "- `page_counter` — количество просмотренных страниц во время сессии;\n",
    "\n",
    "- `region` — регион пользователя;\n",
    "\n",
    "- `device` — тип устройства пользователя;\n",
    "\n",
    "- `test_group` — тестовая группа (в таблице с историческими данными этого столбца нет).\n",
    "\n",
    "\n",
    "## Что нужно сделать\n",
    "Ваши задачи: рассчитать параметры теста, оценить корректность его проведения и проанализировать результаты эксперимента."
   ]
  },
  {
   "cell_type": "markdown",
   "metadata": {
    "id": "UpOucjID0eMl"
   },
   "source": [
    "### 1. Работа с историческими данными (EDA)"
   ]
  },
  {
   "cell_type": "markdown",
   "metadata": {
    "id": "8iJMtL-30eMl"
   },
   "source": [
    "#### 1.1. Загрузка исторических данных\n",
    "На первом этапе поработайте с историческими данными приложения:\n",
    "\n",
    "- Импортируйте библиотеку pandas.\n",
    "\n",
    "- Считайте и сохраните в датафрейм `sessions_history` CSV-файл с историческими данными о сессиях пользователей `sessions_project_history.csv`.\n",
    "\n",
    "Выведите на экран первые пять строк полученного датафрейма."
   ]
  },
  {
   "cell_type": "code",
   "execution_count": 1,
   "metadata": {},
   "outputs": [],
   "source": [
    "# импортируем необходимые библиотеки\n",
    "import pandas as pd\n",
    "import matplotlib.pyplot as plt"
   ]
  },
  {
   "cell_type": "code",
   "execution_count": 2,
   "metadata": {
    "id": "6TPR2-1RPboT"
   },
   "outputs": [
    {
     "data": {
      "text/html": [
       "<div>\n",
       "<style scoped>\n",
       "    .dataframe tbody tr th:only-of-type {\n",
       "        vertical-align: middle;\n",
       "    }\n",
       "\n",
       "    .dataframe tbody tr th {\n",
       "        vertical-align: top;\n",
       "    }\n",
       "\n",
       "    .dataframe thead th {\n",
       "        text-align: right;\n",
       "    }\n",
       "</style>\n",
       "<table border=\"1\" class=\"dataframe\">\n",
       "  <thead>\n",
       "    <tr style=\"text-align: right;\">\n",
       "      <th></th>\n",
       "      <th>user_id</th>\n",
       "      <th>session_id</th>\n",
       "      <th>session_date</th>\n",
       "      <th>session_start_ts</th>\n",
       "      <th>install_date</th>\n",
       "      <th>session_number</th>\n",
       "      <th>registration_flag</th>\n",
       "      <th>page_counter</th>\n",
       "      <th>region</th>\n",
       "      <th>device</th>\n",
       "    </tr>\n",
       "  </thead>\n",
       "  <tbody>\n",
       "    <tr>\n",
       "      <th>0</th>\n",
       "      <td>E302123B7000BFE4</td>\n",
       "      <td>F9AF61A0C2023832</td>\n",
       "      <td>2025-08-15</td>\n",
       "      <td>2025-08-15 17:47:35</td>\n",
       "      <td>2025-08-15</td>\n",
       "      <td>1</td>\n",
       "      <td>0</td>\n",
       "      <td>3</td>\n",
       "      <td>CIS</td>\n",
       "      <td>iPhone</td>\n",
       "    </tr>\n",
       "    <tr>\n",
       "      <th>1</th>\n",
       "      <td>2530F72E221829FB</td>\n",
       "      <td>85003A206CBDAC6F</td>\n",
       "      <td>2025-08-15</td>\n",
       "      <td>2025-08-15 16:42:14</td>\n",
       "      <td>2025-08-15</td>\n",
       "      <td>1</td>\n",
       "      <td>0</td>\n",
       "      <td>4</td>\n",
       "      <td>MENA</td>\n",
       "      <td>Android</td>\n",
       "    </tr>\n",
       "    <tr>\n",
       "      <th>2</th>\n",
       "      <td>876E020A4FC512F5</td>\n",
       "      <td>3677423E49D72DEE</td>\n",
       "      <td>2025-08-15</td>\n",
       "      <td>2025-08-15 12:30:00</td>\n",
       "      <td>2025-08-15</td>\n",
       "      <td>1</td>\n",
       "      <td>0</td>\n",
       "      <td>4</td>\n",
       "      <td>EU</td>\n",
       "      <td>PC</td>\n",
       "    </tr>\n",
       "    <tr>\n",
       "      <th>3</th>\n",
       "      <td>2640B349E1D81584</td>\n",
       "      <td>956B45F5915CA225</td>\n",
       "      <td>2025-08-15</td>\n",
       "      <td>2025-08-15 15:31:31</td>\n",
       "      <td>2025-08-15</td>\n",
       "      <td>1</td>\n",
       "      <td>0</td>\n",
       "      <td>4</td>\n",
       "      <td>CIS</td>\n",
       "      <td>Android</td>\n",
       "    </tr>\n",
       "    <tr>\n",
       "      <th>4</th>\n",
       "      <td>94E1CBFAEF1F5EE9</td>\n",
       "      <td>83BF0DA35F9F1F40</td>\n",
       "      <td>2025-08-15</td>\n",
       "      <td>2025-08-15 21:33:53</td>\n",
       "      <td>2025-08-15</td>\n",
       "      <td>1</td>\n",
       "      <td>0</td>\n",
       "      <td>3</td>\n",
       "      <td>CIS</td>\n",
       "      <td>Android</td>\n",
       "    </tr>\n",
       "  </tbody>\n",
       "</table>\n",
       "</div>"
      ],
      "text/plain": [
       "            user_id        session_id session_date     session_start_ts  \\\n",
       "0  E302123B7000BFE4  F9AF61A0C2023832   2025-08-15  2025-08-15 17:47:35   \n",
       "1  2530F72E221829FB  85003A206CBDAC6F   2025-08-15  2025-08-15 16:42:14   \n",
       "2  876E020A4FC512F5  3677423E49D72DEE   2025-08-15  2025-08-15 12:30:00   \n",
       "3  2640B349E1D81584  956B45F5915CA225   2025-08-15  2025-08-15 15:31:31   \n",
       "4  94E1CBFAEF1F5EE9  83BF0DA35F9F1F40   2025-08-15  2025-08-15 21:33:53   \n",
       "\n",
       "  install_date  session_number  registration_flag  page_counter region  \\\n",
       "0   2025-08-15               1                  0             3    CIS   \n",
       "1   2025-08-15               1                  0             4   MENA   \n",
       "2   2025-08-15               1                  0             4     EU   \n",
       "3   2025-08-15               1                  0             4    CIS   \n",
       "4   2025-08-15               1                  0             3    CIS   \n",
       "\n",
       "    device  \n",
       "0   iPhone  \n",
       "1  Android  \n",
       "2       PC  \n",
       "3  Android  \n",
       "4  Android  "
      ]
     },
     "execution_count": 2,
     "metadata": {},
     "output_type": "execute_result"
    }
   ],
   "source": [
    "# сохраним путь к файлу в строковой переменной\n",
    "sessions_project_history = 'https://code.s3.yandex.net//datasets/sessions_project_history.csv'\n",
    "# теперь прочитаем и сохраним его\n",
    "sessions_history = pd.read_csv(sessions_project_history)\n",
    "# выведем первые строки\n",
    "sessions_history.head(5)"
   ]
  },
  {
   "cell_type": "markdown",
   "metadata": {
    "id": "qTDoiODz0eMo"
   },
   "source": [
    "#### 1.2. Знакомство с данными\n",
    "- Для каждого уникального пользователя `user_id` рассчитайте количество уникальных сессий `session_id`.\n",
    "\n",
    "- Выведите на экран все данные из таблицы `sessions_history` для одного пользователя с наибольшим количеством сессий. Если таких пользователей несколько, выберите любого из них.\n",
    "\n",
    "- Изучите таблицу для одного пользователя, чтобы лучше понять логику формирования каждого столбца данных.\n",
    "\n"
   ]
  },
  {
   "cell_type": "code",
   "execution_count": 3,
   "metadata": {
    "id": "PWZO9vTIPbPN"
   },
   "outputs": [
    {
     "data": {
      "text/html": [
       "<div>\n",
       "<style scoped>\n",
       "    .dataframe tbody tr th:only-of-type {\n",
       "        vertical-align: middle;\n",
       "    }\n",
       "\n",
       "    .dataframe tbody tr th {\n",
       "        vertical-align: top;\n",
       "    }\n",
       "\n",
       "    .dataframe thead th {\n",
       "        text-align: right;\n",
       "    }\n",
       "</style>\n",
       "<table border=\"1\" class=\"dataframe\">\n",
       "  <thead>\n",
       "    <tr style=\"text-align: right;\">\n",
       "      <th></th>\n",
       "      <th>user_id</th>\n",
       "      <th>session_id</th>\n",
       "      <th>session_date</th>\n",
       "      <th>session_start_ts</th>\n",
       "      <th>install_date</th>\n",
       "      <th>session_number</th>\n",
       "      <th>registration_flag</th>\n",
       "      <th>page_counter</th>\n",
       "      <th>region</th>\n",
       "      <th>device</th>\n",
       "    </tr>\n",
       "  </thead>\n",
       "  <tbody>\n",
       "    <tr>\n",
       "      <th>115558</th>\n",
       "      <td>10E0DEFC1ABDBBE0</td>\n",
       "      <td>B8F0423BBFFCF5DC</td>\n",
       "      <td>2025-08-14</td>\n",
       "      <td>2025-08-14 13:57:39</td>\n",
       "      <td>2025-08-14</td>\n",
       "      <td>1</td>\n",
       "      <td>0</td>\n",
       "      <td>4</td>\n",
       "      <td>CIS</td>\n",
       "      <td>Android</td>\n",
       "    </tr>\n",
       "    <tr>\n",
       "      <th>191751</th>\n",
       "      <td>10E0DEFC1ABDBBE0</td>\n",
       "      <td>87CA2FA549473837</td>\n",
       "      <td>2025-08-15</td>\n",
       "      <td>2025-08-15 16:42:10</td>\n",
       "      <td>2025-08-14</td>\n",
       "      <td>2</td>\n",
       "      <td>0</td>\n",
       "      <td>3</td>\n",
       "      <td>CIS</td>\n",
       "      <td>Android</td>\n",
       "    </tr>\n",
       "    <tr>\n",
       "      <th>239370</th>\n",
       "      <td>10E0DEFC1ABDBBE0</td>\n",
       "      <td>4ADD8011DCDCE318</td>\n",
       "      <td>2025-08-16</td>\n",
       "      <td>2025-08-16 19:53:21</td>\n",
       "      <td>2025-08-14</td>\n",
       "      <td>3</td>\n",
       "      <td>0</td>\n",
       "      <td>3</td>\n",
       "      <td>CIS</td>\n",
       "      <td>Android</td>\n",
       "    </tr>\n",
       "    <tr>\n",
       "      <th>274629</th>\n",
       "      <td>10E0DEFC1ABDBBE0</td>\n",
       "      <td>DF0FD0E09BF1F3D7</td>\n",
       "      <td>2025-08-17</td>\n",
       "      <td>2025-08-17 15:03:43</td>\n",
       "      <td>2025-08-14</td>\n",
       "      <td>4</td>\n",
       "      <td>0</td>\n",
       "      <td>1</td>\n",
       "      <td>CIS</td>\n",
       "      <td>Android</td>\n",
       "    </tr>\n",
       "    <tr>\n",
       "      <th>302501</th>\n",
       "      <td>10E0DEFC1ABDBBE0</td>\n",
       "      <td>3C221774B4DE6885</td>\n",
       "      <td>2025-08-18</td>\n",
       "      <td>2025-08-18 17:29:14</td>\n",
       "      <td>2025-08-14</td>\n",
       "      <td>5</td>\n",
       "      <td>0</td>\n",
       "      <td>4</td>\n",
       "      <td>CIS</td>\n",
       "      <td>Android</td>\n",
       "    </tr>\n",
       "    <tr>\n",
       "      <th>325557</th>\n",
       "      <td>10E0DEFC1ABDBBE0</td>\n",
       "      <td>031BD7A67048105B</td>\n",
       "      <td>2025-08-19</td>\n",
       "      <td>2025-08-19 13:23:55</td>\n",
       "      <td>2025-08-14</td>\n",
       "      <td>6</td>\n",
       "      <td>0</td>\n",
       "      <td>2</td>\n",
       "      <td>CIS</td>\n",
       "      <td>Android</td>\n",
       "    </tr>\n",
       "    <tr>\n",
       "      <th>345336</th>\n",
       "      <td>10E0DEFC1ABDBBE0</td>\n",
       "      <td>FF4315CF4AD4B100</td>\n",
       "      <td>2025-08-20</td>\n",
       "      <td>2025-08-20 19:31:54</td>\n",
       "      <td>2025-08-14</td>\n",
       "      <td>7</td>\n",
       "      <td>0</td>\n",
       "      <td>2</td>\n",
       "      <td>CIS</td>\n",
       "      <td>Android</td>\n",
       "    </tr>\n",
       "    <tr>\n",
       "      <th>377532</th>\n",
       "      <td>10E0DEFC1ABDBBE0</td>\n",
       "      <td>4045FEA0747203B4</td>\n",
       "      <td>2025-08-22</td>\n",
       "      <td>2025-08-22 17:54:13</td>\n",
       "      <td>2025-08-14</td>\n",
       "      <td>8</td>\n",
       "      <td>0</td>\n",
       "      <td>2</td>\n",
       "      <td>CIS</td>\n",
       "      <td>Android</td>\n",
       "    </tr>\n",
       "    <tr>\n",
       "      <th>403538</th>\n",
       "      <td>10E0DEFC1ABDBBE0</td>\n",
       "      <td>344B086C421C7F37</td>\n",
       "      <td>2025-08-24</td>\n",
       "      <td>2025-08-24 14:46:13</td>\n",
       "      <td>2025-08-14</td>\n",
       "      <td>9</td>\n",
       "      <td>0</td>\n",
       "      <td>2</td>\n",
       "      <td>CIS</td>\n",
       "      <td>Android</td>\n",
       "    </tr>\n",
       "    <tr>\n",
       "      <th>414743</th>\n",
       "      <td>10E0DEFC1ABDBBE0</td>\n",
       "      <td>054F20BA371E4C9D</td>\n",
       "      <td>2025-08-25</td>\n",
       "      <td>2025-08-25 18:36:41</td>\n",
       "      <td>2025-08-14</td>\n",
       "      <td>10</td>\n",
       "      <td>0</td>\n",
       "      <td>3</td>\n",
       "      <td>CIS</td>\n",
       "      <td>Android</td>\n",
       "    </tr>\n",
       "  </tbody>\n",
       "</table>\n",
       "</div>"
      ],
      "text/plain": [
       "                 user_id        session_id session_date     session_start_ts  \\\n",
       "115558  10E0DEFC1ABDBBE0  B8F0423BBFFCF5DC   2025-08-14  2025-08-14 13:57:39   \n",
       "191751  10E0DEFC1ABDBBE0  87CA2FA549473837   2025-08-15  2025-08-15 16:42:10   \n",
       "239370  10E0DEFC1ABDBBE0  4ADD8011DCDCE318   2025-08-16  2025-08-16 19:53:21   \n",
       "274629  10E0DEFC1ABDBBE0  DF0FD0E09BF1F3D7   2025-08-17  2025-08-17 15:03:43   \n",
       "302501  10E0DEFC1ABDBBE0  3C221774B4DE6885   2025-08-18  2025-08-18 17:29:14   \n",
       "325557  10E0DEFC1ABDBBE0  031BD7A67048105B   2025-08-19  2025-08-19 13:23:55   \n",
       "345336  10E0DEFC1ABDBBE0  FF4315CF4AD4B100   2025-08-20  2025-08-20 19:31:54   \n",
       "377532  10E0DEFC1ABDBBE0  4045FEA0747203B4   2025-08-22  2025-08-22 17:54:13   \n",
       "403538  10E0DEFC1ABDBBE0  344B086C421C7F37   2025-08-24  2025-08-24 14:46:13   \n",
       "414743  10E0DEFC1ABDBBE0  054F20BA371E4C9D   2025-08-25  2025-08-25 18:36:41   \n",
       "\n",
       "       install_date  session_number  registration_flag  page_counter region  \\\n",
       "115558   2025-08-14               1                  0             4    CIS   \n",
       "191751   2025-08-14               2                  0             3    CIS   \n",
       "239370   2025-08-14               3                  0             3    CIS   \n",
       "274629   2025-08-14               4                  0             1    CIS   \n",
       "302501   2025-08-14               5                  0             4    CIS   \n",
       "325557   2025-08-14               6                  0             2    CIS   \n",
       "345336   2025-08-14               7                  0             2    CIS   \n",
       "377532   2025-08-14               8                  0             2    CIS   \n",
       "403538   2025-08-14               9                  0             2    CIS   \n",
       "414743   2025-08-14              10                  0             3    CIS   \n",
       "\n",
       "         device  \n",
       "115558  Android  \n",
       "191751  Android  \n",
       "239370  Android  \n",
       "274629  Android  \n",
       "302501  Android  \n",
       "325557  Android  \n",
       "345336  Android  \n",
       "377532  Android  \n",
       "403538  Android  \n",
       "414743  Android  "
      ]
     },
     "execution_count": 3,
     "metadata": {},
     "output_type": "execute_result"
    }
   ],
   "source": [
    "# сохраняем user_id пользователя с макс кол-вом сессий\n",
    "top_user = sessions_history.groupby('user_id')['session_id'].count().idxmax() \n",
    "# фильтруем датафрейм, оставив только одного п-ля с макс кол-вом сессий\n",
    "top_user_data = sessions_history[sessions_history['user_id']==top_user] \n",
    "# выводим на экран получившийся датафрейм\n",
    "top_user_data"
   ]
  },
  {
   "cell_type": "markdown",
   "metadata": {
    "id": "CmcGpJTP0eMq"
   },
   "source": [
    "#### 1.3. Анализ числа регистраций\n",
    "Одна из важнейших метрик продукта — число зарегистрированных пользователей. Используя исторические данные, визуализируйте, как менялось число регистраций в приложении за время его существования.\n",
    "\n",
    "- Агрегируйте исторические данные и рассчитайте число уникальных пользователей и число зарегистрированных пользователей для каждого дня наблюдения. Для простоты считайте, что у пользователя в течение дня бывает одна сессия максимум и статус регистрации в течение одного дня не может измениться.\n",
    "\n",
    "- Постройте линейные графики общего числа пользователей и общего числа зарегистрированных пользователей по дням. Отобразите их на одном графике.\n",
    "\n",
    "- Постройте отдельный линейный график доли зарегистрированных пользователей от всех пользователей по дням.\n",
    "\n",
    "- На обоих графиках должны быть заголовок, подписанные оси X и Y, сетка и легенда."
   ]
  },
  {
   "cell_type": "code",
   "execution_count": 4,
   "metadata": {
    "id": "tN_6Ml3EPatS",
    "scrolled": true
   },
   "outputs": [
    {
     "data": {
      "text/html": [
       "<div>\n",
       "<style scoped>\n",
       "    .dataframe tbody tr th:only-of-type {\n",
       "        vertical-align: middle;\n",
       "    }\n",
       "\n",
       "    .dataframe tbody tr th {\n",
       "        vertical-align: top;\n",
       "    }\n",
       "\n",
       "    .dataframe thead th {\n",
       "        text-align: right;\n",
       "    }\n",
       "</style>\n",
       "<table border=\"1\" class=\"dataframe\">\n",
       "  <thead>\n",
       "    <tr style=\"text-align: right;\">\n",
       "      <th></th>\n",
       "      <th>date</th>\n",
       "      <th>daily_active_users</th>\n",
       "      <th>daily_registered_users</th>\n",
       "      <th>frac_registered_users</th>\n",
       "    </tr>\n",
       "  </thead>\n",
       "  <tbody>\n",
       "    <tr>\n",
       "      <th>0</th>\n",
       "      <td>2025-08-11</td>\n",
       "      <td>3919</td>\n",
       "      <td>169</td>\n",
       "      <td>4.31</td>\n",
       "    </tr>\n",
       "    <tr>\n",
       "      <th>1</th>\n",
       "      <td>2025-08-12</td>\n",
       "      <td>6056</td>\n",
       "      <td>336</td>\n",
       "      <td>5.55</td>\n",
       "    </tr>\n",
       "    <tr>\n",
       "      <th>2</th>\n",
       "      <td>2025-08-13</td>\n",
       "      <td>8489</td>\n",
       "      <td>464</td>\n",
       "      <td>5.47</td>\n",
       "    </tr>\n",
       "    <tr>\n",
       "      <th>3</th>\n",
       "      <td>2025-08-14</td>\n",
       "      <td>10321</td>\n",
       "      <td>625</td>\n",
       "      <td>6.06</td>\n",
       "    </tr>\n",
       "    <tr>\n",
       "      <th>4</th>\n",
       "      <td>2025-08-15</td>\n",
       "      <td>14065</td>\n",
       "      <td>840</td>\n",
       "      <td>5.97</td>\n",
       "    </tr>\n",
       "    <tr>\n",
       "      <th>5</th>\n",
       "      <td>2025-08-16</td>\n",
       "      <td>12205</td>\n",
       "      <td>916</td>\n",
       "      <td>7.51</td>\n",
       "    </tr>\n",
       "    <tr>\n",
       "      <th>6</th>\n",
       "      <td>2025-08-17</td>\n",
       "      <td>11200</td>\n",
       "      <td>833</td>\n",
       "      <td>7.44</td>\n",
       "    </tr>\n",
       "    <tr>\n",
       "      <th>7</th>\n",
       "      <td>2025-08-18</td>\n",
       "      <td>10839</td>\n",
       "      <td>860</td>\n",
       "      <td>7.93</td>\n",
       "    </tr>\n",
       "    <tr>\n",
       "      <th>8</th>\n",
       "      <td>2025-08-19</td>\n",
       "      <td>12118</td>\n",
       "      <td>831</td>\n",
       "      <td>6.86</td>\n",
       "    </tr>\n",
       "    <tr>\n",
       "      <th>9</th>\n",
       "      <td>2025-08-20</td>\n",
       "      <td>13514</td>\n",
       "      <td>1008</td>\n",
       "      <td>7.46</td>\n",
       "    </tr>\n",
       "    <tr>\n",
       "      <th>10</th>\n",
       "      <td>2025-08-21</td>\n",
       "      <td>15051</td>\n",
       "      <td>1063</td>\n",
       "      <td>7.06</td>\n",
       "    </tr>\n",
       "    <tr>\n",
       "      <th>11</th>\n",
       "      <td>2025-08-22</td>\n",
       "      <td>17563</td>\n",
       "      <td>1251</td>\n",
       "      <td>7.12</td>\n",
       "    </tr>\n",
       "    <tr>\n",
       "      <th>12</th>\n",
       "      <td>2025-08-23</td>\n",
       "      <td>16082</td>\n",
       "      <td>1253</td>\n",
       "      <td>7.79</td>\n",
       "    </tr>\n",
       "    <tr>\n",
       "      <th>13</th>\n",
       "      <td>2025-08-24</td>\n",
       "      <td>13683</td>\n",
       "      <td>1181</td>\n",
       "      <td>8.63</td>\n",
       "    </tr>\n",
       "    <tr>\n",
       "      <th>14</th>\n",
       "      <td>2025-08-25</td>\n",
       "      <td>13635</td>\n",
       "      <td>1060</td>\n",
       "      <td>7.77</td>\n",
       "    </tr>\n",
       "    <tr>\n",
       "      <th>15</th>\n",
       "      <td>2025-08-26</td>\n",
       "      <td>13289</td>\n",
       "      <td>1050</td>\n",
       "      <td>7.90</td>\n",
       "    </tr>\n",
       "    <tr>\n",
       "      <th>16</th>\n",
       "      <td>2025-08-27</td>\n",
       "      <td>14766</td>\n",
       "      <td>1076</td>\n",
       "      <td>7.29</td>\n",
       "    </tr>\n",
       "    <tr>\n",
       "      <th>17</th>\n",
       "      <td>2025-08-28</td>\n",
       "      <td>15388</td>\n",
       "      <td>1175</td>\n",
       "      <td>7.64</td>\n",
       "    </tr>\n",
       "    <tr>\n",
       "      <th>18</th>\n",
       "      <td>2025-08-29</td>\n",
       "      <td>16873</td>\n",
       "      <td>1174</td>\n",
       "      <td>6.96</td>\n",
       "    </tr>\n",
       "    <tr>\n",
       "      <th>19</th>\n",
       "      <td>2025-08-30</td>\n",
       "      <td>14891</td>\n",
       "      <td>1165</td>\n",
       "      <td>7.82</td>\n",
       "    </tr>\n",
       "    <tr>\n",
       "      <th>20</th>\n",
       "      <td>2025-08-31</td>\n",
       "      <td>13266</td>\n",
       "      <td>1105</td>\n",
       "      <td>8.33</td>\n",
       "    </tr>\n",
       "    <tr>\n",
       "      <th>21</th>\n",
       "      <td>2025-09-01</td>\n",
       "      <td>12685</td>\n",
       "      <td>1028</td>\n",
       "      <td>8.10</td>\n",
       "    </tr>\n",
       "    <tr>\n",
       "      <th>22</th>\n",
       "      <td>2025-09-02</td>\n",
       "      <td>12672</td>\n",
       "      <td>1039</td>\n",
       "      <td>8.20</td>\n",
       "    </tr>\n",
       "    <tr>\n",
       "      <th>23</th>\n",
       "      <td>2025-09-03</td>\n",
       "      <td>12777</td>\n",
       "      <td>1035</td>\n",
       "      <td>8.10</td>\n",
       "    </tr>\n",
       "    <tr>\n",
       "      <th>24</th>\n",
       "      <td>2025-09-04</td>\n",
       "      <td>13683</td>\n",
       "      <td>1007</td>\n",
       "      <td>7.36</td>\n",
       "    </tr>\n",
       "    <tr>\n",
       "      <th>25</th>\n",
       "      <td>2025-09-05</td>\n",
       "      <td>15324</td>\n",
       "      <td>1030</td>\n",
       "      <td>6.72</td>\n",
       "    </tr>\n",
       "    <tr>\n",
       "      <th>26</th>\n",
       "      <td>2025-09-06</td>\n",
       "      <td>13078</td>\n",
       "      <td>1023</td>\n",
       "      <td>7.82</td>\n",
       "    </tr>\n",
       "    <tr>\n",
       "      <th>27</th>\n",
       "      <td>2025-09-07</td>\n",
       "      <td>12367</td>\n",
       "      <td>1069</td>\n",
       "      <td>8.64</td>\n",
       "    </tr>\n",
       "    <tr>\n",
       "      <th>28</th>\n",
       "      <td>2025-09-08</td>\n",
       "      <td>11826</td>\n",
       "      <td>1009</td>\n",
       "      <td>8.53</td>\n",
       "    </tr>\n",
       "    <tr>\n",
       "      <th>29</th>\n",
       "      <td>2025-09-09</td>\n",
       "      <td>11780</td>\n",
       "      <td>980</td>\n",
       "      <td>8.32</td>\n",
       "    </tr>\n",
       "    <tr>\n",
       "      <th>30</th>\n",
       "      <td>2025-09-10</td>\n",
       "      <td>12526</td>\n",
       "      <td>1015</td>\n",
       "      <td>8.10</td>\n",
       "    </tr>\n",
       "    <tr>\n",
       "      <th>31</th>\n",
       "      <td>2025-09-11</td>\n",
       "      <td>8623</td>\n",
       "      <td>824</td>\n",
       "      <td>9.56</td>\n",
       "    </tr>\n",
       "    <tr>\n",
       "      <th>32</th>\n",
       "      <td>2025-09-12</td>\n",
       "      <td>6436</td>\n",
       "      <td>669</td>\n",
       "      <td>10.39</td>\n",
       "    </tr>\n",
       "    <tr>\n",
       "      <th>33</th>\n",
       "      <td>2025-09-13</td>\n",
       "      <td>5183</td>\n",
       "      <td>537</td>\n",
       "      <td>10.36</td>\n",
       "    </tr>\n",
       "    <tr>\n",
       "      <th>34</th>\n",
       "      <td>2025-09-14</td>\n",
       "      <td>4364</td>\n",
       "      <td>440</td>\n",
       "      <td>10.08</td>\n",
       "    </tr>\n",
       "    <tr>\n",
       "      <th>35</th>\n",
       "      <td>2025-09-15</td>\n",
       "      <td>3698</td>\n",
       "      <td>383</td>\n",
       "      <td>10.36</td>\n",
       "    </tr>\n",
       "    <tr>\n",
       "      <th>36</th>\n",
       "      <td>2025-09-16</td>\n",
       "      <td>3032</td>\n",
       "      <td>286</td>\n",
       "      <td>9.43</td>\n",
       "    </tr>\n",
       "    <tr>\n",
       "      <th>37</th>\n",
       "      <td>2025-09-17</td>\n",
       "      <td>2548</td>\n",
       "      <td>272</td>\n",
       "      <td>10.68</td>\n",
       "    </tr>\n",
       "    <tr>\n",
       "      <th>38</th>\n",
       "      <td>2025-09-18</td>\n",
       "      <td>1952</td>\n",
       "      <td>201</td>\n",
       "      <td>10.30</td>\n",
       "    </tr>\n",
       "    <tr>\n",
       "      <th>39</th>\n",
       "      <td>2025-09-19</td>\n",
       "      <td>1418</td>\n",
       "      <td>132</td>\n",
       "      <td>9.31</td>\n",
       "    </tr>\n",
       "    <tr>\n",
       "      <th>40</th>\n",
       "      <td>2025-09-20</td>\n",
       "      <td>1100</td>\n",
       "      <td>107</td>\n",
       "      <td>9.73</td>\n",
       "    </tr>\n",
       "    <tr>\n",
       "      <th>41</th>\n",
       "      <td>2025-09-21</td>\n",
       "      <td>776</td>\n",
       "      <td>87</td>\n",
       "      <td>11.21</td>\n",
       "    </tr>\n",
       "    <tr>\n",
       "      <th>42</th>\n",
       "      <td>2025-09-22</td>\n",
       "      <td>546</td>\n",
       "      <td>68</td>\n",
       "      <td>12.45</td>\n",
       "    </tr>\n",
       "    <tr>\n",
       "      <th>43</th>\n",
       "      <td>2025-09-23</td>\n",
       "      <td>317</td>\n",
       "      <td>32</td>\n",
       "      <td>10.09</td>\n",
       "    </tr>\n",
       "  </tbody>\n",
       "</table>\n",
       "</div>"
      ],
      "text/plain": [
       "          date  daily_active_users  daily_registered_users  \\\n",
       "0   2025-08-11                3919                     169   \n",
       "1   2025-08-12                6056                     336   \n",
       "2   2025-08-13                8489                     464   \n",
       "3   2025-08-14               10321                     625   \n",
       "4   2025-08-15               14065                     840   \n",
       "5   2025-08-16               12205                     916   \n",
       "6   2025-08-17               11200                     833   \n",
       "7   2025-08-18               10839                     860   \n",
       "8   2025-08-19               12118                     831   \n",
       "9   2025-08-20               13514                    1008   \n",
       "10  2025-08-21               15051                    1063   \n",
       "11  2025-08-22               17563                    1251   \n",
       "12  2025-08-23               16082                    1253   \n",
       "13  2025-08-24               13683                    1181   \n",
       "14  2025-08-25               13635                    1060   \n",
       "15  2025-08-26               13289                    1050   \n",
       "16  2025-08-27               14766                    1076   \n",
       "17  2025-08-28               15388                    1175   \n",
       "18  2025-08-29               16873                    1174   \n",
       "19  2025-08-30               14891                    1165   \n",
       "20  2025-08-31               13266                    1105   \n",
       "21  2025-09-01               12685                    1028   \n",
       "22  2025-09-02               12672                    1039   \n",
       "23  2025-09-03               12777                    1035   \n",
       "24  2025-09-04               13683                    1007   \n",
       "25  2025-09-05               15324                    1030   \n",
       "26  2025-09-06               13078                    1023   \n",
       "27  2025-09-07               12367                    1069   \n",
       "28  2025-09-08               11826                    1009   \n",
       "29  2025-09-09               11780                     980   \n",
       "30  2025-09-10               12526                    1015   \n",
       "31  2025-09-11                8623                     824   \n",
       "32  2025-09-12                6436                     669   \n",
       "33  2025-09-13                5183                     537   \n",
       "34  2025-09-14                4364                     440   \n",
       "35  2025-09-15                3698                     383   \n",
       "36  2025-09-16                3032                     286   \n",
       "37  2025-09-17                2548                     272   \n",
       "38  2025-09-18                1952                     201   \n",
       "39  2025-09-19                1418                     132   \n",
       "40  2025-09-20                1100                     107   \n",
       "41  2025-09-21                 776                      87   \n",
       "42  2025-09-22                 546                      68   \n",
       "43  2025-09-23                 317                      32   \n",
       "\n",
       "    frac_registered_users  \n",
       "0                    4.31  \n",
       "1                    5.55  \n",
       "2                    5.47  \n",
       "3                    6.06  \n",
       "4                    5.97  \n",
       "5                    7.51  \n",
       "6                    7.44  \n",
       "7                    7.93  \n",
       "8                    6.86  \n",
       "9                    7.46  \n",
       "10                   7.06  \n",
       "11                   7.12  \n",
       "12                   7.79  \n",
       "13                   8.63  \n",
       "14                   7.77  \n",
       "15                   7.90  \n",
       "16                   7.29  \n",
       "17                   7.64  \n",
       "18                   6.96  \n",
       "19                   7.82  \n",
       "20                   8.33  \n",
       "21                   8.10  \n",
       "22                   8.20  \n",
       "23                   8.10  \n",
       "24                   7.36  \n",
       "25                   6.72  \n",
       "26                   7.82  \n",
       "27                   8.64  \n",
       "28                   8.53  \n",
       "29                   8.32  \n",
       "30                   8.10  \n",
       "31                   9.56  \n",
       "32                  10.39  \n",
       "33                  10.36  \n",
       "34                  10.08  \n",
       "35                  10.36  \n",
       "36                   9.43  \n",
       "37                  10.68  \n",
       "38                  10.30  \n",
       "39                   9.31  \n",
       "40                   9.73  \n",
       "41                  11.21  \n",
       "42                  12.45  \n",
       "43                  10.09  "
      ]
     },
     "execution_count": 4,
     "metadata": {},
     "output_type": "execute_result"
    }
   ],
   "source": [
    "# создадим сводную таблицу, в которой для каждого числа посчитаем кол-во пользвателей и кол-во зарегистрированных п-ей\n",
    "dau_pivot = sessions_history.pivot_table(\n",
    "    index = 'session_date',\n",
    "    aggfunc = {'user_id' : 'count', # по ТЗ мы считаем, что у одного п-ля в день бывает максимум одна сессия, так что достаточно посчитать кол-во п-лей в день без доп условий\n",
    "               'registration_flag' : 'sum'} # по ТЗ мы считаем, что в течение дня стутас регистрации не меняется, поэтому просто суммируем к-во зарегистрированных п-лей без доп условий\n",
    ")\n",
    "# сбросим индексы и переименуем столбцы\n",
    "dau_pivot = dau_pivot.reset_index()\n",
    "dau_pivot.columns = ['date', 'daily_registered_users', 'daily_active_users']\n",
    "# поменяем порядок столбцов для лучшей логики таблицы\n",
    "dau_pivot = dau_pivot.reindex(columns = ['date', 'daily_active_users', 'daily_registered_users'])\n",
    "# Добавим в таблицу столбец, в котором расчитаем долю зарегистрированных п-лей\n",
    "dau_pivot['frac_registered_users'] = round((dau_pivot['daily_registered_users'] / dau_pivot['daily_active_users'])*100, 2)\n",
    "# выведим таблицу на экран\n",
    "dau_pivot"
   ]
  },
  {
   "cell_type": "markdown",
   "metadata": {},
   "source": [
    "**Построим графики общего числа пользователей и общего числа зарегистрированных пользователей по дням**"
   ]
  },
  {
   "cell_type": "code",
   "execution_count": 5,
   "metadata": {
    "scrolled": false
   },
   "outputs": [
    {
     "data": {
      "image/png": "[encoded data removed]",
      "text/plain": [
       "<Figure size 1080x504 with 1 Axes>"
      ]
     },
     "metadata": {
      "needs_background": "light"
     },
     "output_type": "display_data"
    }
   ],
   "source": [
    "# Создаем фигуру\n",
    "plt.figure(figsize=(15, 7))\n",
    "\n",
    "# Создаем первый график\n",
    "plt.plot(dau_pivot['date'], \n",
    "        dau_pivot['daily_active_users'], \n",
    "        label='Общее количество пользователей')\n",
    "\n",
    "# Создаем второй график\n",
    "plt.plot(dau_pivot['date'], \n",
    "        dau_pivot['daily_registered_users'], \n",
    "        label='Количество зарегистрированных пользователей')\n",
    "\n",
    "# поворачиваем подписи по оси Х\n",
    "plt.xticks(rotation=90)\n",
    "\n",
    "# Добавляем название графика и подписи осей\n",
    "plt.title('Количество пользователей и зарегистрированных пользователей по дням')\n",
    "plt.xlabel('Дата')\n",
    "plt.ylabel('Количество пользователей')\n",
    "\n",
    "# Добавляем легенду\n",
    "plt.legend()\n",
    "\n",
    "# Включаем сетку\n",
    "plt.grid()\n",
    "\n",
    "# Отображаем графики\n",
    "plt.show()"
   ]
  },
  {
   "cell_type": "markdown",
   "metadata": {},
   "source": [
    "**Построим отдельный линейный график доли зарегистрированных пользователей от всех пользователей по дням**"
   ]
  },
  {
   "cell_type": "code",
   "execution_count": 6,
   "metadata": {},
   "outputs": [
    {
     "data": {
      "image/png": "[encoded data removed]",
      "text/plain": [
       "<Figure size 1080x504 with 1 Axes>"
      ]
     },
     "metadata": {
      "needs_background": "light"
     },
     "output_type": "display_data"
    }
   ],
   "source": [
    "# Создаем фигуру\n",
    "plt.figure(figsize=(15, 7))\n",
    "\n",
    "# Создаем первый график\n",
    "plt.plot(dau_pivot['date'], \n",
    "        dau_pivot['frac_registered_users'], \n",
    "        label='Доля зарегистрированных пользователей')\n",
    "\n",
    "# поворачиваем подписи по оси Х\n",
    "plt.xticks(rotation=90)\n",
    "\n",
    "# Добавляем название графика и подписи осей\n",
    "plt.title('Доля зарегистрированных пользователей по дням')\n",
    "plt.xlabel('Дата')\n",
    "plt.ylabel('Количество пользователей')\n",
    "\n",
    "# Добавляем легенду\n",
    "plt.legend()\n",
    "\n",
    "# Включаем сетку\n",
    "plt.grid()\n",
    "\n",
    "# Отображаем графики\n",
    "plt.show()"
   ]
  },
  {
   "cell_type": "markdown",
   "metadata": {},
   "source": [
    "**Промежуточный вывод**\n",
    "\n",
    "1. В количественном выражении кажется, что с 10 сентября 2025г количество регистраций уменьшается, однако в долевом соотношении к общему числу пользователей за день оно постоянно увеличивается. \n",
    "2. С 10 сентября наблюдается резкое уменьшение общего количества пользователей в день."
   ]
  },
  {
   "cell_type": "markdown",
   "metadata": {
    "id": "UR7D7RhF0eMr"
   },
   "source": [
    "#### 1.4. Анализ числа просмотренных страниц\n",
    "Другая важная метрика продукта — число просмотренных страниц в приложении. Чем больше страниц просмотрено, тем сильнее пользователь увлечён контентом, а значит, выше шансы на то, что он зарегистрируется и оплатит подписку.\n",
    "\n",
    "- Найдите количество сессий для каждого значения количества просмотренных страниц. Например: одну страницу просмотрели в 29160 сессиях, две страницы в 105536 сессиях и так далее.\n",
    "\n",
    "- Постройте столбчатую диаграмму, где по оси X будет число просмотренных страниц, по оси Y — количество сессий.\n",
    "\n",
    "- На диаграмме должны быть заголовок, подписанные оси X и Y."
   ]
  },
  {
   "cell_type": "code",
   "execution_count": 7,
   "metadata": {
    "id": "cb6hPlVzPaSf"
   },
   "outputs": [
    {
     "data": {
      "text/html": [
       "<div>\n",
       "<style scoped>\n",
       "    .dataframe tbody tr th:only-of-type {\n",
       "        vertical-align: middle;\n",
       "    }\n",
       "\n",
       "    .dataframe tbody tr th {\n",
       "        vertical-align: top;\n",
       "    }\n",
       "\n",
       "    .dataframe thead th {\n",
       "        text-align: right;\n",
       "    }\n",
       "</style>\n",
       "<table border=\"1\" class=\"dataframe\">\n",
       "  <thead>\n",
       "    <tr style=\"text-align: right;\">\n",
       "      <th></th>\n",
       "      <th>page_counter</th>\n",
       "      <th>number_of_sessions</th>\n",
       "    </tr>\n",
       "  </thead>\n",
       "  <tbody>\n",
       "    <tr>\n",
       "      <th>0</th>\n",
       "      <td>1</td>\n",
       "      <td>29160</td>\n",
       "    </tr>\n",
       "    <tr>\n",
       "      <th>1</th>\n",
       "      <td>2</td>\n",
       "      <td>105536</td>\n",
       "    </tr>\n",
       "    <tr>\n",
       "      <th>2</th>\n",
       "      <td>3</td>\n",
       "      <td>166690</td>\n",
       "    </tr>\n",
       "    <tr>\n",
       "      <th>3</th>\n",
       "      <td>4</td>\n",
       "      <td>105569</td>\n",
       "    </tr>\n",
       "    <tr>\n",
       "      <th>4</th>\n",
       "      <td>5</td>\n",
       "      <td>26288</td>\n",
       "    </tr>\n",
       "    <tr>\n",
       "      <th>5</th>\n",
       "      <td>6</td>\n",
       "      <td>2589</td>\n",
       "    </tr>\n",
       "    <tr>\n",
       "      <th>6</th>\n",
       "      <td>7</td>\n",
       "      <td>92</td>\n",
       "    </tr>\n",
       "  </tbody>\n",
       "</table>\n",
       "</div>"
      ],
      "text/plain": [
       "   page_counter  number_of_sessions\n",
       "0             1               29160\n",
       "1             2              105536\n",
       "2             3              166690\n",
       "3             4              105569\n",
       "4             5               26288\n",
       "5             6                2589\n",
       "6             7                  92"
      ]
     },
     "execution_count": 7,
     "metadata": {},
     "output_type": "execute_result"
    }
   ],
   "source": [
    "# создадим сводную таблицу, в которой для каждого числа посчитаем кол-во пользвателей и кол-во зарегистрированных п-ей\n",
    "page_counter_pivot = sessions_history.pivot_table(\n",
    "    index = 'page_counter',\n",
    "    values = 'session_id',\n",
    "    aggfunc = 'count'\n",
    ")\n",
    "# сбросим индексы и переименуем столбцы\n",
    "page_counter_pivot = page_counter_pivot.reset_index()\n",
    "page_counter_pivot.columns = ['page_counter', 'number_of_sessions']\n",
    "# выведим таблицу на экран\n",
    "page_counter_pivot"
   ]
  },
  {
   "cell_type": "markdown",
   "metadata": {},
   "source": [
    "**Построим столбчатую диаграмму**"
   ]
  },
  {
   "cell_type": "code",
   "execution_count": 8,
   "metadata": {},
   "outputs": [
    {
     "data": {
      "image/png": "[encoded data removed]",
      "text/plain": [
       "<Figure size 720x504 with 1 Axes>"
      ]
     },
     "metadata": {
      "needs_background": "light"
     },
     "output_type": "display_data"
    }
   ],
   "source": [
    "# Создаём контейнер графика matplotlib и задаём его размер\n",
    "plt.figure(figsize=(10, 7))\n",
    "\n",
    "# Строим столбчатую диаграмму\n",
    "plt.bar(page_counter_pivot['page_counter'], page_counter_pivot['number_of_sessions'])\n",
    "\n",
    "# Добавляем название графика и подписи осей\n",
    "plt.title('Количество сессий по числу просмотренных страниц')\n",
    "plt.xlabel('Число просмотренных страниц')\n",
    "plt.ylabel('Количество сессий')\n",
    "# Добавляем сетку графика\n",
    "plt.grid()\n",
    "\n",
    "# Выводим график\n",
    "plt.show()"
   ]
  },
  {
   "cell_type": "markdown",
   "metadata": {},
   "source": [
    "**Промежуточный вывод**\n",
    "\n",
    "Чаще всего в рамках одной сессии пользователи просматривают по 3 страницы."
   ]
  },
  {
   "cell_type": "markdown",
   "metadata": {
    "id": "xDltSpVP0eMr"
   },
   "source": [
    "#### 1.5. Доля пользователей, просмотревших более четырёх страниц\n",
    "Продуктовая команда продукта считает, что сессии, в рамках которых пользователь просмотрел 4 и более страниц, говорят об удовлетворённости контентом и алгоритмами рекомендаций. Этот показатель является важной прокси-метрикой для продукта.\n",
    "\n",
    "- В датафрейме `sessions_history` создайте дополнительный столбец `good_session`. В него войдёт значение `1`, если за одну сессию было просмотрено 4 и более страниц, и значение `0`, если было просмотрено меньше.\n",
    "\n",
    "- Постройте график со средним значением доли успешных сессий ко всем сессиям по дням за весь период наблюдения."
   ]
  },
  {
   "cell_type": "code",
   "execution_count": 9,
   "metadata": {
    "id": "iygaPfixPYMW",
    "scrolled": true
   },
   "outputs": [
    {
     "data": {
      "text/html": [
       "<div>\n",
       "<style scoped>\n",
       "    .dataframe tbody tr th:only-of-type {\n",
       "        vertical-align: middle;\n",
       "    }\n",
       "\n",
       "    .dataframe tbody tr th {\n",
       "        vertical-align: top;\n",
       "    }\n",
       "\n",
       "    .dataframe thead th {\n",
       "        text-align: right;\n",
       "    }\n",
       "</style>\n",
       "<table border=\"1\" class=\"dataframe\">\n",
       "  <thead>\n",
       "    <tr style=\"text-align: right;\">\n",
       "      <th></th>\n",
       "      <th>user_id</th>\n",
       "      <th>session_id</th>\n",
       "      <th>session_date</th>\n",
       "      <th>session_start_ts</th>\n",
       "      <th>install_date</th>\n",
       "      <th>session_number</th>\n",
       "      <th>registration_flag</th>\n",
       "      <th>page_counter</th>\n",
       "      <th>region</th>\n",
       "      <th>device</th>\n",
       "      <th>good_session</th>\n",
       "    </tr>\n",
       "  </thead>\n",
       "  <tbody>\n",
       "    <tr>\n",
       "      <th>0</th>\n",
       "      <td>E302123B7000BFE4</td>\n",
       "      <td>F9AF61A0C2023832</td>\n",
       "      <td>2025-08-15</td>\n",
       "      <td>2025-08-15 17:47:35</td>\n",
       "      <td>2025-08-15</td>\n",
       "      <td>1</td>\n",
       "      <td>0</td>\n",
       "      <td>3</td>\n",
       "      <td>CIS</td>\n",
       "      <td>iPhone</td>\n",
       "      <td>0</td>\n",
       "    </tr>\n",
       "    <tr>\n",
       "      <th>1</th>\n",
       "      <td>2530F72E221829FB</td>\n",
       "      <td>85003A206CBDAC6F</td>\n",
       "      <td>2025-08-15</td>\n",
       "      <td>2025-08-15 16:42:14</td>\n",
       "      <td>2025-08-15</td>\n",
       "      <td>1</td>\n",
       "      <td>0</td>\n",
       "      <td>4</td>\n",
       "      <td>MENA</td>\n",
       "      <td>Android</td>\n",
       "      <td>1</td>\n",
       "    </tr>\n",
       "    <tr>\n",
       "      <th>2</th>\n",
       "      <td>876E020A4FC512F5</td>\n",
       "      <td>3677423E49D72DEE</td>\n",
       "      <td>2025-08-15</td>\n",
       "      <td>2025-08-15 12:30:00</td>\n",
       "      <td>2025-08-15</td>\n",
       "      <td>1</td>\n",
       "      <td>0</td>\n",
       "      <td>4</td>\n",
       "      <td>EU</td>\n",
       "      <td>PC</td>\n",
       "      <td>1</td>\n",
       "    </tr>\n",
       "    <tr>\n",
       "      <th>3</th>\n",
       "      <td>2640B349E1D81584</td>\n",
       "      <td>956B45F5915CA225</td>\n",
       "      <td>2025-08-15</td>\n",
       "      <td>2025-08-15 15:31:31</td>\n",
       "      <td>2025-08-15</td>\n",
       "      <td>1</td>\n",
       "      <td>0</td>\n",
       "      <td>4</td>\n",
       "      <td>CIS</td>\n",
       "      <td>Android</td>\n",
       "      <td>1</td>\n",
       "    </tr>\n",
       "    <tr>\n",
       "      <th>4</th>\n",
       "      <td>94E1CBFAEF1F5EE9</td>\n",
       "      <td>83BF0DA35F9F1F40</td>\n",
       "      <td>2025-08-15</td>\n",
       "      <td>2025-08-15 21:33:53</td>\n",
       "      <td>2025-08-15</td>\n",
       "      <td>1</td>\n",
       "      <td>0</td>\n",
       "      <td>3</td>\n",
       "      <td>CIS</td>\n",
       "      <td>Android</td>\n",
       "      <td>0</td>\n",
       "    </tr>\n",
       "  </tbody>\n",
       "</table>\n",
       "</div>"
      ],
      "text/plain": [
       "            user_id        session_id session_date     session_start_ts  \\\n",
       "0  E302123B7000BFE4  F9AF61A0C2023832   2025-08-15  2025-08-15 17:47:35   \n",
       "1  2530F72E221829FB  85003A206CBDAC6F   2025-08-15  2025-08-15 16:42:14   \n",
       "2  876E020A4FC512F5  3677423E49D72DEE   2025-08-15  2025-08-15 12:30:00   \n",
       "3  2640B349E1D81584  956B45F5915CA225   2025-08-15  2025-08-15 15:31:31   \n",
       "4  94E1CBFAEF1F5EE9  83BF0DA35F9F1F40   2025-08-15  2025-08-15 21:33:53   \n",
       "\n",
       "  install_date  session_number  registration_flag  page_counter region  \\\n",
       "0   2025-08-15               1                  0             3    CIS   \n",
       "1   2025-08-15               1                  0             4   MENA   \n",
       "2   2025-08-15               1                  0             4     EU   \n",
       "3   2025-08-15               1                  0             4    CIS   \n",
       "4   2025-08-15               1                  0             3    CIS   \n",
       "\n",
       "    device  good_session  \n",
       "0   iPhone             0  \n",
       "1  Android             1  \n",
       "2       PC             1  \n",
       "3  Android             1  \n",
       "4  Android             0  "
      ]
     },
     "execution_count": 9,
     "metadata": {},
     "output_type": "execute_result"
    }
   ],
   "source": [
    "# Добавим новый столбец, используя лямбда-функцию\n",
    "sessions_history['good_session'] = sessions_history['page_counter'].apply(lambda x: 1 if x >= 4 else 0)\n",
    "sessions_history.head(5)"
   ]
  },
  {
   "cell_type": "code",
   "execution_count": 22,
   "metadata": {
    "scrolled": true
   },
   "outputs": [
    {
     "data": {
      "text/html": [
       "<div>\n",
       "<style scoped>\n",
       "    .dataframe tbody tr th:only-of-type {\n",
       "        vertical-align: middle;\n",
       "    }\n",
       "\n",
       "    .dataframe tbody tr th {\n",
       "        vertical-align: top;\n",
       "    }\n",
       "\n",
       "    .dataframe thead th {\n",
       "        text-align: right;\n",
       "    }\n",
       "</style>\n",
       "<table border=\"1\" class=\"dataframe\">\n",
       "  <thead>\n",
       "    <tr style=\"text-align: right;\">\n",
       "      <th></th>\n",
       "      <th>session_date</th>\n",
       "      <th>good_session</th>\n",
       "    </tr>\n",
       "  </thead>\n",
       "  <tbody>\n",
       "    <tr>\n",
       "      <th>0</th>\n",
       "      <td>2025-08-11</td>\n",
       "      <td>0.312835</td>\n",
       "    </tr>\n",
       "    <tr>\n",
       "      <th>1</th>\n",
       "      <td>2025-08-12</td>\n",
       "      <td>0.302015</td>\n",
       "    </tr>\n",
       "    <tr>\n",
       "      <th>2</th>\n",
       "      <td>2025-08-13</td>\n",
       "      <td>0.306750</td>\n",
       "    </tr>\n",
       "    <tr>\n",
       "      <th>3</th>\n",
       "      <td>2025-08-14</td>\n",
       "      <td>0.316055</td>\n",
       "    </tr>\n",
       "    <tr>\n",
       "      <th>4</th>\n",
       "      <td>2025-08-15</td>\n",
       "      <td>0.304941</td>\n",
       "    </tr>\n",
       "    <tr>\n",
       "      <th>5</th>\n",
       "      <td>2025-08-16</td>\n",
       "      <td>0.306186</td>\n",
       "    </tr>\n",
       "    <tr>\n",
       "      <th>6</th>\n",
       "      <td>2025-08-17</td>\n",
       "      <td>0.317589</td>\n",
       "    </tr>\n",
       "    <tr>\n",
       "      <th>7</th>\n",
       "      <td>2025-08-18</td>\n",
       "      <td>0.310545</td>\n",
       "    </tr>\n",
       "    <tr>\n",
       "      <th>8</th>\n",
       "      <td>2025-08-19</td>\n",
       "      <td>0.312840</td>\n",
       "    </tr>\n",
       "    <tr>\n",
       "      <th>9</th>\n",
       "      <td>2025-08-20</td>\n",
       "      <td>0.306941</td>\n",
       "    </tr>\n",
       "    <tr>\n",
       "      <th>10</th>\n",
       "      <td>2025-08-21</td>\n",
       "      <td>0.303169</td>\n",
       "    </tr>\n",
       "    <tr>\n",
       "      <th>11</th>\n",
       "      <td>2025-08-22</td>\n",
       "      <td>0.313158</td>\n",
       "    </tr>\n",
       "    <tr>\n",
       "      <th>12</th>\n",
       "      <td>2025-08-23</td>\n",
       "      <td>0.302077</td>\n",
       "    </tr>\n",
       "    <tr>\n",
       "      <th>13</th>\n",
       "      <td>2025-08-24</td>\n",
       "      <td>0.309800</td>\n",
       "    </tr>\n",
       "    <tr>\n",
       "      <th>14</th>\n",
       "      <td>2025-08-25</td>\n",
       "      <td>0.305464</td>\n",
       "    </tr>\n",
       "    <tr>\n",
       "      <th>15</th>\n",
       "      <td>2025-08-26</td>\n",
       "      <td>0.310934</td>\n",
       "    </tr>\n",
       "    <tr>\n",
       "      <th>16</th>\n",
       "      <td>2025-08-27</td>\n",
       "      <td>0.311120</td>\n",
       "    </tr>\n",
       "    <tr>\n",
       "      <th>17</th>\n",
       "      <td>2025-08-28</td>\n",
       "      <td>0.310567</td>\n",
       "    </tr>\n",
       "    <tr>\n",
       "      <th>18</th>\n",
       "      <td>2025-08-29</td>\n",
       "      <td>0.313104</td>\n",
       "    </tr>\n",
       "    <tr>\n",
       "      <th>19</th>\n",
       "      <td>2025-08-30</td>\n",
       "      <td>0.313814</td>\n",
       "    </tr>\n",
       "    <tr>\n",
       "      <th>20</th>\n",
       "      <td>2025-08-31</td>\n",
       "      <td>0.302503</td>\n",
       "    </tr>\n",
       "    <tr>\n",
       "      <th>21</th>\n",
       "      <td>2025-09-01</td>\n",
       "      <td>0.312495</td>\n",
       "    </tr>\n",
       "    <tr>\n",
       "      <th>22</th>\n",
       "      <td>2025-09-02</td>\n",
       "      <td>0.315499</td>\n",
       "    </tr>\n",
       "    <tr>\n",
       "      <th>23</th>\n",
       "      <td>2025-09-03</td>\n",
       "      <td>0.304140</td>\n",
       "    </tr>\n",
       "    <tr>\n",
       "      <th>24</th>\n",
       "      <td>2025-09-04</td>\n",
       "      <td>0.315501</td>\n",
       "    </tr>\n",
       "    <tr>\n",
       "      <th>25</th>\n",
       "      <td>2025-09-05</td>\n",
       "      <td>0.303837</td>\n",
       "    </tr>\n",
       "    <tr>\n",
       "      <th>26</th>\n",
       "      <td>2025-09-06</td>\n",
       "      <td>0.304557</td>\n",
       "    </tr>\n",
       "    <tr>\n",
       "      <th>27</th>\n",
       "      <td>2025-09-07</td>\n",
       "      <td>0.312121</td>\n",
       "    </tr>\n",
       "    <tr>\n",
       "      <th>28</th>\n",
       "      <td>2025-09-08</td>\n",
       "      <td>0.308811</td>\n",
       "    </tr>\n",
       "    <tr>\n",
       "      <th>29</th>\n",
       "      <td>2025-09-09</td>\n",
       "      <td>0.305518</td>\n",
       "    </tr>\n",
       "    <tr>\n",
       "      <th>30</th>\n",
       "      <td>2025-09-10</td>\n",
       "      <td>0.305125</td>\n",
       "    </tr>\n",
       "    <tr>\n",
       "      <th>31</th>\n",
       "      <td>2025-09-11</td>\n",
       "      <td>0.304650</td>\n",
       "    </tr>\n",
       "    <tr>\n",
       "      <th>32</th>\n",
       "      <td>2025-09-12</td>\n",
       "      <td>0.301585</td>\n",
       "    </tr>\n",
       "    <tr>\n",
       "      <th>33</th>\n",
       "      <td>2025-09-13</td>\n",
       "      <td>0.299055</td>\n",
       "    </tr>\n",
       "    <tr>\n",
       "      <th>34</th>\n",
       "      <td>2025-09-14</td>\n",
       "      <td>0.307745</td>\n",
       "    </tr>\n",
       "    <tr>\n",
       "      <th>35</th>\n",
       "      <td>2025-09-15</td>\n",
       "      <td>0.305841</td>\n",
       "    </tr>\n",
       "    <tr>\n",
       "      <th>36</th>\n",
       "      <td>2025-09-16</td>\n",
       "      <td>0.312005</td>\n",
       "    </tr>\n",
       "    <tr>\n",
       "      <th>37</th>\n",
       "      <td>2025-09-17</td>\n",
       "      <td>0.320251</td>\n",
       "    </tr>\n",
       "    <tr>\n",
       "      <th>38</th>\n",
       "      <td>2025-09-18</td>\n",
       "      <td>0.292520</td>\n",
       "    </tr>\n",
       "    <tr>\n",
       "      <th>39</th>\n",
       "      <td>2025-09-19</td>\n",
       "      <td>0.318054</td>\n",
       "    </tr>\n",
       "    <tr>\n",
       "      <th>40</th>\n",
       "      <td>2025-09-20</td>\n",
       "      <td>0.301818</td>\n",
       "    </tr>\n",
       "    <tr>\n",
       "      <th>41</th>\n",
       "      <td>2025-09-21</td>\n",
       "      <td>0.288660</td>\n",
       "    </tr>\n",
       "    <tr>\n",
       "      <th>42</th>\n",
       "      <td>2025-09-22</td>\n",
       "      <td>0.309524</td>\n",
       "    </tr>\n",
       "    <tr>\n",
       "      <th>43</th>\n",
       "      <td>2025-09-23</td>\n",
       "      <td>0.290221</td>\n",
       "    </tr>\n",
       "  </tbody>\n",
       "</table>\n",
       "</div>"
      ],
      "text/plain": [
       "   session_date  good_session\n",
       "0    2025-08-11      0.312835\n",
       "1    2025-08-12      0.302015\n",
       "2    2025-08-13      0.306750\n",
       "3    2025-08-14      0.316055\n",
       "4    2025-08-15      0.304941\n",
       "5    2025-08-16      0.306186\n",
       "6    2025-08-17      0.317589\n",
       "7    2025-08-18      0.310545\n",
       "8    2025-08-19      0.312840\n",
       "9    2025-08-20      0.306941\n",
       "10   2025-08-21      0.303169\n",
       "11   2025-08-22      0.313158\n",
       "12   2025-08-23      0.302077\n",
       "13   2025-08-24      0.309800\n",
       "14   2025-08-25      0.305464\n",
       "15   2025-08-26      0.310934\n",
       "16   2025-08-27      0.311120\n",
       "17   2025-08-28      0.310567\n",
       "18   2025-08-29      0.313104\n",
       "19   2025-08-30      0.313814\n",
       "20   2025-08-31      0.302503\n",
       "21   2025-09-01      0.312495\n",
       "22   2025-09-02      0.315499\n",
       "23   2025-09-03      0.304140\n",
       "24   2025-09-04      0.315501\n",
       "25   2025-09-05      0.303837\n",
       "26   2025-09-06      0.304557\n",
       "27   2025-09-07      0.312121\n",
       "28   2025-09-08      0.308811\n",
       "29   2025-09-09      0.305518\n",
       "30   2025-09-10      0.305125\n",
       "31   2025-09-11      0.304650\n",
       "32   2025-09-12      0.301585\n",
       "33   2025-09-13      0.299055\n",
       "34   2025-09-14      0.307745\n",
       "35   2025-09-15      0.305841\n",
       "36   2025-09-16      0.312005\n",
       "37   2025-09-17      0.320251\n",
       "38   2025-09-18      0.292520\n",
       "39   2025-09-19      0.318054\n",
       "40   2025-09-20      0.301818\n",
       "41   2025-09-21      0.288660\n",
       "42   2025-09-22      0.309524\n",
       "43   2025-09-23      0.290221"
      ]
     },
     "execution_count": 22,
     "metadata": {},
     "output_type": "execute_result"
    }
   ],
   "source": [
    "# Создадим отдельную таблицу для построения графика\n",
    "good_sessions = sessions_history.pivot_table(\n",
    "    index = 'session_date',\n",
    "    values = 'good_session',\n",
    "    aggfunc = 'mean'\n",
    ")\n",
    "good_sessions =  good_sessions.reset_index()\n",
    "good_sessions"
   ]
  },
  {
   "cell_type": "code",
   "execution_count": 23,
   "metadata": {},
   "outputs": [
    {
     "data": {
      "image/png": "[encoded data removed]",
      "text/plain": [
       "<Figure size 1080x504 with 1 Axes>"
      ]
     },
     "metadata": {
      "needs_background": "light"
     },
     "output_type": "display_data"
    }
   ],
   "source": [
    "# Создаем фигуру\n",
    "plt.figure(figsize=(15, 7))\n",
    "\n",
    "# Создаем первый график\n",
    "plt.plot(good_sessions['session_date'], \n",
    "        good_sessions['good_session'])\n",
    "\n",
    "# поворачиваем подписи по оси Х\n",
    "plt.xticks(rotation=90)\n",
    "\n",
    "# Добавляем название графика и подписи осей\n",
    "plt.title('Средняя доля успешных сессий по дням')\n",
    "plt.xlabel('Дата')\n",
    "plt.ylabel('Доля успешных сессий')\n",
    "\n",
    "# Включаем сетку\n",
    "plt.grid()\n",
    "\n",
    "# Отображаем графики\n",
    "plt.show()"
   ]
  },
  {
   "cell_type": "markdown",
   "metadata": {
    "id": "21JcG77Y0eMt"
   },
   "source": [
    "### 2. Подготовка к тесту\n",
    "При планировании теста необходимо проделать несколько важных шагов:\n",
    "\n",
    "- Определиться с целевой метрикой.\n",
    "\n",
    "- Рассчитать необходимый размер выборки.\n",
    "\n",
    "- Исходя из текущих значений трафика, рассчитать необходимую длительность проведения теста."
   ]
  },
  {
   "cell_type": "markdown",
   "metadata": {
    "id": "uzaeln270eMt"
   },
   "source": [
    "#### 2.1. Расчёт размера выборки\n",
    "В рамках курса вам уже приходилось рассчитывать размеры выборки, используя онлайн-калькуляторы. В этом задании предлагаем воспользоваться готовым кодом и рассчитать необходимое для вашего дизайна эксперимента количество пользователей.\n",
    "\n",
    "Для этого установите в коде ниже следующие параметры:\n",
    "\n",
    "- Уровень значимости — 0.05.\n",
    "\n",
    "- Вероятность ошибки второго рода — 0.2.\n",
    "\n",
    "- Мощность теста.\n",
    "\n",
    "- Минимальный детектируемый эффект, или MDE, — 3%. Обратите внимание, что здесь нужно указать десятичную дробь, а не процент.\n",
    "\n",
    "При расчёте размера выборки мы будем использовать метод `solve_power()` из класса `power.NormalIndPower` модуля `statsmodels.stats`.\n",
    "\n",
    "Запустите ячейку и изучите полученное значение."
   ]
  },
  {
   "cell_type": "code",
   "execution_count": 11,
   "metadata": {
    "id": "zSxJyPGPNdaI"
   },
   "outputs": [
    {
     "name": "stdout",
     "output_type": "stream",
     "text": [
      "Необходимый размер выборки для каждой группы: 17441\n"
     ]
    }
   ],
   "source": [
    "from statsmodels.stats.power import NormalIndPower\n",
    "\n",
    "# Задаём параметры\n",
    "alpha = 0.05  # Уровень значимости\n",
    "beta = 0.2  # Ошибка второго рода, часто 1 - мощность\n",
    "power = 1 - beta  # Мощность теста \n",
    "mde = 0.03 # Минимальный детектируемый эффект\n",
    "\n",
    "# Инициализируем класс NormalIndPower\n",
    "power_analysis = NormalIndPower()\n",
    "\n",
    "# Рассчитываем размер выборки\n",
    "sample_size = power_analysis.solve_power(\n",
    "    effect_size = mde,\n",
    "    power = power,\n",
    "    alpha = alpha,\n",
    "    ratio = 1 # Равномерное распределение выборок\n",
    ")\n",
    "\n",
    "print(f\"Необходимый размер выборки для каждой группы: {int(sample_size)}\")"
   ]
  },
  {
   "cell_type": "markdown",
   "metadata": {
    "id": "qLEv4RoV0eMu"
   },
   "source": [
    "#### 2.1. Расчёт длительности A/B-теста\n",
    "\n",
    "Используйте данные о количестве пользователей в каждой выборке и среднем количестве пользователей приложения. Рассчитайте длительность теста, разделив одно на другое.\n",
    "\n",
    "- Рассчитайте среднее количество уникальных пользователей приложения в день.\n",
    "\n",
    "- Определите длительность теста, исходя из рассчитанного значения размера выборок и среднего дневного трафика приложения. Количество дней округлите в большую сторону."
   ]
  },
  {
   "cell_type": "code",
   "execution_count": 12,
   "metadata": {
    "id": "KZDRbryDOGHa"
   },
   "outputs": [
    {
     "name": "stdout",
     "output_type": "stream",
     "text": [
      "Рассчитанная длительность A/B-теста при текущем уровене трафика в 9907.363636363636 пользователей в день составит 4 дней\n"
     ]
    }
   ],
   "source": [
    "from math import ceil\n",
    "\n",
    "# Среднее количество пользователей приложения в день по историческим данным\n",
    "avg_daily_users = dau_pivot['daily_active_users'].mean()\n",
    "\n",
    "# Рассчитываем длительность теста в днях как отношение размера выборки к среднему числу пользователей\n",
    "test_duration = ceil(sample_size * 2 / avg_daily_users)\n",
    "\n",
    "print(f\"Рассчитанная длительность A/B-теста при текущем уровене трафика в {avg_daily_users} пользователей в день составит {test_duration} дней\")"
   ]
  },
  {
   "cell_type": "markdown",
   "metadata": {
    "id": "ZuvtAdha0eMv"
   },
   "source": [
    "### 3. Мониторинг А/В-теста"
   ]
  },
  {
   "cell_type": "markdown",
   "metadata": {
    "id": "jq5sE3Ya0eMv"
   },
   "source": [
    "#### 3.1. Проверка распределения пользователей\n",
    "\n",
    "A/B-тест успешно запущен, и уже доступны данные за первые три дня. На этом этапе нужно убедиться, что всё идёт хорошо: пользователи разделены правильным образом, а интересующие вас метрики корректно считаются.\n",
    "\n",
    "- Считайте и сохраните в датафрейм `sessions_test_part` CSV-файл с историческими данными о сессиях пользователей `sessions_project_test_part.csv`.\n",
    "\n",
    "- Рассчитайте количество уникальных пользователей в каждой из экспериментальных групп для одного дня наблюдения.\n",
    "\n",
    "- Рассчитайте и выведите на экран процентную разницу в количестве пользователей в группах A и B. Постройте любую удобную визуализацию, на которой можно было бы увидеть возможное различие двух групп.\n",
    "\n",
    "Для расчёта процентной разницы воспользуйтесь формулой:\n",
    "$$P = 100 \\cdot  \\frac{|A − B|}{A}$$"
   ]
  },
  {
   "cell_type": "code",
   "execution_count": 13,
   "metadata": {
    "id": "G1bqIzDJOUiz"
   },
   "outputs": [
    {
     "data": {
      "text/html": [
       "<div>\n",
       "<style scoped>\n",
       "    .dataframe tbody tr th:only-of-type {\n",
       "        vertical-align: middle;\n",
       "    }\n",
       "\n",
       "    .dataframe tbody tr th {\n",
       "        vertical-align: top;\n",
       "    }\n",
       "\n",
       "    .dataframe thead th {\n",
       "        text-align: right;\n",
       "    }\n",
       "</style>\n",
       "<table border=\"1\" class=\"dataframe\">\n",
       "  <thead>\n",
       "    <tr style=\"text-align: right;\">\n",
       "      <th></th>\n",
       "      <th>user_id</th>\n",
       "      <th>session_id</th>\n",
       "      <th>session_date</th>\n",
       "      <th>session_start_ts</th>\n",
       "      <th>install_date</th>\n",
       "      <th>session_number</th>\n",
       "      <th>registration_flag</th>\n",
       "      <th>page_counter</th>\n",
       "      <th>region</th>\n",
       "      <th>device</th>\n",
       "      <th>test_group</th>\n",
       "    </tr>\n",
       "  </thead>\n",
       "  <tbody>\n",
       "    <tr>\n",
       "      <th>0</th>\n",
       "      <td>3404844B53442747</td>\n",
       "      <td>B4901323BD537E45</td>\n",
       "      <td>2025-10-14</td>\n",
       "      <td>2025-10-14 19:28:49</td>\n",
       "      <td>2025-10-14</td>\n",
       "      <td>1</td>\n",
       "      <td>0</td>\n",
       "      <td>3</td>\n",
       "      <td>CIS</td>\n",
       "      <td>Android</td>\n",
       "      <td>B</td>\n",
       "    </tr>\n",
       "    <tr>\n",
       "      <th>1</th>\n",
       "      <td>3A2BF4D364E62D89</td>\n",
       "      <td>216FC619308F8788</td>\n",
       "      <td>2025-10-14</td>\n",
       "      <td>2025-10-14 21:11:04</td>\n",
       "      <td>2025-10-14</td>\n",
       "      <td>1</td>\n",
       "      <td>0</td>\n",
       "      <td>3</td>\n",
       "      <td>MENA</td>\n",
       "      <td>iPhone</td>\n",
       "      <td>A</td>\n",
       "    </tr>\n",
       "    <tr>\n",
       "      <th>2</th>\n",
       "      <td>79CDAE11E32B1597</td>\n",
       "      <td>EDFCE4AC1A504074</td>\n",
       "      <td>2025-10-14</td>\n",
       "      <td>2025-10-14 21:44:03</td>\n",
       "      <td>2025-10-14</td>\n",
       "      <td>1</td>\n",
       "      <td>0</td>\n",
       "      <td>3</td>\n",
       "      <td>CIS</td>\n",
       "      <td>iPhone</td>\n",
       "      <td>A</td>\n",
       "    </tr>\n",
       "    <tr>\n",
       "      <th>3</th>\n",
       "      <td>D6AF8D78297A931F</td>\n",
       "      <td>CF0AC0EEDE92C690</td>\n",
       "      <td>2025-10-14</td>\n",
       "      <td>2025-10-14 19:07:55</td>\n",
       "      <td>2025-10-14</td>\n",
       "      <td>1</td>\n",
       "      <td>0</td>\n",
       "      <td>4</td>\n",
       "      <td>CIS</td>\n",
       "      <td>PC</td>\n",
       "      <td>A</td>\n",
       "    </tr>\n",
       "    <tr>\n",
       "      <th>4</th>\n",
       "      <td>37E0CE723AE568E0</td>\n",
       "      <td>2E6ED45E8C86C4E9</td>\n",
       "      <td>2025-10-14</td>\n",
       "      <td>2025-10-14 15:39:44</td>\n",
       "      <td>2025-10-14</td>\n",
       "      <td>1</td>\n",
       "      <td>0</td>\n",
       "      <td>3</td>\n",
       "      <td>CIS</td>\n",
       "      <td>Mac</td>\n",
       "      <td>B</td>\n",
       "    </tr>\n",
       "  </tbody>\n",
       "</table>\n",
       "</div>"
      ],
      "text/plain": [
       "            user_id        session_id session_date     session_start_ts  \\\n",
       "0  3404844B53442747  B4901323BD537E45   2025-10-14  2025-10-14 19:28:49   \n",
       "1  3A2BF4D364E62D89  216FC619308F8788   2025-10-14  2025-10-14 21:11:04   \n",
       "2  79CDAE11E32B1597  EDFCE4AC1A504074   2025-10-14  2025-10-14 21:44:03   \n",
       "3  D6AF8D78297A931F  CF0AC0EEDE92C690   2025-10-14  2025-10-14 19:07:55   \n",
       "4  37E0CE723AE568E0  2E6ED45E8C86C4E9   2025-10-14  2025-10-14 15:39:44   \n",
       "\n",
       "  install_date  session_number  registration_flag  page_counter region  \\\n",
       "0   2025-10-14               1                  0             3    CIS   \n",
       "1   2025-10-14               1                  0             3   MENA   \n",
       "2   2025-10-14               1                  0             3    CIS   \n",
       "3   2025-10-14               1                  0             4    CIS   \n",
       "4   2025-10-14               1                  0             3    CIS   \n",
       "\n",
       "    device test_group  \n",
       "0  Android          B  \n",
       "1   iPhone          A  \n",
       "2   iPhone          A  \n",
       "3       PC          A  \n",
       "4      Mac          B  "
      ]
     },
     "execution_count": 13,
     "metadata": {},
     "output_type": "execute_result"
    }
   ],
   "source": [
    "# сохраним путь к файлу в строковой переменной\n",
    "sessions_project_test_part = 'https://code.s3.yandex.net//datasets/sessions_project_test_part.csv'\n",
    "# теперь прочитаем и сохраним его\n",
    "sessions_test_part = pd.read_csv(sessions_project_test_part)\n",
    "# выведем первые строки\n",
    "sessions_test_part.head(5)"
   ]
  },
  {
   "cell_type": "code",
   "execution_count": 15,
   "metadata": {},
   "outputs": [
    {
     "data": {
      "text/plain": [
       "'Количество пользователей в группе А - 1477, в группе В - 1466'"
      ]
     },
     "metadata": {},
     "output_type": "display_data"
    },
    {
     "data": {
      "text/plain": [
       "'Процентная разница количества пользователей в группах - 0.74%'"
      ]
     },
     "metadata": {},
     "output_type": "display_data"
    }
   ],
   "source": [
    "# Рассчитаем кол-во пользователей в каждой группе\n",
    "users_a = sessions_test_part[sessions_test_part['test_group'] == 'A']['user_id'].nunique()\n",
    "users_b = sessions_test_part[sessions_test_part['test_group'] == 'B']['user_id'].nunique()\n",
    "perc_dif = 100*(users_a - users_b) / users_a\n",
    "display(f'Количество пользователей в группе А - {users_a}, в группе В - {users_b}')\n",
    "display(f'Процентная разница количества пользователей в группах - {round(perc_dif, 2)}%')"
   ]
  },
  {
   "cell_type": "code",
   "execution_count": 17,
   "metadata": {},
   "outputs": [
    {
     "data": {
      "image/png": "[encoded data removed]",
      "text/plain": [
       "<Figure size 720x504 with 1 Axes>"
      ]
     },
     "metadata": {
      "needs_background": "light"
     },
     "output_type": "display_data"
    }
   ],
   "source": [
    "# Создаём контейнер графика matplotlib и задаём его размер\n",
    "plt.figure(figsize=(10, 7))\n",
    "\n",
    "# Строим столбчатую диаграмму\n",
    "plt.bar(['A', 'B'], [users_a, users_b], color=['orange', 'blue'])\n",
    "\n",
    "# Добавляем название графика и подписи осей\n",
    "plt.title('Количество уникальных пользователей в группах А и В')\n",
    "plt.xlabel('Группа')\n",
    "plt.ylabel('Количество уникальных пользователей')\n",
    "\n",
    "# Выводим график\n",
    "plt.show()"
   ]
  },
  {
   "cell_type": "markdown",
   "metadata": {
    "id": "sgpNY5bv0eM0"
   },
   "source": [
    "#### 3.2. Проверка пересечений пользователей\n",
    "Помимо проверки равенства количества пользователей в группах полезно убедиться в том, что группы независимы. Для этого нужно убедиться, что никто из пользователей случайно не попал в обе группы одновременно.\n",
    "\n",
    "- Рассчитайте количество пользователей, которые встречаются одновременно в группах A и B, или убедитесь, что таких нет."
   ]
  },
  {
   "cell_type": "code",
   "execution_count": 18,
   "metadata": {
    "id": "E72ozN9FOX1u"
   },
   "outputs": [
    {
     "data": {
      "text/plain": [
       "'Количество пользователей, попавших в обе тестовые группы: 0'"
      ]
     },
     "metadata": {},
     "output_type": "display_data"
    }
   ],
   "source": [
    "# создадим множества идентификаторов пользователей в группах А и В, а затем посчитаем длину их пересечения\n",
    "set_a = set(sessions_test_part[sessions_test_part['test_group'] == 'A']['user_id'].unique())\n",
    "set_b = set(sessions_test_part[sessions_test_part['test_group'] == 'B']['user_id'].unique())\n",
    "display(f'Количество пользователей, попавших в обе тестовые группы: {len(set_a.intersection(set_b))}')"
   ]
  },
  {
   "cell_type": "markdown",
   "metadata": {
    "id": "6RvkNLrg0eM1"
   },
   "source": [
    "#### 3.3. Равномерность разделения пользователей по устройствам\n",
    "Полезно также убедиться в том, что пользователи равномерно распределены по всем доступным категориальным переменным — типам устройства и регионам.\n",
    "\n",
    "Постройте две диаграммы:\n",
    "\n",
    "- доля каждого типа устройства для пользователей из группы A,\n",
    "\n",
    "- доля каждого типа устройства для пользователей из группы B.\n",
    "\n",
    "Постарайтесь добавить на диаграммы все необходимые подписи, пояснения и заголовки, которые позволят сделать вывод о том, совпадает ли распределение устройств в группах A и B.\n"
   ]
  },
  {
   "cell_type": "code",
   "execution_count": 34,
   "metadata": {
    "id": "x_IP6PUNPWHC",
    "scrolled": false
   },
   "outputs": [
    {
     "data": {
      "image/png": "[encoded data removed]",
      "text/plain": [
       "<Figure size 720x504 with 1 Axes>"
      ]
     },
     "metadata": {
      "needs_background": "light"
     },
     "output_type": "display_data"
    }
   ],
   "source": [
    "'''Построим две столбчатые диаграммы на одном графике, чтобы более \n",
    "наглядно показать, совпадает ли распределение устройств в группах А и В.\n",
    "Для этого используем группировку по полю test_group'''\n",
    "\n",
    "sessions_test_part.groupby('test_group')['device'].value_counts(normalize=True).unstack(fill_value=0).plot(\n",
    "               kind='bar', \n",
    "               rot=0,\n",
    "               legend=True,\n",
    "               title=f'Доля каждого типа устройства для пользователей',\n",
    "               figsize=(10, 7)\n",
    ")\n",
    "\n",
    "# Настраиваем оформление графика\n",
    "plt.xlabel('Тестовая группа')\n",
    "plt.ylabel('Доля пользователей')\n",
    "# Добавляем сетку графика\n",
    "plt.grid()\n",
    "# Выводим график\n",
    "plt.show()"
   ]
  },
  {
   "cell_type": "markdown",
   "metadata": {},
   "source": [
    "**Промежуточный вывод:** в целом, в обеих тестовых группах распределение по устройствам выглядит похоже: большая часть пользователей пользуется устройствами Android, наименьшая - Mac. В абсолютных значениях есть различия, однако они всё равно близки друг к другу, а также могут быть связаны с различием в размерах выборок."
   ]
  },
  {
   "cell_type": "markdown",
   "metadata": {
    "id": "gAgmP6vo0eM1"
   },
   "source": [
    "#### 3.4. Равномерность распределения пользователей по регионам\n",
    "Теперь убедитесь, что пользователи равномерно распределены по регионам.\n",
    "\n",
    "Постройте две диаграммы:\n",
    "\n",
    "- доля каждого региона для пользователей из группы A,\n",
    "\n",
    "- доля каждого региона для пользователей из группы B.\n",
    "\n",
    "Постарайтесь добавить на диаграммы все необходимые подписи, пояснения и заголовки, которые позволят сделать вывод о том, совпадает ли распределение регионов в группах A и B. Постарайтесь использовать другой тип диаграммы, не тот, что в прошлом задании.\n"
   ]
  },
  {
   "cell_type": "code",
   "execution_count": 39,
   "metadata": {
    "id": "3hAq-FG4OdYM"
   },
   "outputs": [
    {
     "data": {
      "image/png": "[encoded data removed]",
      "text/plain": [
       "<Figure size 720x504 with 1 Axes>"
      ]
     },
     "metadata": {
      "needs_background": "light"
     },
     "output_type": "display_data"
    }
   ],
   "source": [
    "# Не смогла подобрать ничего более удачного, чем столбчатая диаграмма, для визуализации этой задачи\n",
    "sessions_test_part.groupby('test_group')['region'].value_counts(normalize=True).unstack(fill_value=0).plot(\n",
    "               kind='bar', \n",
    "               rot=0,\n",
    "               legend=True,\n",
    "               title=f'Доля каждого типа региона для пользователей',\n",
    "               figsize=(10, 7)\n",
    ")\n",
    "\n",
    "# Настраиваем оформление графика\n",
    "plt.xlabel('Тестовая группа')\n",
    "plt.ylabel('Доля пользователей')\n",
    "# Добавляем сетку графика\n",
    "plt.grid()\n",
    "# Выводим график\n",
    "plt.show()"
   ]
  },
  {
   "cell_type": "markdown",
   "metadata": {},
   "source": [
    "**Промежуточный вывод:** распределение пользователей по регионам в тестовых группах различается. В группе А большинство пользователей из стран СНГ, а в группе В - из стран среднего востока и северной Африки. Доля европейских пользователей в обеих группах совпадает."
   ]
  },
  {
   "cell_type": "markdown",
   "metadata": {
    "id": "X2WSZ-sDrSUi"
   },
   "source": [
    "#### 3.5. Вывод после проверки A/B-теста\n",
    "\n",
    "На основе проведённого анализа A/B-теста сформулируйте и запишите свои выводы. В выводе обязательно укажите:\n",
    "\n",
    "- Были ли обнаружено различие в количестве пользователей в двух группах.\n",
    "\n",
    "- Являются ли выборки независимыми. Было ли обнаружено пересечение пользователей из тестовой и контрольной групп.\n",
    "\n",
    "- Сохраняется ли равномерное распределение пользователей тестовой и контрольной групп по категориальным переменным: устройствам и регионам.\n",
    "\n",
    "Сделайте заключение о том, корректно ли проходит A/B-тест или наблюдаются какие-либо нарушения."
   ]
  },
  {
   "cell_type": "markdown",
   "metadata": {
    "id": "dDELHlAcOi8d"
   },
   "source": [
    "**Вывод по результатам проверки А/В-теста:**\n",
    "1. В группе А на 0.74% больше пользователей, чем в группе В. На данный момент такое различие в выборках можно считать некритичным.\n",
    "2. Пользователей, попавших в обе тестовые группы, не обнаружено.\n",
    "3. Распределение пользователей по типам устройств в обеих группах совпадает.\n",
    "4. Распределение пользователей по регионам в группах различается. Это может быть связано с различием в размерах выборок, однако о данной проблеме стоит дать знать разработчикам.\n",
    "\n",
    "А/В-тест, в целом, проходит корректно, весомых причин для его остановки нет, однако стоит пересмотреть распределение пользователей по группам для более равномерного их распределения по регионам."
   ]
  },
  {
   "cell_type": "markdown",
   "metadata": {
    "id": "nudRr_BQ0eM2"
   },
   "source": [
    "### 4. Проверка результатов A/B-теста\n",
    "\n",
    "A/B-тест завершён, и у вас есть результаты за все дни проведения эксперимента. Необходимо убедиться в корректности теста и верно интерпретировать результаты."
   ]
  },
  {
   "cell_type": "markdown",
   "metadata": {
    "id": "JVve-YBB0eM2"
   },
   "source": [
    "#### 4.1. Получение результатов теста и подсчёт основной метрики\n",
    "\n",
    "- Считайте и сохраните в датафрейм `sessions_test` CSV-файл с историческими данными о сессиях пользователей `sessions_project_test.csv`.\n",
    "\n",
    "- В датафрейме `sessions_test` создайте дополнительный столбец `good_session`. В него войдёт значение `1`, если за одну сессию было просмотрено 4 и более страниц, и значение `0`, если просмотрено меньше."
   ]
  },
  {
   "cell_type": "code",
   "execution_count": 40,
   "metadata": {
    "id": "EqRlwMtKPTir"
   },
   "outputs": [
    {
     "data": {
      "text/html": [
       "<div>\n",
       "<style scoped>\n",
       "    .dataframe tbody tr th:only-of-type {\n",
       "        vertical-align: middle;\n",
       "    }\n",
       "\n",
       "    .dataframe tbody tr th {\n",
       "        vertical-align: top;\n",
       "    }\n",
       "\n",
       "    .dataframe thead th {\n",
       "        text-align: right;\n",
       "    }\n",
       "</style>\n",
       "<table border=\"1\" class=\"dataframe\">\n",
       "  <thead>\n",
       "    <tr style=\"text-align: right;\">\n",
       "      <th></th>\n",
       "      <th>user_id</th>\n",
       "      <th>session_id</th>\n",
       "      <th>session_date</th>\n",
       "      <th>session_start_ts</th>\n",
       "      <th>install_date</th>\n",
       "      <th>session_number</th>\n",
       "      <th>registration_flag</th>\n",
       "      <th>page_counter</th>\n",
       "      <th>region</th>\n",
       "      <th>device</th>\n",
       "      <th>test_group</th>\n",
       "    </tr>\n",
       "  </thead>\n",
       "  <tbody>\n",
       "    <tr>\n",
       "      <th>0</th>\n",
       "      <td>6DAE3B3654DA738E</td>\n",
       "      <td>C69249E26E58F6E2</td>\n",
       "      <td>2025-10-26</td>\n",
       "      <td>2025-10-26 18:15:05</td>\n",
       "      <td>2025-10-16</td>\n",
       "      <td>3</td>\n",
       "      <td>0</td>\n",
       "      <td>3</td>\n",
       "      <td>MENA</td>\n",
       "      <td>Android</td>\n",
       "      <td>A</td>\n",
       "    </tr>\n",
       "    <tr>\n",
       "      <th>1</th>\n",
       "      <td>0A3FE5D1DD59110A</td>\n",
       "      <td>66D66D7C9F5181B7</td>\n",
       "      <td>2025-10-21</td>\n",
       "      <td>2025-10-21 17:04:53</td>\n",
       "      <td>2025-10-15</td>\n",
       "      <td>2</td>\n",
       "      <td>1</td>\n",
       "      <td>2</td>\n",
       "      <td>CIS</td>\n",
       "      <td>Android</td>\n",
       "      <td>B</td>\n",
       "    </tr>\n",
       "    <tr>\n",
       "      <th>2</th>\n",
       "      <td>2041F1D7AA740B88</td>\n",
       "      <td>50DE51D42215E74C</td>\n",
       "      <td>2025-10-23</td>\n",
       "      <td>2025-10-23 17:39:29</td>\n",
       "      <td>2025-10-19</td>\n",
       "      <td>3</td>\n",
       "      <td>0</td>\n",
       "      <td>2</td>\n",
       "      <td>MENA</td>\n",
       "      <td>Android</td>\n",
       "      <td>A</td>\n",
       "    </tr>\n",
       "    <tr>\n",
       "      <th>3</th>\n",
       "      <td>43D7585009168086</td>\n",
       "      <td>5763C0C353C22263</td>\n",
       "      <td>2025-10-24</td>\n",
       "      <td>2025-10-24 15:01:57</td>\n",
       "      <td>2025-10-18</td>\n",
       "      <td>4</td>\n",
       "      <td>0</td>\n",
       "      <td>1</td>\n",
       "      <td>CIS</td>\n",
       "      <td>iPhone</td>\n",
       "      <td>B</td>\n",
       "    </tr>\n",
       "    <tr>\n",
       "      <th>4</th>\n",
       "      <td>15AD68B14D62D88C</td>\n",
       "      <td>B1AD09F93C1053BC</td>\n",
       "      <td>2025-10-17</td>\n",
       "      <td>2025-10-17 17:34:39</td>\n",
       "      <td>2025-10-17</td>\n",
       "      <td>1</td>\n",
       "      <td>0</td>\n",
       "      <td>2</td>\n",
       "      <td>MENA</td>\n",
       "      <td>Android</td>\n",
       "      <td>B</td>\n",
       "    </tr>\n",
       "  </tbody>\n",
       "</table>\n",
       "</div>"
      ],
      "text/plain": [
       "            user_id        session_id session_date     session_start_ts  \\\n",
       "0  6DAE3B3654DA738E  C69249E26E58F6E2   2025-10-26  2025-10-26 18:15:05   \n",
       "1  0A3FE5D1DD59110A  66D66D7C9F5181B7   2025-10-21  2025-10-21 17:04:53   \n",
       "2  2041F1D7AA740B88  50DE51D42215E74C   2025-10-23  2025-10-23 17:39:29   \n",
       "3  43D7585009168086  5763C0C353C22263   2025-10-24  2025-10-24 15:01:57   \n",
       "4  15AD68B14D62D88C  B1AD09F93C1053BC   2025-10-17  2025-10-17 17:34:39   \n",
       "\n",
       "  install_date  session_number  registration_flag  page_counter region  \\\n",
       "0   2025-10-16               3                  0             3   MENA   \n",
       "1   2025-10-15               2                  1             2    CIS   \n",
       "2   2025-10-19               3                  0             2   MENA   \n",
       "3   2025-10-18               4                  0             1    CIS   \n",
       "4   2025-10-17               1                  0             2   MENA   \n",
       "\n",
       "    device test_group  \n",
       "0  Android          A  \n",
       "1  Android          B  \n",
       "2  Android          A  \n",
       "3   iPhone          B  \n",
       "4  Android          B  "
      ]
     },
     "execution_count": 40,
     "metadata": {},
     "output_type": "execute_result"
    }
   ],
   "source": [
    "# сохраним путь к файлу в строковой переменной\n",
    "sessions_project_test = 'https://code.s3.yandex.net//datasets/sessions_project_test.csv'\n",
    "# теперь прочитаем и сохраним его\n",
    "sessions_test = pd.read_csv(sessions_project_test)\n",
    "# выведем первые строки\n",
    "sessions_test.head(5)"
   ]
  },
  {
   "cell_type": "code",
   "execution_count": 41,
   "metadata": {},
   "outputs": [
    {
     "data": {
      "text/html": [
       "<div>\n",
       "<style scoped>\n",
       "    .dataframe tbody tr th:only-of-type {\n",
       "        vertical-align: middle;\n",
       "    }\n",
       "\n",
       "    .dataframe tbody tr th {\n",
       "        vertical-align: top;\n",
       "    }\n",
       "\n",
       "    .dataframe thead th {\n",
       "        text-align: right;\n",
       "    }\n",
       "</style>\n",
       "<table border=\"1\" class=\"dataframe\">\n",
       "  <thead>\n",
       "    <tr style=\"text-align: right;\">\n",
       "      <th></th>\n",
       "      <th>user_id</th>\n",
       "      <th>session_id</th>\n",
       "      <th>session_date</th>\n",
       "      <th>session_start_ts</th>\n",
       "      <th>install_date</th>\n",
       "      <th>session_number</th>\n",
       "      <th>registration_flag</th>\n",
       "      <th>page_counter</th>\n",
       "      <th>region</th>\n",
       "      <th>device</th>\n",
       "      <th>test_group</th>\n",
       "      <th>good_session</th>\n",
       "    </tr>\n",
       "  </thead>\n",
       "  <tbody>\n",
       "    <tr>\n",
       "      <th>0</th>\n",
       "      <td>6DAE3B3654DA738E</td>\n",
       "      <td>C69249E26E58F6E2</td>\n",
       "      <td>2025-10-26</td>\n",
       "      <td>2025-10-26 18:15:05</td>\n",
       "      <td>2025-10-16</td>\n",
       "      <td>3</td>\n",
       "      <td>0</td>\n",
       "      <td>3</td>\n",
       "      <td>MENA</td>\n",
       "      <td>Android</td>\n",
       "      <td>A</td>\n",
       "      <td>0</td>\n",
       "    </tr>\n",
       "    <tr>\n",
       "      <th>1</th>\n",
       "      <td>0A3FE5D1DD59110A</td>\n",
       "      <td>66D66D7C9F5181B7</td>\n",
       "      <td>2025-10-21</td>\n",
       "      <td>2025-10-21 17:04:53</td>\n",
       "      <td>2025-10-15</td>\n",
       "      <td>2</td>\n",
       "      <td>1</td>\n",
       "      <td>2</td>\n",
       "      <td>CIS</td>\n",
       "      <td>Android</td>\n",
       "      <td>B</td>\n",
       "      <td>0</td>\n",
       "    </tr>\n",
       "    <tr>\n",
       "      <th>2</th>\n",
       "      <td>2041F1D7AA740B88</td>\n",
       "      <td>50DE51D42215E74C</td>\n",
       "      <td>2025-10-23</td>\n",
       "      <td>2025-10-23 17:39:29</td>\n",
       "      <td>2025-10-19</td>\n",
       "      <td>3</td>\n",
       "      <td>0</td>\n",
       "      <td>2</td>\n",
       "      <td>MENA</td>\n",
       "      <td>Android</td>\n",
       "      <td>A</td>\n",
       "      <td>0</td>\n",
       "    </tr>\n",
       "    <tr>\n",
       "      <th>3</th>\n",
       "      <td>43D7585009168086</td>\n",
       "      <td>5763C0C353C22263</td>\n",
       "      <td>2025-10-24</td>\n",
       "      <td>2025-10-24 15:01:57</td>\n",
       "      <td>2025-10-18</td>\n",
       "      <td>4</td>\n",
       "      <td>0</td>\n",
       "      <td>1</td>\n",
       "      <td>CIS</td>\n",
       "      <td>iPhone</td>\n",
       "      <td>B</td>\n",
       "      <td>0</td>\n",
       "    </tr>\n",
       "    <tr>\n",
       "      <th>4</th>\n",
       "      <td>15AD68B14D62D88C</td>\n",
       "      <td>B1AD09F93C1053BC</td>\n",
       "      <td>2025-10-17</td>\n",
       "      <td>2025-10-17 17:34:39</td>\n",
       "      <td>2025-10-17</td>\n",
       "      <td>1</td>\n",
       "      <td>0</td>\n",
       "      <td>2</td>\n",
       "      <td>MENA</td>\n",
       "      <td>Android</td>\n",
       "      <td>B</td>\n",
       "      <td>0</td>\n",
       "    </tr>\n",
       "  </tbody>\n",
       "</table>\n",
       "</div>"
      ],
      "text/plain": [
       "            user_id        session_id session_date     session_start_ts  \\\n",
       "0  6DAE3B3654DA738E  C69249E26E58F6E2   2025-10-26  2025-10-26 18:15:05   \n",
       "1  0A3FE5D1DD59110A  66D66D7C9F5181B7   2025-10-21  2025-10-21 17:04:53   \n",
       "2  2041F1D7AA740B88  50DE51D42215E74C   2025-10-23  2025-10-23 17:39:29   \n",
       "3  43D7585009168086  5763C0C353C22263   2025-10-24  2025-10-24 15:01:57   \n",
       "4  15AD68B14D62D88C  B1AD09F93C1053BC   2025-10-17  2025-10-17 17:34:39   \n",
       "\n",
       "  install_date  session_number  registration_flag  page_counter region  \\\n",
       "0   2025-10-16               3                  0             3   MENA   \n",
       "1   2025-10-15               2                  1             2    CIS   \n",
       "2   2025-10-19               3                  0             2   MENA   \n",
       "3   2025-10-18               4                  0             1    CIS   \n",
       "4   2025-10-17               1                  0             2   MENA   \n",
       "\n",
       "    device test_group  good_session  \n",
       "0  Android          A             0  \n",
       "1  Android          B             0  \n",
       "2  Android          A             0  \n",
       "3   iPhone          B             0  \n",
       "4  Android          B             0  "
      ]
     },
     "execution_count": 41,
     "metadata": {},
     "output_type": "execute_result"
    }
   ],
   "source": [
    "# Добавим новый столбец, используя лямбда-функцию\n",
    "sessions_test['good_session'] = sessions_test['page_counter'].apply(lambda x: 1 if x >= 4 else 0)\n",
    "sessions_test.head(5)"
   ]
  },
  {
   "cell_type": "markdown",
   "metadata": {
    "id": "aeYhrMYy0eM2"
   },
   "source": [
    "#### 4.2. Проверка корректности результатов теста\n",
    "\n",
    "Прежде чем приступать к анализу ключевых продуктовых метрик, необходимо убедиться, что тест проведён корректно и вы будете сравнивать две сопоставимые группы.\n",
    "\n",
    "- Рассчитайте количество уникальных сессий для каждого дня и обеих тестовых групп, используя группировку.\n",
    "\n",
    "- Проверьте, что количество уникальных дневных сессий в двух выборках не различается или различия не статистически значимы. Используйте статистический тест, который позволит сделать вывод о равенстве средних двух выборок.\n",
    "\n",
    "- В качестве ответа выведите на экран полученное значение p-value и интерпретируйте его."
   ]
  },
  {
   "cell_type": "code",
   "execution_count": 80,
   "metadata": {
    "id": "5NUlcltkTTSU",
    "scrolled": true
   },
   "outputs": [
    {
     "data": {
      "text/plain": [
       "session_date\n",
       "2025-10-14    1502\n",
       "2025-10-15    2235\n",
       "2025-10-16    3280\n",
       "2025-10-17    4089\n",
       "2025-10-18    5013\n",
       "2025-10-19    6535\n",
       "2025-10-20    5837\n",
       "2025-10-21    3927\n",
       "2025-10-22    3083\n",
       "2025-10-23    2470\n",
       "2025-10-24    2090\n",
       "2025-10-25    1897\n",
       "2025-10-26    1669\n",
       "2025-10-27    1454\n",
       "2025-10-28    1279\n",
       "2025-10-29    1068\n",
       "2025-10-30     887\n",
       "2025-10-31     644\n",
       "2025-11-01     434\n",
       "2025-11-02     158\n",
       "Name: session_id, dtype: int64"
      ]
     },
     "metadata": {},
     "output_type": "display_data"
    },
    {
     "data": {
      "text/plain": [
       "session_date\n",
       "2025-10-14    1628\n",
       "2025-10-15    2283\n",
       "2025-10-16    3241\n",
       "2025-10-17    4054\n",
       "2025-10-18    5059\n",
       "2025-10-19    6779\n",
       "2025-10-20    6089\n",
       "2025-10-21    3981\n",
       "2025-10-22    3111\n",
       "2025-10-23    2548\n",
       "2025-10-24    2068\n",
       "2025-10-25    1814\n",
       "2025-10-26    1692\n",
       "2025-10-27    1517\n",
       "2025-10-28    1289\n",
       "2025-10-29    1131\n",
       "2025-10-30     876\n",
       "2025-10-31     669\n",
       "2025-11-01     465\n",
       "2025-11-02     160\n",
       "Name: session_id, dtype: int64"
      ]
     },
     "metadata": {},
     "output_type": "display_data"
    }
   ],
   "source": [
    "# Рассчитаем кол-во пользователей в каждой группе\n",
    "test_session_a = sessions_test[sessions_test['test_group'] == 'A'].groupby('session_date')['session_id'].nunique()\n",
    "test_session_b = sessions_test[sessions_test['test_group'] == 'B'].groupby('session_date')['session_id'].nunique()\n",
    "\n",
    "display(test_session_a, test_session_b)"
   ]
  },
  {
   "cell_type": "code",
   "execution_count": 81,
   "metadata": {},
   "outputs": [
    {
     "data": {
      "text/plain": [
       "'Количество участвовавших в тесте сессий: в группе А - 49551, в группе В - 50454.'"
      ]
     },
     "metadata": {},
     "output_type": "display_data"
    },
    {
     "data": {
      "text/plain": [
       "'Общее количество участвоваших в тесте сессий: 100005.'"
      ]
     },
     "metadata": {},
     "output_type": "display_data"
    }
   ],
   "source": [
    "display(f'Количество участвовавших в тесте сессий: в группе А - {test_session_a.sum()}, в группе В - {test_session_b.sum()}.')\n",
    "display(f'Общее количество участвоваших в тесте сессий: {test_session_a.sum() + test_session_b.sum()}.')"
   ]
  },
  {
   "cell_type": "markdown",
   "metadata": {},
   "source": [
    "**Проверим гипотезу:**\n",
    "\n",
    "0. Нулевая: колличество сессий для тестовых групп одинаково\n",
    "1. Альтернативная: колличество сессий для тестовых групп различается\n",
    "\n",
    "Для проверки гипотезы используем двусторонний тест Стьюдента"
   ]
  },
  {
   "cell_type": "code",
   "execution_count": 58,
   "metadata": {},
   "outputs": [
    {
     "name": "stdout",
     "output_type": "stream",
     "text": [
      "p-value теста Стьюдента = 0.94\n",
      "Нулевая гипотеза находит подтверждение! Колличество сессий в группах A и B одинаково.\n"
     ]
    }
   ],
   "source": [
    "from scipy.stats import ttest_ind\n",
    "\n",
    "metric_a = test_session_a ## выборка целевой метрики для группы A\n",
    "metric_b = test_session_b ## выборка целевой метрики для группы B\n",
    "\n",
    "alpha = 0.05\n",
    "stat_ttest, p_value_ttest = ttest_ind(\n",
    "    metric_a, \n",
    "    metric_b, \n",
    "    alternative='two-sided'\n",
    ")\n",
    "\n",
    "if p_value_ttest>alpha:\n",
    "    print(f'p-value теста Стьюдента = {round(p_value_ttest, 2)}')\n",
    "    print('Нулевая гипотеза находит подтверждение! Колличество сессий в группах A и B одинаково.')\n",
    "else:\n",
    "    print(f'p-value теста Стьюдента = {round(p_value_ttest, 2)}')\n",
    "    print('Нулевая гипотеза не находит подтверждения! Колличество сессий в группах A и B различается.')"
   ]
  },
  {
   "cell_type": "markdown",
   "metadata": {
    "id": "7kwRxzg70eM3"
   },
   "source": [
    "#### 4.3. Сравнение доли успешных сессий\n",
    "\n",
    "Когда вы убедились, что количество сессий в обеих выборках не различалось, можно переходить к анализу ключевой метрики — доли успешных сессий.\n",
    "\n",
    "Используйте созданный на первом шаге задания столбец `good_session` и рассчитайте долю успешных сессий для выборок A и B, а также разницу в этом показателе. Полученный вывод отобразите на экране."
   ]
  },
  {
   "cell_type": "code",
   "execution_count": 71,
   "metadata": {
    "id": "Uku-V1CpPRCz"
   },
   "outputs": [
    {
     "data": {
      "text/plain": [
       "'Колличество успешных сессий в группе А - 30.77%, в группе В - 31.83%.'"
      ]
     },
     "metadata": {},
     "output_type": "display_data"
    },
    {
     "data": {
      "text/plain": [
       "'Разница колличества успешных сессий в группах - 1.06%'"
      ]
     },
     "metadata": {},
     "output_type": "display_data"
    }
   ],
   "source": [
    "a_good_sessions = sessions_test[sessions_test['test_group'] == 'A']['good_session'].mean()*100\n",
    "b_good_sessions = sessions_test[sessions_test['test_group'] == 'B']['good_session'].mean()*100\n",
    "\n",
    "display(f'Колличество успешных сессий в группе А - {round(a_good_sessions, 2)}%, в группе В - {round(b_good_sessions, 2)}%.')\n",
    "display(f'Разница колличества успешных сессий в группах - {round(b_good_sessions - a_good_sessions, 2)}%')"
   ]
  },
  {
   "cell_type": "code",
   "execution_count": 73,
   "metadata": {},
   "outputs": [
    {
     "data": {
      "text/plain": [
       "'Колличество успешных сессий в группе А - 15248%, в группе В - 16059%.'"
      ]
     },
     "metadata": {},
     "output_type": "display_data"
    },
    {
     "data": {
      "text/plain": [
       "'Разница колличества успешных сессий в группах - 811%'"
      ]
     },
     "metadata": {},
     "output_type": "display_data"
    }
   ],
   "source": [
    "a_good_sessions = sessions_test[(sessions_test['test_group'] == 'A')&(sessions_test['good_session'] == 1)].shape[0]\n",
    "b_good_sessions = sessions_test[(sessions_test['test_group'] == 'B')&(sessions_test['good_session'] == 1)].shape[0]\n",
    "\n",
    "display(f'Колличество успешных сессий в группе А - {round(a_good_sessions, 2)}%, в группе В - {round(b_good_sessions, 2)}%.')\n",
    "display(f'Разница колличества успешных сессий в группах - {round(b_good_sessions - a_good_sessions, 2)}%')"
   ]
  },
  {
   "cell_type": "markdown",
   "metadata": {
    "id": "9fMFuja10eM4"
   },
   "source": [
    "#### 4.4. Насколько статистически значимо изменение ключевой метрики\n",
    "\n",
    "На предыдущем шаге вы убедились, что количество успешных сессий в тестовой выборке примерно на 1.1% выше, чем в контрольной, но делать выводы только на основе этого значения будет некорректно. Для принятия решения всегда необходимо отвечать на вопрос: является ли это изменение статистически значимым.\n",
    "\n",
    "- Используя статистический тест, рассчитайте, является ли изменение в метрике доли успешных сессий статистически значимым.\n",
    "\n",
    "- Выведите на экран полученное значение p-value и свои выводы о статистической значимости. Напомним, что уровень значимости в эксперименте был выбран на уровне 0.05."
   ]
  },
  {
   "cell_type": "markdown",
   "metadata": {},
   "source": [
    "**Проверим гипотезу:**\n",
    "\n",
    "0. Нулевая: изменение в метрике доли успешных сессия не является статистически значимым\n",
    "1. Альтернативная: изменение в метрике доли успешных сессия является статистически значимым\n",
    "\n",
    "Для проверки гипотезы используем Z-тест"
   ]
  },
  {
   "cell_type": "code",
   "execution_count": 78,
   "metadata": {
    "id": "gFvhRGwlPLS0"
   },
   "outputs": [
    {
     "name": "stdout",
     "output_type": "stream",
     "text": [
      "pvalue=0.0003 < 0.05\n",
      "Принимается альтернативная гипотеза!\n",
      "Интерпретация: изменение в метрике доли успешных сессия является статистически значимым\n"
     ]
    }
   ],
   "source": [
    "import numpy as np\n",
    "from statsmodels.stats.proportion import proportions_ztest\n",
    "\n",
    "alpha = 0.05\n",
    "\n",
    "n_a = sessions_test[sessions_test['test_group'] == 'A'].shape[0]\n",
    "n_b = sessions_test[sessions_test['test_group'] == 'B'].shape[0]\n",
    "\n",
    "m_a = sessions_test[sessions_test['test_group'] == 'A']['good_session'].sum()\n",
    "m_b = sessions_test[sessions_test['test_group'] == 'B']['good_session'].sum()\n",
    "\n",
    "stat_ztest, p_value_ztest = proportions_ztest(\n",
    "    [m_a, m_b],\n",
    "    [n_a, n_b],\n",
    "    alternative='two-sided'\n",
    ")\n",
    "p_value_ztest\n",
    "\n",
    "if p_value_ztest > alpha:\n",
    "    print(f'pvalue={round(p_value_ztest, 4)} > {alpha}')\n",
    "    print('Принимается нулевая гипотеза!')\n",
    "    print('Интерпретация: изменение в метрике доли успешных сессия не является статистически значимым')\n",
    "else:\n",
    "    print(f'pvalue={round(p_value_ztest, 4)} < {alpha}')\n",
    "    print('Принимается альтернативная гипотеза!')\n",
    "    print('Интерпретация: изменение в метрике доли успешных сессия является статистически значимым')\n"
   ]
  },
  {
   "cell_type": "markdown",
   "metadata": {
    "id": "GnJrkY9Q63zS"
   },
   "source": [
    "#### 4.5. Вывод по результатам A/B-эксперимента\n",
    "\n",
    "На основе проведённого анализа результатов теста сформулируйте и запишите свои выводы для команды разработки приложения. В выводе обязательно укажите:\n",
    "\n",
    "- Характеристики проведённого эксперимента, количество задействованных пользователей и длительность эксперимента.\n",
    "\n",
    "- Повлияло ли внедрение нового алгоритма рекомендаций на рост ключевой метрики и как.\n",
    "\n",
    "- Каким получилось значение p-value для оценки статистической значимости выявленного эффекта.\n",
    "\n",
    "- Стоит ли внедрять новоовведение в приложение."
   ]
  },
  {
   "cell_type": "markdown",
   "metadata": {
    "id": "rri8KRIgPMrW"
   },
   "source": [
    "**Итоговые выводы**\n",
    "\n",
    "Характеристики проведённого А/В-теста:\n",
    "1. Количество задействованных сессий: 10 005, из них в группе А - 49 551, в группе В - 50 454.\n",
    "2. Длительность эксперимента: 20 дней.\n",
    "\n",
    "В результате внедрения нового алгоритма рекомендаций доля успешных сессий выросла с 30.77% (в контрольной группе) до 31.83% (в тестовой группе). Рост ключевой метрики составил порядка 1.06%. Для оценки статистической значимости разницы значение p-value получилось равным 0.0003. По результатам проведённого А/В-теста можно предположить, что тестируемое нововведение является успешным и его можно внедрять в приложение."
   ]
  },
  {
   "cell_type": "code",
   "execution_count": null,
   "metadata": {},
   "outputs": [],
   "source": []
  }
 ],
 "metadata": {
  "ExecuteTimeLog": [
   {
    "duration": 48,
    "start_time": "2025-05-26T11:58:47.267Z"
   },
   {
    "duration": 477,
    "start_time": "2025-05-26T11:59:18.742Z"
   },
   {
    "duration": 47,
    "start_time": "2025-05-26T11:59:28.231Z"
   },
   {
    "duration": 2184,
    "start_time": "2025-05-26T12:01:42.735Z"
   },
   {
    "duration": 10,
    "start_time": "2025-05-26T12:04:45.240Z"
   },
   {
    "duration": 10,
    "start_time": "2025-05-26T12:04:57.951Z"
   },
   {
    "duration": 10614,
    "start_time": "2025-05-26T12:05:08.412Z"
   },
   {
    "duration": 10481,
    "start_time": "2025-05-26T12:05:37.497Z"
   },
   {
    "duration": 10364,
    "start_time": "2025-05-26T12:06:42.274Z"
   },
   {
    "duration": 10838,
    "start_time": "2025-05-26T12:10:09.717Z"
   },
   {
    "duration": 10781,
    "start_time": "2025-05-26T12:10:37.084Z"
   },
   {
    "duration": 320,
    "start_time": "2025-05-26T12:11:15.618Z"
   },
   {
    "duration": 306,
    "start_time": "2025-05-26T12:11:26.000Z"
   },
   {
    "duration": 340,
    "start_time": "2025-05-26T12:12:03.680Z"
   },
   {
    "duration": 4515,
    "start_time": "2025-05-27T10:59:46.255Z"
   },
   {
    "duration": 396,
    "start_time": "2025-05-27T10:59:50.773Z"
   },
   {
    "duration": 390,
    "start_time": "2025-05-27T11:00:33.017Z"
   },
   {
    "duration": 373,
    "start_time": "2025-05-27T11:00:41.562Z"
   },
   {
    "duration": 381,
    "start_time": "2025-05-27T11:03:01.745Z"
   },
   {
    "duration": 73,
    "start_time": "2025-05-27T11:09:05.486Z"
   },
   {
    "duration": 24,
    "start_time": "2025-05-27T11:09:31.510Z"
   },
   {
    "duration": 81,
    "start_time": "2025-05-27T11:10:07.107Z"
   },
   {
    "duration": 75,
    "start_time": "2025-05-27T11:13:09.432Z"
   },
   {
    "duration": 79,
    "start_time": "2025-05-27T11:13:30.146Z"
   },
   {
    "duration": 78,
    "start_time": "2025-05-27T11:15:24.212Z"
   },
   {
    "duration": 536,
    "start_time": "2025-05-27T11:20:07.306Z"
   },
   {
    "duration": 310,
    "start_time": "2025-05-27T11:22:37.596Z"
   },
   {
    "duration": 501,
    "start_time": "2025-05-27T11:32:42.445Z"
   },
   {
    "duration": 534,
    "start_time": "2025-05-27T11:33:30.413Z"
   },
   {
    "duration": 142,
    "start_time": "2025-05-27T11:35:36.721Z"
   },
   {
    "duration": 67,
    "start_time": "2025-05-27T11:36:01.215Z"
   },
   {
    "duration": 109,
    "start_time": "2025-05-27T11:36:11.544Z"
   },
   {
    "duration": 154,
    "start_time": "2025-05-27T11:36:19.756Z"
   },
   {
    "duration": 457,
    "start_time": "2025-05-27T11:36:30.767Z"
   },
   {
    "duration": 10,
    "start_time": "2025-05-27T11:37:05.079Z"
   },
   {
    "duration": 12,
    "start_time": "2025-05-27T11:37:21.254Z"
   },
   {
    "duration": 504,
    "start_time": "2025-05-27T11:37:38.070Z"
   },
   {
    "duration": 502,
    "start_time": "2025-05-27T11:37:54.794Z"
   },
   {
    "duration": 517,
    "start_time": "2025-05-27T11:39:35.269Z"
   },
   {
    "duration": 258,
    "start_time": "2025-05-27T11:40:01.323Z"
   },
   {
    "duration": 176,
    "start_time": "2025-05-27T11:40:24.415Z"
   },
   {
    "duration": 532,
    "start_time": "2025-05-27T11:40:33.640Z"
   },
   {
    "duration": 504,
    "start_time": "2025-05-27T11:42:04.001Z"
   },
   {
    "duration": 504,
    "start_time": "2025-05-27T11:42:11.825Z"
   },
   {
    "duration": 508,
    "start_time": "2025-05-27T11:42:36.034Z"
   },
   {
    "duration": 623,
    "start_time": "2025-05-27T11:45:22.306Z"
   },
   {
    "duration": 616,
    "start_time": "2025-05-27T11:50:33.237Z"
   },
   {
    "duration": 23,
    "start_time": "2025-05-27T11:51:45.352Z"
   },
   {
    "duration": 700,
    "start_time": "2025-05-27T11:52:39.135Z"
   },
   {
    "duration": 97,
    "start_time": "2025-05-27T11:58:02.977Z"
   },
   {
    "duration": 80,
    "start_time": "2025-05-27T12:02:38.431Z"
   },
   {
    "duration": 151,
    "start_time": "2025-05-27T12:08:50.740Z"
   },
   {
    "duration": 151,
    "start_time": "2025-05-27T12:09:04.906Z"
   },
   {
    "duration": 193,
    "start_time": "2025-05-27T12:09:47.442Z"
   },
   {
    "duration": 154,
    "start_time": "2025-05-27T12:10:42.882Z"
   },
   {
    "duration": 3,
    "start_time": "2025-05-27T12:10:59.712Z"
   },
   {
    "duration": 2183,
    "start_time": "2025-05-27T12:10:59.717Z"
   },
   {
    "duration": 328,
    "start_time": "2025-05-27T12:11:01.902Z"
   },
   {
    "duration": 75,
    "start_time": "2025-05-27T12:11:02.231Z"
   },
   {
    "duration": 547,
    "start_time": "2025-05-27T12:11:02.308Z"
   },
   {
    "duration": 532,
    "start_time": "2025-05-27T12:11:02.857Z"
   },
   {
    "duration": 52,
    "start_time": "2025-05-27T12:11:03.391Z"
   },
   {
    "duration": 511,
    "start_time": "2025-05-27T12:11:03.445Z"
   },
   {
    "duration": 570,
    "start_time": "2025-05-27T12:11:03.958Z"
   },
   {
    "duration": 0,
    "start_time": "2025-05-27T12:11:04.530Z"
   },
   {
    "duration": 846,
    "start_time": "2025-05-27T19:36:14.016Z"
   },
   {
    "duration": 2415,
    "start_time": "2025-05-27T19:36:15.625Z"
   },
   {
    "duration": 374,
    "start_time": "2025-05-27T19:36:19.215Z"
   },
   {
    "duration": 95,
    "start_time": "2025-05-27T19:36:24.581Z"
   },
   {
    "duration": 616,
    "start_time": "2025-05-27T19:36:29.149Z"
   },
   {
    "duration": 598,
    "start_time": "2025-05-27T19:36:32.949Z"
   },
   {
    "duration": 68,
    "start_time": "2025-05-27T19:36:39.779Z"
   },
   {
    "duration": 169,
    "start_time": "2025-05-27T19:36:43.739Z"
   },
   {
    "duration": 97677,
    "start_time": "2025-05-27T19:47:11.786Z"
   },
   {
    "duration": 82307,
    "start_time": "2025-05-27T19:48:50.282Z"
   },
   {
    "duration": 1467,
    "start_time": "2025-05-27T19:51:29.196Z"
   },
   {
    "duration": 36,
    "start_time": "2025-05-27T19:51:38.795Z"
   },
   {
    "duration": 144,
    "start_time": "2025-05-27T20:01:28.150Z"
   },
   {
    "duration": 155,
    "start_time": "2025-05-27T20:03:09.012Z"
   },
   {
    "duration": 227,
    "start_time": "2025-05-27T20:05:47.863Z"
   },
   {
    "duration": 10,
    "start_time": "2025-05-27T20:07:37.292Z"
   },
   {
    "duration": 66,
    "start_time": "2025-05-27T20:07:54.117Z"
   },
   {
    "duration": 48,
    "start_time": "2025-05-27T20:08:15.340Z"
   },
   {
    "duration": 547,
    "start_time": "2025-05-27T20:08:25.233Z"
   },
   {
    "duration": 525,
    "start_time": "2025-05-27T20:09:45.214Z"
   },
   {
    "duration": 555,
    "start_time": "2025-05-27T20:11:52.927Z"
   },
   {
    "duration": 15,
    "start_time": "2025-05-27T20:19:03.377Z"
   },
   {
    "duration": 5,
    "start_time": "2025-05-27T20:22:10.313Z"
   },
   {
    "duration": 107,
    "start_time": "2025-05-27T20:27:25.545Z"
   },
   {
    "duration": 6,
    "start_time": "2025-05-27T20:29:34.326Z"
   },
   {
    "duration": 9,
    "start_time": "2025-05-27T20:30:41.350Z"
   },
   {
    "duration": 10,
    "start_time": "2025-05-27T20:34:24.762Z"
   },
   {
    "duration": 10,
    "start_time": "2025-05-27T20:34:39.551Z"
   },
   {
    "duration": 13,
    "start_time": "2025-05-27T20:34:44.639Z"
   },
   {
    "duration": 10,
    "start_time": "2025-05-27T20:34:58.616Z"
   },
   {
    "duration": 10,
    "start_time": "2025-05-27T20:35:04.524Z"
   },
   {
    "duration": 172,
    "start_time": "2025-05-27T20:38:05.643Z"
   },
   {
    "duration": 162,
    "start_time": "2025-05-27T20:38:49.013Z"
   },
   {
    "duration": 128,
    "start_time": "2025-05-27T20:39:16.240Z"
   },
   {
    "duration": 159,
    "start_time": "2025-05-27T20:40:07.407Z"
   },
   {
    "duration": 140,
    "start_time": "2025-05-27T20:41:43.954Z"
   },
   {
    "duration": 140,
    "start_time": "2025-05-27T20:42:25.184Z"
   },
   {
    "duration": 97,
    "start_time": "2025-05-27T20:42:44.375Z"
   },
   {
    "duration": 134,
    "start_time": "2025-05-27T20:43:32.876Z"
   },
   {
    "duration": 130,
    "start_time": "2025-05-27T20:43:48.340Z"
   },
   {
    "duration": 9,
    "start_time": "2025-05-27T20:47:26.089Z"
   },
   {
    "duration": 8,
    "start_time": "2025-05-27T20:48:21.642Z"
   },
   {
    "duration": 9,
    "start_time": "2025-05-27T20:49:39.843Z"
   },
   {
    "duration": 226,
    "start_time": "2025-05-27T20:51:17.968Z"
   },
   {
    "duration": 145,
    "start_time": "2025-05-27T20:52:06.972Z"
   },
   {
    "duration": 146,
    "start_time": "2025-05-27T20:52:18.953Z"
   },
   {
    "duration": 138,
    "start_time": "2025-05-27T20:52:57.265Z"
   },
   {
    "duration": 147,
    "start_time": "2025-05-27T20:53:16.203Z"
   },
   {
    "duration": 182,
    "start_time": "2025-05-27T20:55:31.265Z"
   },
   {
    "duration": 68,
    "start_time": "2025-05-27T20:56:17.426Z"
   },
   {
    "duration": 194,
    "start_time": "2025-05-27T20:56:36.637Z"
   },
   {
    "duration": 104,
    "start_time": "2025-05-27T20:56:58.173Z"
   },
   {
    "duration": 195,
    "start_time": "2025-05-27T20:57:17.294Z"
   },
   {
    "duration": 156,
    "start_time": "2025-05-27T20:59:42.979Z"
   },
   {
    "duration": 175,
    "start_time": "2025-05-27T20:59:52.947Z"
   },
   {
    "duration": 845,
    "start_time": "2025-05-28T10:07:56.979Z"
   },
   {
    "duration": 1976,
    "start_time": "2025-05-28T10:07:57.827Z"
   },
   {
    "duration": 352,
    "start_time": "2025-05-28T10:07:59.805Z"
   },
   {
    "duration": 85,
    "start_time": "2025-05-28T10:08:02.401Z"
   },
   {
    "duration": 581,
    "start_time": "2025-05-28T10:08:05.350Z"
   },
   {
    "duration": 543,
    "start_time": "2025-05-28T10:08:09.927Z"
   },
   {
    "duration": 69,
    "start_time": "2025-05-28T10:08:13.560Z"
   },
   {
    "duration": 164,
    "start_time": "2025-05-28T10:08:15.726Z"
   },
   {
    "duration": 159,
    "start_time": "2025-05-28T10:08:19.222Z"
   },
   {
    "duration": 79,
    "start_time": "2025-05-28T10:08:29.442Z"
   },
   {
    "duration": 541,
    "start_time": "2025-05-28T10:08:33.376Z"
   },
   {
    "duration": 4,
    "start_time": "2025-05-28T10:08:36.754Z"
   },
   {
    "duration": 88,
    "start_time": "2025-05-28T10:08:39.448Z"
   },
   {
    "duration": 37,
    "start_time": "2025-05-28T10:08:42.808Z"
   },
   {
    "duration": 11,
    "start_time": "2025-05-28T10:08:45.124Z"
   },
   {
    "duration": 149,
    "start_time": "2025-05-28T10:08:47.472Z"
   },
   {
    "duration": 122,
    "start_time": "2025-05-28T10:10:06.475Z"
   },
   {
    "duration": 9,
    "start_time": "2025-05-28T10:10:11.432Z"
   },
   {
    "duration": 165,
    "start_time": "2025-05-28T10:10:18.877Z"
   },
   {
    "duration": 138,
    "start_time": "2025-05-28T10:10:49.601Z"
   },
   {
    "duration": 12,
    "start_time": "2025-05-28T10:11:51.908Z"
   },
   {
    "duration": 81,
    "start_time": "2025-05-28T10:11:59.440Z"
   },
   {
    "duration": 580,
    "start_time": "2025-05-28T10:12:02.312Z"
   },
   {
    "duration": 154,
    "start_time": "2025-05-28T10:12:27.392Z"
   },
   {
    "duration": 162,
    "start_time": "2025-05-28T10:14:58.899Z"
   },
   {
    "duration": 125,
    "start_time": "2025-05-28T10:16:12.398Z"
   },
   {
    "duration": 139,
    "start_time": "2025-05-28T10:16:25.221Z"
   },
   {
    "duration": 157,
    "start_time": "2025-05-28T10:17:24.439Z"
   },
   {
    "duration": 158,
    "start_time": "2025-05-28T10:18:26.776Z"
   },
   {
    "duration": 157,
    "start_time": "2025-05-28T10:19:22.229Z"
   },
   {
    "duration": 161,
    "start_time": "2025-05-28T10:19:29.592Z"
   },
   {
    "duration": 175,
    "start_time": "2025-05-28T10:20:08.147Z"
   },
   {
    "duration": 164,
    "start_time": "2025-05-28T10:20:37.160Z"
   },
   {
    "duration": 250,
    "start_time": "2025-05-28T10:22:25.177Z"
   },
   {
    "duration": 15,
    "start_time": "2025-05-28T10:27:41.614Z"
   },
   {
    "duration": 7,
    "start_time": "2025-05-28T10:28:01.367Z"
   },
   {
    "duration": 11,
    "start_time": "2025-05-28T10:28:12.384Z"
   },
   {
    "duration": 165,
    "start_time": "2025-05-28T10:42:24.448Z"
   },
   {
    "duration": 176,
    "start_time": "2025-05-28T10:43:33.497Z"
   },
   {
    "duration": 667,
    "start_time": "2025-05-28T10:55:07.378Z"
   },
   {
    "duration": 40,
    "start_time": "2025-05-28T10:55:58.676Z"
   },
   {
    "duration": 57,
    "start_time": "2025-05-28T10:59:18.212Z"
   },
   {
    "duration": 3323,
    "start_time": "2025-05-28T11:10:06.846Z"
   },
   {
    "duration": 3100,
    "start_time": "2025-05-28T11:10:57.618Z"
   },
   {
    "duration": 237,
    "start_time": "2025-05-28T11:11:19.740Z"
   },
   {
    "duration": 58,
    "start_time": "2025-05-28T11:11:32.056Z"
   },
   {
    "duration": 55,
    "start_time": "2025-05-28T11:11:43.530Z"
   },
   {
    "duration": 12,
    "start_time": "2025-05-28T11:15:01.564Z"
   },
   {
    "duration": 54,
    "start_time": "2025-05-28T11:15:07.201Z"
   },
   {
    "duration": 81,
    "start_time": "2025-05-28T11:15:20.030Z"
   },
   {
    "duration": 6,
    "start_time": "2025-05-28T11:15:32.441Z"
   },
   {
    "duration": 67,
    "start_time": "2025-05-28T11:16:34.454Z"
   },
   {
    "duration": 78,
    "start_time": "2025-05-28T11:16:47.485Z"
   },
   {
    "duration": 130,
    "start_time": "2025-05-28T11:17:37.484Z"
   },
   {
    "duration": 100,
    "start_time": "2025-05-28T11:17:46.803Z"
   },
   {
    "duration": 61,
    "start_time": "2025-05-28T11:18:18.611Z"
   },
   {
    "duration": 6,
    "start_time": "2025-05-28T11:19:22.342Z"
   },
   {
    "duration": 5,
    "start_time": "2025-05-28T11:21:38.711Z"
   },
   {
    "duration": 1518,
    "start_time": "2025-05-28T11:25:48.196Z"
   },
   {
    "duration": 33,
    "start_time": "2025-05-28T11:25:57.795Z"
   },
   {
    "duration": 34,
    "start_time": "2025-05-28T11:26:20.358Z"
   },
   {
    "duration": 34,
    "start_time": "2025-05-28T11:27:42.894Z"
   },
   {
    "duration": 37,
    "start_time": "2025-05-28T11:29:53.418Z"
   },
   {
    "duration": 34,
    "start_time": "2025-05-28T11:30:18.083Z"
   },
   {
    "duration": 63,
    "start_time": "2025-05-28T11:38:56.036Z"
   },
   {
    "duration": 71,
    "start_time": "2025-05-28T11:40:52.688Z"
   },
   {
    "duration": 63,
    "start_time": "2025-05-28T11:41:06.400Z"
   },
   {
    "duration": 60,
    "start_time": "2025-05-28T11:41:15.940Z"
   },
   {
    "duration": 58,
    "start_time": "2025-05-28T11:41:23.083Z"
   },
   {
    "duration": 36,
    "start_time": "2025-05-28T11:42:45.005Z"
   },
   {
    "duration": 36,
    "start_time": "2025-05-28T11:42:54.942Z"
   },
   {
    "duration": 54,
    "start_time": "2025-05-28T11:45:17.098Z"
   },
   {
    "duration": 29,
    "start_time": "2025-05-28T11:46:05.138Z"
   },
   {
    "duration": 61,
    "start_time": "2025-05-28T11:49:27.849Z"
   },
   {
    "duration": 62,
    "start_time": "2025-05-28T11:49:57.230Z"
   },
   {
    "duration": 63,
    "start_time": "2025-05-28T11:51:24.079Z"
   },
   {
    "duration": 60,
    "start_time": "2025-05-28T11:52:01.274Z"
   },
   {
    "duration": 61,
    "start_time": "2025-05-28T11:52:33.791Z"
   },
   {
    "duration": 69,
    "start_time": "2025-05-28T11:56:16.896Z"
   },
   {
    "duration": 66,
    "start_time": "2025-05-28T11:58:14.065Z"
   },
   {
    "duration": 6,
    "start_time": "2025-05-28T11:58:19.637Z"
   }
  ],
  "colab": {
   "provenance": []
  },
  "kernelspec": {
   "display_name": "Python 3 (ipykernel)",
   "language": "python",
   "name": "python3"
  },
  "language_info": {
   "codemirror_mode": {
    "name": "ipython",
    "version": 3
   },
   "file_extension": ".py",
   "mimetype": "text/x-python",
   "name": "python",
   "nbconvert_exporter": "python",
   "pygments_lexer": "ipython3",
   "version": "3.9.5"
  },
  "toc": {
   "base_numbering": 1,
   "nav_menu": {},
   "number_sections": true,
   "sideBar": true,
   "skip_h1_title": true,
   "title_cell": "Table of Contents",
   "title_sidebar": "Contents",
   "toc_cell": false,
   "toc_position": {},
   "toc_section_display": true,
   "toc_window_display": false
  }
 },
 "nbformat": 4,
 "nbformat_minor": 1
}
